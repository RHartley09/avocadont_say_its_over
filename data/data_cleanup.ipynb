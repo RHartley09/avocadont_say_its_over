{
 "cells": [
  {
   "cell_type": "code",
   "execution_count": 1,
   "metadata": {},
   "outputs": [],
   "source": [
    "import pandas as pd\n",
    "from sqlalchemy import create_engine\n",
    "from datetime import datetime\n",
    "from datetime import timedelta\n",
    "from config import password\n",
    "password = password"
   ]
  },
  {
   "cell_type": "code",
   "execution_count": 2,
   "metadata": {},
   "outputs": [],
   "source": [
    "transportData = \"Refrigerated_Truck_Rates_and_Availability_Full.csv\"\n",
    "AvoTransportData = \"Refrigerated_Truck_Rates_and_Availability_Avo.csv\"\n",
    "avo_data = \"avo_prices.csv\"\n",
    "gas_data = \"gas_prices.csv\"\n",
    "loadweather = \"SanDiegoWeatherData.csv\"\n",
    "bananaprices = \"banana_prices.csv\""
   ]
  },
  {
   "cell_type": "code",
   "execution_count": 3,
   "metadata": {},
   "outputs": [],
   "source": [
    "banana_prices_df = pd.read_csv(bananaprices)\n",
    "# banana_prices_df.head()"
   ]
  },
  {
   "cell_type": "code",
   "execution_count": 4,
   "metadata": {},
   "outputs": [],
   "source": [
    "initSDweather_df = pd.read_csv(loadweather)\n",
    "# initSDweather_df"
   ]
  },
  {
   "cell_type": "code",
   "execution_count": 5,
   "metadata": {},
   "outputs": [],
   "source": [
    "initial_transport_df = pd.read_csv(transportData)\n",
    "# initial_transport_df.head()"
   ]
  },
  {
   "cell_type": "code",
   "execution_count": 6,
   "metadata": {},
   "outputs": [],
   "source": [
    "initial_avo_transport_df = pd.read_csv(AvoTransportData)\n",
    "# initial_avo_transport_df.head()"
   ]
  },
  {
   "cell_type": "code",
   "execution_count": 7,
   "metadata": {},
   "outputs": [],
   "source": [
    "avo_data_df = pd.read_csv(avo_data)\n",
    "# avo_data_df.head()"
   ]
  },
  {
   "cell_type": "code",
   "execution_count": 8,
   "metadata": {},
   "outputs": [],
   "source": [
    "gas_data_df = pd.read_csv(gas_data)\n",
    "# gas_data_df.head()"
   ]
  },
  {
   "cell_type": "code",
   "execution_count": 9,
   "metadata": {},
   "outputs": [],
   "source": [
    "# Create a filtered dataframe from specific columns\n",
    "tot_transport_columns = [\"Date\", \"Origin\", \"Destination\", \"Distance\", \"Commodity\", \"Week Low\", \"Week High\", \"Midpoint\", \"Rate Per Mile\", \"Availability\"]\n",
    "tot_transport_df = initial_transport_df[tot_transport_columns].copy()\n",
    "\n",
    "# Rename the column headers\n",
    "tot_transport_df = tot_transport_df.rename(columns={\"Date\": \"date\",\n",
    "                                                        \"Origin\": \"origin\",\n",
    "                                                        \"Destination\": \"destination\",\n",
    "                                                       \"Distance\": \"transport_distance\",\n",
    "                                                       \"Commodity\": \"commodity\",\n",
    "                                                       \"Week Low\": \"low_weekly_rate\",\n",
    "                                                       \"Week High\": \"high_weekly_rate\",\n",
    "                                                       \"Midpoint\": \"average_weekly_rate\",\n",
    "                                                       \"Rate Per Mile\": \"avg_rate_per_mile_ratio\",\n",
    "                                                       \"Availability\": \"availability_score\"\n",
    "                                                   })\n",
    "\n",
    "# tot_transport_df.head()"
   ]
  },
  {
   "cell_type": "code",
   "execution_count": 10,
   "metadata": {},
   "outputs": [],
   "source": [
    "tot_transport_df['date'] = pd.to_datetime(tot_transport_df['date'])\n",
    "# tot_transport_df\n",
    "\n",
    "tot_transport_df['date'] = tot_transport_df['date'] - timedelta(days=1)\n",
    "# tot_transport_df"
   ]
  },
  {
   "cell_type": "code",
   "execution_count": 11,
   "metadata": {},
   "outputs": [],
   "source": [
    "# Create a filtered dataframe from specific columns\n",
    "avo_transport_columns = [\"Date\", \"Origin\", \"Destination\", \"Distance\", \"Commodity\", \"Week Low\", \"Week High\", \"Midpoint\", \"Rate Per Mile\", \"Availability\"]\n",
    "avo_transport_df = initial_avo_transport_df[avo_transport_columns].copy()\n",
    "\n",
    "# Rename the column headers\n",
    "avo_transport_df = avo_transport_df.rename(columns={\"Date\": \"date\",\n",
    "                                                        \"Origin\": \"origin\",\n",
    "                                                        \"Destination\": \"destination\",\n",
    "                                                       \"Distance\": \"transport_distance\",\n",
    "                                                       \"Commodity\": \"commodity\",\n",
    "                                                       \"Week Low\": \"low_weekly_rate\",\n",
    "                                                       \"Week High\": \"high_weekly_rate\",\n",
    "                                                       \"Midpoint\": \"average_weekly_rate\",\n",
    "                                                       \"Rate Per Mile\": \"avg_rate_per_mile_ratio\",\n",
    "                                                       \"Availability\": \"availability_score\"\n",
    "                                                   })\n",
    "\n",
    "# avo_transport_df.head()"
   ]
  },
  {
   "cell_type": "code",
   "execution_count": 12,
   "metadata": {},
   "outputs": [],
   "source": [
    "avo_transport_df['date'] = pd.to_datetime(avo_transport_df['date'])\n",
    "# avo_transport_df\n",
    "\n",
    "avo_transport_df['date'] = avo_transport_df['date'] - timedelta(days=2)\n",
    "# avo_transport_df"
   ]
  },
  {
   "cell_type": "code",
   "execution_count": 13,
   "metadata": {},
   "outputs": [],
   "source": [
    "avo_transport_df['date'] = avo_transport_df['date'].dt.strftime('%m/%d/%Y')\n",
    "tot_transport_df['date'] = tot_transport_df['date'].dt.strftime('%m/%d/%Y')"
   ]
  },
  {
   "cell_type": "code",
   "execution_count": 14,
   "metadata": {},
   "outputs": [],
   "source": [
    "avo_transport_df.to_csv(\"avo_transport_df.csv\", index=False, header=True)\n",
    "tot_transport_df.to_csv(\"tot_transport_df.csv\", index=False, header=True)"
   ]
  },
  {
   "cell_type": "code",
   "execution_count": 14,
   "metadata": {},
   "outputs": [],
   "source": [
    "# Create a filtered dataframe from specific columns\n",
    "avo_columns = [\"New Date\", \"AveragePrice\", \"Total Volume\", \"4046\", \"4225\", \"4770\", \"type\", \"year\", \"region\"]\n",
    "avo_transformed_df = avo_data_df[avo_columns].copy()\n",
    "\n",
    "# Rename the column headers\n",
    "avo_transformed_df = avo_transformed_df.rename(columns={\"New Date\": \"date\",\n",
    "                                                        \"AveragePrice\": \"average_price\",\n",
    "                                                        \"Total Volume\": \"total_volume\",\n",
    "                                                       \"4046\": \"small_avocados_sold\",\n",
    "                                                       \"4225\": \"large_avocados_sold\",\n",
    "                                                       \"4770\": \"xl_avocados_sold\",\n",
    "                                                       \"type\": \"type\",\n",
    "                                                       \"year\": \"year\",\n",
    "                                                       \"region\": \"region\"})\n",
    "\n",
    "# avo_transformed_df.head()"
   ]
  },
  {
   "cell_type": "code",
   "execution_count": 15,
   "metadata": {},
   "outputs": [],
   "source": [
    "# Create a filtered dataframe from specific columns\n",
    "gas_columns = [\"Date\", \"Gasoline - All Grades\", \"Regular\", \"Midgrade\", \"Premium\", \"Diesel (On-Highway) - All Types\"]\n",
    "gas_transformed_df = gas_data_df[gas_columns].copy()\n",
    "\n",
    "# Rename the column headers\n",
    "gas_transformed_df = gas_transformed_df.rename(columns={\"Date\": \"date\",\n",
    "                                                        \"Gasoline - All Grades\": \"gas_all_grades\",\n",
    "                                                        \"Regular\": \"regular\",\n",
    "                                                        \"Midgrade\": \"midgrade\",\n",
    "                                                        \"Premium\": \"premium\",\n",
    "                                                        \"Diesel (On-Highway) - All Types\": \"diesel\"})\n",
    "\n",
    "# gas_transformed_df.head()"
   ]
  },
  {
   "cell_type": "code",
   "execution_count": 16,
   "metadata": {},
   "outputs": [],
   "source": [
    "# Ensure dates have the same formatting\n",
    "avo_transformed_df['date'] = pd.to_datetime(avo_transformed_df.date)\n",
    "gas_transformed_df['date'] = pd.to_datetime(gas_transformed_df.date)\n",
    "\n",
    "avo_transformed_df['date'] = avo_transformed_df['date'].dt.strftime('%m/%d/%Y')\n",
    "gas_transformed_df['date'] = gas_transformed_df['date'].dt.strftime('%m/%d/%Y')\n",
    "\n",
    "# gas_transformed_df.head() "
   ]
  },
  {
   "cell_type": "code",
   "execution_count": 17,
   "metadata": {},
   "outputs": [],
   "source": [
    "# Filter data based on region and type\n",
    "avo_transformed_df = avo_transformed_df.loc[avo_transformed_df['region'] == 'TotalUS']\n",
    "avo_transformed_df = avo_transformed_df.loc[avo_transformed_df['type'] == 'conventional']\n",
    "# from datetime import datetime, timedelta\n",
    "\n",
    "# for date in avo_transformed_df['date']:\n",
    "#     date += timedelta(days=1)\n",
    "# avo_transformed_df.head(3)"
   ]
  },
  {
   "cell_type": "code",
   "execution_count": 18,
   "metadata": {},
   "outputs": [],
   "source": [
    "ban_columns = [\"Date\", \"Banana Price per Pound\", \"Percent Change\"]\n",
    "bananas_df = banana_prices_df[ban_columns].copy()\n",
    "\n",
    "# Rename the column headers\n",
    "bananas_df = bananas_df.rename(columns={\"Date\": \"date\",\n",
    "                                        \"Banana Price per Pound\": \"price_per_pound\",\n",
    "                                        \"Percent Change\": \"percent_change\",\n",
    "                                        })\n",
    "\n",
    "# bananas_df.head()"
   ]
  },
  {
   "cell_type": "code",
   "execution_count": 19,
   "metadata": {},
   "outputs": [],
   "source": [
    "SDweather_df = initSDweather_df[[\"dt\", \"temp\", \"rain_1h\", \"rain_3h\", \"snow_1h\", \"snow_3h\", \"weather_description\"]]\n",
    "# SDweather_df"
   ]
  },
  {
   "cell_type": "code",
   "execution_count": 20,
   "metadata": {},
   "outputs": [
    {
     "name": "stderr",
     "output_type": "stream",
     "text": [
      "<ipython-input-20-782439be5ac4>:1: SettingWithCopyWarning: \n",
      "A value is trying to be set on a copy of a slice from a DataFrame.\n",
      "Try using .loc[row_indexer,col_indexer] = value instead\n",
      "\n",
      "See the caveats in the documentation: https://pandas.pydata.org/pandas-docs/stable/user_guide/indexing.html#returning-a-view-versus-a-copy\n",
      "  SDweather_df[\"dt\"] = pd.to_datetime(SDweather_df[\"dt\"], unit=\"s\")\n"
     ]
    }
   ],
   "source": [
    "SDweather_df[\"dt\"] = pd.to_datetime(SDweather_df[\"dt\"], unit=\"s\")\n",
    "# SDweather_df"
   ]
  },
  {
   "cell_type": "code",
   "execution_count": 21,
   "metadata": {},
   "outputs": [
    {
     "name": "stderr",
     "output_type": "stream",
     "text": [
      "<ipython-input-21-b030127bf400>:1: SettingWithCopyWarning: \n",
      "A value is trying to be set on a copy of a slice from a DataFrame.\n",
      "Try using .loc[row_indexer,col_indexer] = value instead\n",
      "\n",
      "See the caveats in the documentation: https://pandas.pydata.org/pandas-docs/stable/user_guide/indexing.html#returning-a-view-versus-a-copy\n",
      "  SDweather_df['date'] = [d.date() for d in SDweather_df['dt']]\n",
      "<ipython-input-21-b030127bf400>:2: SettingWithCopyWarning: \n",
      "A value is trying to be set on a copy of a slice from a DataFrame.\n",
      "Try using .loc[row_indexer,col_indexer] = value instead\n",
      "\n",
      "See the caveats in the documentation: https://pandas.pydata.org/pandas-docs/stable/user_guide/indexing.html#returning-a-view-versus-a-copy\n",
      "  SDweather_df['time'] = [d.time() for d in SDweather_df['dt']]\n"
     ]
    }
   ],
   "source": [
    "SDweather_df['date'] = [d.date() for d in SDweather_df['dt']]\n",
    "SDweather_df['time'] = [d.time() for d in SDweather_df['dt']]\n",
    "# SDweather_df"
   ]
  },
  {
   "cell_type": "code",
   "execution_count": 22,
   "metadata": {},
   "outputs": [],
   "source": [
    "weather_columns = [\"date\", \"temp\", \"rain_1h\", \"rain_3h\", \"snow_1h\", \"snow_3h\", \"weather_description\"]\n",
    "sanDiegoWeather_df = SDweather_df[weather_columns].copy()\n",
    "# sanDiegoWeather_df"
   ]
  },
  {
   "cell_type": "code",
   "execution_count": 24,
   "metadata": {},
   "outputs": [],
   "source": [
    "avo_transformed_df = avo_transformed_df.dropna()\n",
    "gas_transformed_df = gas_transformed_df.dropna()\n",
    "tot_transport_df = tot_transport_df.dropna()\n",
    "avo_transport_df = avo_transport_df.dropna()\n",
    "bananas_df = bananas_df.dropna()\n",
    "sanDiegoWeather_df = sanDiegoWeather_df.dropna()"
   ]
  },
  {
   "cell_type": "code",
   "execution_count": 25,
   "metadata": {},
   "outputs": [],
   "source": [
    "# Create database connection\n",
    "connection_string = (f\"postgres:{password}@localhost:5432/avocado_db\")\n",
    "engine = create_engine(f'postgresql://{connection_string}')"
   ]
  },
  {
   "cell_type": "code",
   "execution_count": 26,
   "metadata": {},
   "outputs": [],
   "source": [
    "avo_transformed_df.to_sql(name='avocado', con=engine, if_exists='append', index=False)\n",
    "gas_transformed_df.to_sql(name='gas', con=engine, if_exists='append', index=False)"
   ]
  },
  {
   "cell_type": "code",
   "execution_count": 27,
   "metadata": {},
   "outputs": [],
   "source": [
    "tot_transport_df.to_sql(name='tot_transport', con=engine, if_exists='append', index=False)\n",
    "avo_transport_df.to_sql(name='avo_transport', con=engine, if_exists='append', index=False)"
   ]
  },
  {
   "cell_type": "code",
   "execution_count": 28,
   "metadata": {},
   "outputs": [],
   "source": [
    "bananas_df.to_sql(name='banana_prices', con=engine, if_exists='append', index=False)"
   ]
  },
  {
   "cell_type": "code",
   "execution_count": 29,
   "metadata": {},
   "outputs": [],
   "source": [
    "sanDiegoWeather_df.to_sql(name='san_diego', con=engine, if_exists='append', index=False)"
   ]
  },
  {
   "cell_type": "code",
   "execution_count": 30,
   "metadata": {},
   "outputs": [
    {
     "data": {
      "text/html": [
       "<div>\n",
       "<style scoped>\n",
       "    .dataframe tbody tr th:only-of-type {\n",
       "        vertical-align: middle;\n",
       "    }\n",
       "\n",
       "    .dataframe tbody tr th {\n",
       "        vertical-align: top;\n",
       "    }\n",
       "\n",
       "    .dataframe thead th {\n",
       "        text-align: right;\n",
       "    }\n",
       "</style>\n",
       "<table border=\"1\" class=\"dataframe\">\n",
       "  <thead>\n",
       "    <tr style=\"text-align: right;\">\n",
       "      <th></th>\n",
       "      <th>date</th>\n",
       "      <th>average_price</th>\n",
       "      <th>total_volume</th>\n",
       "      <th>small_avocados_sold</th>\n",
       "      <th>large_avocados_sold</th>\n",
       "      <th>xl_avocados_sold</th>\n",
       "      <th>type</th>\n",
       "      <th>year</th>\n",
       "      <th>region</th>\n",
       "    </tr>\n",
       "  </thead>\n",
       "  <tbody>\n",
       "    <tr>\n",
       "      <th>0</th>\n",
       "      <td>2015-01-05</td>\n",
       "      <td>0.95</td>\n",
       "      <td>31324277.73</td>\n",
       "      <td>12357161.34</td>\n",
       "      <td>13624083.05</td>\n",
       "      <td>844093.32</td>\n",
       "      <td>conventional</td>\n",
       "      <td>2015</td>\n",
       "      <td>TotalUS</td>\n",
       "    </tr>\n",
       "    <tr>\n",
       "      <th>1</th>\n",
       "      <td>2015-01-12</td>\n",
       "      <td>1.01</td>\n",
       "      <td>29063542.75</td>\n",
       "      <td>11544810.53</td>\n",
       "      <td>12134773.38</td>\n",
       "      <td>866574.66</td>\n",
       "      <td>conventional</td>\n",
       "      <td>2015</td>\n",
       "      <td>TotalUS</td>\n",
       "    </tr>\n",
       "    <tr>\n",
       "      <th>2</th>\n",
       "      <td>2015-01-19</td>\n",
       "      <td>1.03</td>\n",
       "      <td>29043458.85</td>\n",
       "      <td>11858139.34</td>\n",
       "      <td>11701947.80</td>\n",
       "      <td>831301.90</td>\n",
       "      <td>conventional</td>\n",
       "      <td>2015</td>\n",
       "      <td>TotalUS</td>\n",
       "    </tr>\n",
       "    <tr>\n",
       "      <th>3</th>\n",
       "      <td>2015-01-26</td>\n",
       "      <td>1.04</td>\n",
       "      <td>28470310.84</td>\n",
       "      <td>12167445.03</td>\n",
       "      <td>10734652.82</td>\n",
       "      <td>768020.05</td>\n",
       "      <td>conventional</td>\n",
       "      <td>2015</td>\n",
       "      <td>TotalUS</td>\n",
       "    </tr>\n",
       "    <tr>\n",
       "      <th>4</th>\n",
       "      <td>2015-02-02</td>\n",
       "      <td>0.89</td>\n",
       "      <td>44655461.51</td>\n",
       "      <td>18933038.04</td>\n",
       "      <td>18956479.74</td>\n",
       "      <td>1381516.11</td>\n",
       "      <td>conventional</td>\n",
       "      <td>2015</td>\n",
       "      <td>TotalUS</td>\n",
       "    </tr>\n",
       "  </tbody>\n",
       "</table>\n",
       "</div>"
      ],
      "text/plain": [
       "         date  average_price  total_volume  small_avocados_sold  \\\n",
       "0  2015-01-05           0.95   31324277.73          12357161.34   \n",
       "1  2015-01-12           1.01   29063542.75          11544810.53   \n",
       "2  2015-01-19           1.03   29043458.85          11858139.34   \n",
       "3  2015-01-26           1.04   28470310.84          12167445.03   \n",
       "4  2015-02-02           0.89   44655461.51          18933038.04   \n",
       "\n",
       "   large_avocados_sold  xl_avocados_sold          type  year   region  \n",
       "0          13624083.05         844093.32  conventional  2015  TotalUS  \n",
       "1          12134773.38         866574.66  conventional  2015  TotalUS  \n",
       "2          11701947.80         831301.90  conventional  2015  TotalUS  \n",
       "3          10734652.82         768020.05  conventional  2015  TotalUS  \n",
       "4          18956479.74        1381516.11  conventional  2015  TotalUS  "
      ]
     },
     "execution_count": 30,
     "metadata": {},
     "output_type": "execute_result"
    }
   ],
   "source": [
    "pd.read_sql_query('select * from avocado', con=engine).head()"
   ]
  },
  {
   "cell_type": "code",
   "execution_count": 31,
   "metadata": {},
   "outputs": [
    {
     "data": {
      "text/html": [
       "<div>\n",
       "<style scoped>\n",
       "    .dataframe tbody tr th:only-of-type {\n",
       "        vertical-align: middle;\n",
       "    }\n",
       "\n",
       "    .dataframe tbody tr th {\n",
       "        vertical-align: top;\n",
       "    }\n",
       "\n",
       "    .dataframe thead th {\n",
       "        text-align: right;\n",
       "    }\n",
       "</style>\n",
       "<table border=\"1\" class=\"dataframe\">\n",
       "  <thead>\n",
       "    <tr style=\"text-align: right;\">\n",
       "      <th></th>\n",
       "      <th>date</th>\n",
       "      <th>gas_all_grades</th>\n",
       "      <th>regular</th>\n",
       "      <th>midgrade</th>\n",
       "      <th>premium</th>\n",
       "      <th>diesel</th>\n",
       "    </tr>\n",
       "  </thead>\n",
       "  <tbody>\n",
       "    <tr>\n",
       "      <th>0</th>\n",
       "      <td>1994-11-28</td>\n",
       "      <td>1.117</td>\n",
       "      <td>1.105</td>\n",
       "      <td>1.197</td>\n",
       "      <td>1.303</td>\n",
       "      <td>1.126</td>\n",
       "    </tr>\n",
       "    <tr>\n",
       "      <th>1</th>\n",
       "      <td>1994-12-05</td>\n",
       "      <td>1.127</td>\n",
       "      <td>1.103</td>\n",
       "      <td>1.197</td>\n",
       "      <td>1.301</td>\n",
       "      <td>1.123</td>\n",
       "    </tr>\n",
       "    <tr>\n",
       "      <th>2</th>\n",
       "      <td>1994-12-12</td>\n",
       "      <td>1.131</td>\n",
       "      <td>1.095</td>\n",
       "      <td>1.188</td>\n",
       "      <td>1.288</td>\n",
       "      <td>1.114</td>\n",
       "    </tr>\n",
       "    <tr>\n",
       "      <th>3</th>\n",
       "      <td>1994-12-19</td>\n",
       "      <td>1.134</td>\n",
       "      <td>1.087</td>\n",
       "      <td>1.179</td>\n",
       "      <td>1.279</td>\n",
       "      <td>1.109</td>\n",
       "    </tr>\n",
       "    <tr>\n",
       "      <th>4</th>\n",
       "      <td>1994-12-26</td>\n",
       "      <td>1.125</td>\n",
       "      <td>1.077</td>\n",
       "      <td>1.171</td>\n",
       "      <td>1.270</td>\n",
       "      <td>1.106</td>\n",
       "    </tr>\n",
       "  </tbody>\n",
       "</table>\n",
       "</div>"
      ],
      "text/plain": [
       "         date  gas_all_grades  regular  midgrade  premium  diesel\n",
       "0  1994-11-28           1.117    1.105     1.197    1.303   1.126\n",
       "1  1994-12-05           1.127    1.103     1.197    1.301   1.123\n",
       "2  1994-12-12           1.131    1.095     1.188    1.288   1.114\n",
       "3  1994-12-19           1.134    1.087     1.179    1.279   1.109\n",
       "4  1994-12-26           1.125    1.077     1.171    1.270   1.106"
      ]
     },
     "execution_count": 31,
     "metadata": {},
     "output_type": "execute_result"
    }
   ],
   "source": [
    "pd.read_sql_query('select * from gas', con=engine).head()"
   ]
  },
  {
   "cell_type": "code",
   "execution_count": 32,
   "metadata": {},
   "outputs": [
    {
     "data": {
      "text/html": [
       "<div>\n",
       "<style scoped>\n",
       "    .dataframe tbody tr th:only-of-type {\n",
       "        vertical-align: middle;\n",
       "    }\n",
       "\n",
       "    .dataframe tbody tr th {\n",
       "        vertical-align: top;\n",
       "    }\n",
       "\n",
       "    .dataframe thead th {\n",
       "        text-align: right;\n",
       "    }\n",
       "</style>\n",
       "<table border=\"1\" class=\"dataframe\">\n",
       "  <thead>\n",
       "    <tr style=\"text-align: right;\">\n",
       "      <th></th>\n",
       "      <th>date</th>\n",
       "      <th>origin</th>\n",
       "      <th>destination</th>\n",
       "      <th>transport_distance</th>\n",
       "      <th>commodity</th>\n",
       "      <th>low_weekly_rate</th>\n",
       "      <th>high_weekly_rate</th>\n",
       "      <th>average_weekly_rate</th>\n",
       "      <th>avg_rate_per_mile_ratio</th>\n",
       "      <th>availability_score</th>\n",
       "    </tr>\n",
       "  </thead>\n",
       "  <tbody>\n",
       "    <tr>\n",
       "      <th>0</th>\n",
       "      <td>2020-01-06</td>\n",
       "      <td>Imperial, Palo Verde And Coachella Valleys, Ca...</td>\n",
       "      <td>ATLANTA</td>\n",
       "      <td>2100</td>\n",
       "      <td>LETTUCE, BROCCOLI, CAULIFLOWER, ROMAINE AND LE...</td>\n",
       "      <td>5000</td>\n",
       "      <td>5400</td>\n",
       "      <td>5200</td>\n",
       "      <td>2.48</td>\n",
       "      <td>5</td>\n",
       "    </tr>\n",
       "    <tr>\n",
       "      <th>1</th>\n",
       "      <td>2020-01-06</td>\n",
       "      <td>Imperial, Palo Verde And Coachella Valleys, Ca...</td>\n",
       "      <td>BALTIMORE</td>\n",
       "      <td>2600</td>\n",
       "      <td>LETTUCE, BROCCOLI, CAULIFLOWER, ROMAINE AND LE...</td>\n",
       "      <td>6400</td>\n",
       "      <td>6800</td>\n",
       "      <td>6600</td>\n",
       "      <td>2.54</td>\n",
       "      <td>5</td>\n",
       "    </tr>\n",
       "    <tr>\n",
       "      <th>2</th>\n",
       "      <td>2020-01-06</td>\n",
       "      <td>Imperial, Palo Verde And Coachella Valleys, Ca...</td>\n",
       "      <td>BOSTON</td>\n",
       "      <td>2900</td>\n",
       "      <td>LETTUCE, BROCCOLI, CAULIFLOWER, ROMAINE AND LE...</td>\n",
       "      <td>7300</td>\n",
       "      <td>7800</td>\n",
       "      <td>7550</td>\n",
       "      <td>2.60</td>\n",
       "      <td>5</td>\n",
       "    </tr>\n",
       "    <tr>\n",
       "      <th>3</th>\n",
       "      <td>2020-01-06</td>\n",
       "      <td>Imperial, Palo Verde And Coachella Valleys, Ca...</td>\n",
       "      <td>CHICAGO</td>\n",
       "      <td>2030</td>\n",
       "      <td>LETTUCE, BROCCOLI, CAULIFLOWER, ROMAINE AND LE...</td>\n",
       "      <td>4700</td>\n",
       "      <td>5200</td>\n",
       "      <td>4950</td>\n",
       "      <td>2.44</td>\n",
       "      <td>5</td>\n",
       "    </tr>\n",
       "    <tr>\n",
       "      <th>4</th>\n",
       "      <td>2020-01-06</td>\n",
       "      <td>Imperial, Palo Verde And Coachella Valleys, Ca...</td>\n",
       "      <td>DALLAS</td>\n",
       "      <td>1300</td>\n",
       "      <td>LETTUCE, BROCCOLI, CAULIFLOWER, ROMAINE AND LE...</td>\n",
       "      <td>3600</td>\n",
       "      <td>4100</td>\n",
       "      <td>3850</td>\n",
       "      <td>2.96</td>\n",
       "      <td>5</td>\n",
       "    </tr>\n",
       "  </tbody>\n",
       "</table>\n",
       "</div>"
      ],
      "text/plain": [
       "         date                                             origin destination  \\\n",
       "0  2020-01-06  Imperial, Palo Verde And Coachella Valleys, Ca...     ATLANTA   \n",
       "1  2020-01-06  Imperial, Palo Verde And Coachella Valleys, Ca...   BALTIMORE   \n",
       "2  2020-01-06  Imperial, Palo Verde And Coachella Valleys, Ca...      BOSTON   \n",
       "3  2020-01-06  Imperial, Palo Verde And Coachella Valleys, Ca...     CHICAGO   \n",
       "4  2020-01-06  Imperial, Palo Verde And Coachella Valleys, Ca...      DALLAS   \n",
       "\n",
       "   transport_distance                                          commodity  \\\n",
       "0                2100  LETTUCE, BROCCOLI, CAULIFLOWER, ROMAINE AND LE...   \n",
       "1                2600  LETTUCE, BROCCOLI, CAULIFLOWER, ROMAINE AND LE...   \n",
       "2                2900  LETTUCE, BROCCOLI, CAULIFLOWER, ROMAINE AND LE...   \n",
       "3                2030  LETTUCE, BROCCOLI, CAULIFLOWER, ROMAINE AND LE...   \n",
       "4                1300  LETTUCE, BROCCOLI, CAULIFLOWER, ROMAINE AND LE...   \n",
       "\n",
       "   low_weekly_rate  high_weekly_rate  average_weekly_rate  \\\n",
       "0             5000              5400                 5200   \n",
       "1             6400              6800                 6600   \n",
       "2             7300              7800                 7550   \n",
       "3             4700              5200                 4950   \n",
       "4             3600              4100                 3850   \n",
       "\n",
       "   avg_rate_per_mile_ratio  availability_score  \n",
       "0                     2.48                   5  \n",
       "1                     2.54                   5  \n",
       "2                     2.60                   5  \n",
       "3                     2.44                   5  \n",
       "4                     2.96                   5  "
      ]
     },
     "execution_count": 32,
     "metadata": {},
     "output_type": "execute_result"
    }
   ],
   "source": [
    "pd.read_sql_query('select * from tot_transport', con=engine).head()"
   ]
  },
  {
   "cell_type": "code",
   "execution_count": 33,
   "metadata": {},
   "outputs": [
    {
     "data": {
      "text/html": [
       "<div>\n",
       "<style scoped>\n",
       "    .dataframe tbody tr th:only-of-type {\n",
       "        vertical-align: middle;\n",
       "    }\n",
       "\n",
       "    .dataframe tbody tr th {\n",
       "        vertical-align: top;\n",
       "    }\n",
       "\n",
       "    .dataframe thead th {\n",
       "        text-align: right;\n",
       "    }\n",
       "</style>\n",
       "<table border=\"1\" class=\"dataframe\">\n",
       "  <thead>\n",
       "    <tr style=\"text-align: right;\">\n",
       "      <th></th>\n",
       "      <th>date</th>\n",
       "      <th>origin</th>\n",
       "      <th>destination</th>\n",
       "      <th>transport_distance</th>\n",
       "      <th>commodity</th>\n",
       "      <th>low_weekly_rate</th>\n",
       "      <th>high_weekly_rate</th>\n",
       "      <th>average_weekly_rate</th>\n",
       "      <th>avg_rate_per_mile_ratio</th>\n",
       "      <th>availability_score</th>\n",
       "    </tr>\n",
       "  </thead>\n",
       "  <tbody>\n",
       "    <tr>\n",
       "      <th>0</th>\n",
       "      <td>2015-05-10</td>\n",
       "      <td>South District California</td>\n",
       "      <td>ATLANTA</td>\n",
       "      <td>2100</td>\n",
       "      <td>CITRUS AND AVOCADOS</td>\n",
       "      <td>5200</td>\n",
       "      <td>6000</td>\n",
       "      <td>5550</td>\n",
       "      <td>2.64</td>\n",
       "      <td>3</td>\n",
       "    </tr>\n",
       "    <tr>\n",
       "      <th>1</th>\n",
       "      <td>2015-05-10</td>\n",
       "      <td>South District California</td>\n",
       "      <td>BALTIMORE</td>\n",
       "      <td>2600</td>\n",
       "      <td>CITRUS AND AVOCADOS</td>\n",
       "      <td>6500</td>\n",
       "      <td>7300</td>\n",
       "      <td>6650</td>\n",
       "      <td>2.56</td>\n",
       "      <td>3</td>\n",
       "    </tr>\n",
       "    <tr>\n",
       "      <th>2</th>\n",
       "      <td>2015-05-10</td>\n",
       "      <td>South District California</td>\n",
       "      <td>BOSTON</td>\n",
       "      <td>2900</td>\n",
       "      <td>CITRUS AND AVOCADOS</td>\n",
       "      <td>7200</td>\n",
       "      <td>7800</td>\n",
       "      <td>7350</td>\n",
       "      <td>2.53</td>\n",
       "      <td>3</td>\n",
       "    </tr>\n",
       "    <tr>\n",
       "      <th>3</th>\n",
       "      <td>2015-05-10</td>\n",
       "      <td>South District California</td>\n",
       "      <td>CHICAGO</td>\n",
       "      <td>2030</td>\n",
       "      <td>CITRUS AND AVOCADOS</td>\n",
       "      <td>4500</td>\n",
       "      <td>5200</td>\n",
       "      <td>4850</td>\n",
       "      <td>2.39</td>\n",
       "      <td>3</td>\n",
       "    </tr>\n",
       "    <tr>\n",
       "      <th>4</th>\n",
       "      <td>2015-05-10</td>\n",
       "      <td>South District California</td>\n",
       "      <td>DALLAS</td>\n",
       "      <td>1300</td>\n",
       "      <td>CITRUS AND AVOCADOS</td>\n",
       "      <td>4000</td>\n",
       "      <td>4200</td>\n",
       "      <td>4100</td>\n",
       "      <td>3.15</td>\n",
       "      <td>3</td>\n",
       "    </tr>\n",
       "  </tbody>\n",
       "</table>\n",
       "</div>"
      ],
      "text/plain": [
       "         date                     origin destination  transport_distance  \\\n",
       "0  2015-05-10  South District California     ATLANTA                2100   \n",
       "1  2015-05-10  South District California   BALTIMORE                2600   \n",
       "2  2015-05-10  South District California      BOSTON                2900   \n",
       "3  2015-05-10  South District California     CHICAGO                2030   \n",
       "4  2015-05-10  South District California      DALLAS                1300   \n",
       "\n",
       "             commodity  low_weekly_rate  high_weekly_rate  \\\n",
       "0  CITRUS AND AVOCADOS             5200              6000   \n",
       "1  CITRUS AND AVOCADOS             6500              7300   \n",
       "2  CITRUS AND AVOCADOS             7200              7800   \n",
       "3  CITRUS AND AVOCADOS             4500              5200   \n",
       "4  CITRUS AND AVOCADOS             4000              4200   \n",
       "\n",
       "   average_weekly_rate  avg_rate_per_mile_ratio  availability_score  \n",
       "0                 5550                     2.64                   3  \n",
       "1                 6650                     2.56                   3  \n",
       "2                 7350                     2.53                   3  \n",
       "3                 4850                     2.39                   3  \n",
       "4                 4100                     3.15                   3  "
      ]
     },
     "execution_count": 33,
     "metadata": {},
     "output_type": "execute_result"
    }
   ],
   "source": [
    "pd.read_sql_query('select * from avo_transport', con=engine).head()"
   ]
  },
  {
   "cell_type": "code",
   "execution_count": 34,
   "metadata": {},
   "outputs": [
    {
     "data": {
      "text/html": [
       "<div>\n",
       "<style scoped>\n",
       "    .dataframe tbody tr th:only-of-type {\n",
       "        vertical-align: middle;\n",
       "    }\n",
       "\n",
       "    .dataframe tbody tr th {\n",
       "        vertical-align: top;\n",
       "    }\n",
       "\n",
       "    .dataframe thead th {\n",
       "        text-align: right;\n",
       "    }\n",
       "</style>\n",
       "<table border=\"1\" class=\"dataframe\">\n",
       "  <thead>\n",
       "    <tr style=\"text-align: right;\">\n",
       "      <th></th>\n",
       "      <th>date</th>\n",
       "      <th>price_per_pound</th>\n",
       "      <th>percent_change</th>\n",
       "    </tr>\n",
       "  </thead>\n",
       "  <tbody>\n",
       "    <tr>\n",
       "      <th>0</th>\n",
       "      <td>2016-01-01</td>\n",
       "      <td>0.581</td>\n",
       "      <td>-0.3</td>\n",
       "    </tr>\n",
       "    <tr>\n",
       "      <th>1</th>\n",
       "      <td>2016-02-01</td>\n",
       "      <td>0.573</td>\n",
       "      <td>-3.0</td>\n",
       "    </tr>\n",
       "    <tr>\n",
       "      <th>2</th>\n",
       "      <td>2016-03-01</td>\n",
       "      <td>0.586</td>\n",
       "      <td>-1.2</td>\n",
       "    </tr>\n",
       "    <tr>\n",
       "      <th>3</th>\n",
       "      <td>2016-04-01</td>\n",
       "      <td>0.574</td>\n",
       "      <td>-3.9</td>\n",
       "    </tr>\n",
       "    <tr>\n",
       "      <th>4</th>\n",
       "      <td>2016-05-01</td>\n",
       "      <td>0.570</td>\n",
       "      <td>-2.1</td>\n",
       "    </tr>\n",
       "  </tbody>\n",
       "</table>\n",
       "</div>"
      ],
      "text/plain": [
       "         date  price_per_pound  percent_change\n",
       "0  2016-01-01            0.581            -0.3\n",
       "1  2016-02-01            0.573            -3.0\n",
       "2  2016-03-01            0.586            -1.2\n",
       "3  2016-04-01            0.574            -3.9\n",
       "4  2016-05-01            0.570            -2.1"
      ]
     },
     "execution_count": 34,
     "metadata": {},
     "output_type": "execute_result"
    }
   ],
   "source": [
    "pd.read_sql_query('select * from banana_prices', con=engine).head()"
   ]
  },
  {
   "cell_type": "code",
   "execution_count": 35,
   "metadata": {},
   "outputs": [
    {
     "data": {
      "text/html": [
       "<div>\n",
       "<style scoped>\n",
       "    .dataframe tbody tr th:only-of-type {\n",
       "        vertical-align: middle;\n",
       "    }\n",
       "\n",
       "    .dataframe tbody tr th {\n",
       "        vertical-align: top;\n",
       "    }\n",
       "\n",
       "    .dataframe thead th {\n",
       "        text-align: right;\n",
       "    }\n",
       "</style>\n",
       "<table border=\"1\" class=\"dataframe\">\n",
       "  <thead>\n",
       "    <tr style=\"text-align: right;\">\n",
       "      <th></th>\n",
       "      <th>date</th>\n",
       "      <th>temp</th>\n",
       "      <th>rain_1h</th>\n",
       "      <th>rain_3h</th>\n",
       "      <th>snow_1h</th>\n",
       "      <th>snow_3h</th>\n",
       "      <th>weather_description</th>\n",
       "    </tr>\n",
       "  </thead>\n",
       "  <tbody>\n",
       "  </tbody>\n",
       "</table>\n",
       "</div>"
      ],
      "text/plain": [
       "Empty DataFrame\n",
       "Columns: [date, temp, rain_1h, rain_3h, snow_1h, snow_3h, weather_description]\n",
       "Index: []"
      ]
     },
     "execution_count": 35,
     "metadata": {},
     "output_type": "execute_result"
    }
   ],
   "source": [
    "pd.read_sql_query('select * from san_diego', con=engine).head()"
   ]
  },
  {
   "cell_type": "code",
   "execution_count": 36,
   "metadata": {},
   "outputs": [
    {
     "data": {
      "text/html": [
       "<div>\n",
       "<style scoped>\n",
       "    .dataframe tbody tr th:only-of-type {\n",
       "        vertical-align: middle;\n",
       "    }\n",
       "\n",
       "    .dataframe tbody tr th {\n",
       "        vertical-align: top;\n",
       "    }\n",
       "\n",
       "    .dataframe thead th {\n",
       "        text-align: right;\n",
       "    }\n",
       "</style>\n",
       "<table border=\"1\" class=\"dataframe\">\n",
       "  <thead>\n",
       "    <tr style=\"text-align: right;\">\n",
       "      <th></th>\n",
       "      <th>temp</th>\n",
       "      <th>rain_1h</th>\n",
       "      <th>rain_3h</th>\n",
       "      <th>snow_1h</th>\n",
       "      <th>snow_3h</th>\n",
       "    </tr>\n",
       "    <tr>\n",
       "      <th>date</th>\n",
       "      <th></th>\n",
       "      <th></th>\n",
       "      <th></th>\n",
       "      <th></th>\n",
       "      <th></th>\n",
       "    </tr>\n",
       "  </thead>\n",
       "  <tbody>\n",
       "  </tbody>\n",
       "</table>\n",
       "</div>"
      ],
      "text/plain": [
       "Empty DataFrame\n",
       "Columns: [temp, rain_1h, rain_3h, snow_1h, snow_3h]\n",
       "Index: []"
      ]
     },
     "execution_count": 36,
     "metadata": {},
     "output_type": "execute_result"
    }
   ],
   "source": [
    "SDgroup = sanDiegoWeather_df.groupby(['date']).sum()\n",
    "SDgroup"
   ]
  },
  {
   "cell_type": "code",
   "execution_count": 37,
   "metadata": {},
   "outputs": [
    {
     "data": {
      "text/html": [
       "<div>\n",
       "<style scoped>\n",
       "    .dataframe tbody tr th:only-of-type {\n",
       "        vertical-align: middle;\n",
       "    }\n",
       "\n",
       "    .dataframe tbody tr th {\n",
       "        vertical-align: top;\n",
       "    }\n",
       "\n",
       "    .dataframe thead th {\n",
       "        text-align: right;\n",
       "    }\n",
       "</style>\n",
       "<table border=\"1\" class=\"dataframe\">\n",
       "  <thead>\n",
       "    <tr style=\"text-align: right;\">\n",
       "      <th></th>\n",
       "      <th>date</th>\n",
       "      <th>temp</th>\n",
       "      <th>rain_1h</th>\n",
       "      <th>rain_3h</th>\n",
       "      <th>snow_1h</th>\n",
       "      <th>snow_3h</th>\n",
       "    </tr>\n",
       "  </thead>\n",
       "  <tbody>\n",
       "  </tbody>\n",
       "</table>\n",
       "</div>"
      ],
      "text/plain": [
       "Empty DataFrame\n",
       "Columns: [date, temp, rain_1h, rain_3h, snow_1h, snow_3h]\n",
       "Index: []"
      ]
     },
     "execution_count": 37,
     "metadata": {},
     "output_type": "execute_result"
    }
   ],
   "source": [
    "SDgroup2 = SDgroup.reset_index()\n",
    "SDgroup2"
   ]
  },
  {
   "cell_type": "code",
   "execution_count": 39,
   "metadata": {},
   "outputs": [],
   "source": [
    "SDgroup2 = SDgroup2.dropna()"
   ]
  },
  {
   "cell_type": "code",
   "execution_count": 40,
   "metadata": {},
   "outputs": [],
   "source": [
    "SDgroup2.to_sql(name='san_diego2', con=engine, if_exists='append', index=False)"
   ]
  },
  {
   "cell_type": "code",
   "execution_count": 41,
   "metadata": {},
   "outputs": [
    {
     "data": {
      "text/html": [
       "<div>\n",
       "<style scoped>\n",
       "    .dataframe tbody tr th:only-of-type {\n",
       "        vertical-align: middle;\n",
       "    }\n",
       "\n",
       "    .dataframe tbody tr th {\n",
       "        vertical-align: top;\n",
       "    }\n",
       "\n",
       "    .dataframe thead th {\n",
       "        text-align: right;\n",
       "    }\n",
       "</style>\n",
       "<table border=\"1\" class=\"dataframe\">\n",
       "  <thead>\n",
       "    <tr style=\"text-align: right;\">\n",
       "      <th></th>\n",
       "      <th>date</th>\n",
       "      <th>temp</th>\n",
       "      <th>rain_1h</th>\n",
       "      <th>rain_3h</th>\n",
       "      <th>snow_1h</th>\n",
       "      <th>snow_3h</th>\n",
       "    </tr>\n",
       "  </thead>\n",
       "  <tbody>\n",
       "  </tbody>\n",
       "</table>\n",
       "</div>"
      ],
      "text/plain": [
       "Empty DataFrame\n",
       "Columns: [date, temp, rain_1h, rain_3h, snow_1h, snow_3h]\n",
       "Index: []"
      ]
     },
     "execution_count": 41,
     "metadata": {},
     "output_type": "execute_result"
    }
   ],
   "source": [
    "pd.read_sql_query('select * from san_diego2', con=engine).head()"
   ]
  },
  {
   "cell_type": "code",
   "execution_count": null,
   "metadata": {},
   "outputs": [],
   "source": []
  }
 ],
 "metadata": {
  "kernelspec": {
   "display_name": "Python [conda env:PythonData] *",
   "language": "python",
   "name": "conda-env-PythonData-py"
  },
  "language_info": {
   "codemirror_mode": {
    "name": "ipython",
    "version": 3
   },
   "file_extension": ".py",
   "mimetype": "text/x-python",
   "name": "python",
   "nbconvert_exporter": "python",
   "pygments_lexer": "ipython3",
   "version": "3.8.2"
  }
 },
 "nbformat": 4,
 "nbformat_minor": 4
}
