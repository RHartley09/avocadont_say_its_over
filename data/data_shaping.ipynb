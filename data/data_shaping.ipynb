{
 "cells": [
  {
   "cell_type": "code",
   "execution_count": 73,
   "metadata": {},
   "outputs": [],
   "source": [
    "import pandas as pd\n",
    "from sqlalchemy import create_engine\n",
    "from datetime import datetime\n",
    "from datetime import timedelta\n",
    "from sklearn.impute import SimpleImputer\n",
    "import numpy as np"
   ]
  },
  {
   "cell_type": "code",
   "execution_count": 74,
   "metadata": {},
   "outputs": [],
   "source": [
    "transportData = \"Refrigerated_Truck_Rates_and_Availability_Full.csv\"\n",
    "AvoTransportData = \"avocado_tranpsort.csv\"\n",
    "avo_data = \"avo_prices.csv\"\n",
    "gas_data = \"gas_prices.csv\"\n",
    "loadweather = \"NewSDweatherData6.csv\"\n",
    "bananaprices = \"banana_prices.csv\""
   ]
  },
  {
   "cell_type": "code",
   "execution_count": 75,
   "metadata": {},
   "outputs": [
    {
     "data": {
      "text/html": [
       "<div>\n",
       "<style scoped>\n",
       "    .dataframe tbody tr th:only-of-type {\n",
       "        vertical-align: middle;\n",
       "    }\n",
       "\n",
       "    .dataframe tbody tr th {\n",
       "        vertical-align: top;\n",
       "    }\n",
       "\n",
       "    .dataframe thead th {\n",
       "        text-align: right;\n",
       "    }\n",
       "</style>\n",
       "<table border=\"1\" class=\"dataframe\">\n",
       "  <thead>\n",
       "    <tr style=\"text-align: right;\">\n",
       "      <th></th>\n",
       "      <th>Date</th>\n",
       "      <th>Banana Price per Pound</th>\n",
       "      <th>old</th>\n",
       "      <th>Percent Change</th>\n",
       "    </tr>\n",
       "  </thead>\n",
       "  <tbody>\n",
       "    <tr>\n",
       "      <th>0</th>\n",
       "      <td>1/1/2016</td>\n",
       "      <td>0.581</td>\n",
       "      <td>-0.003</td>\n",
       "      <td>-0.3</td>\n",
       "    </tr>\n",
       "    <tr>\n",
       "      <th>1</th>\n",
       "      <td>2/1/2016</td>\n",
       "      <td>0.573</td>\n",
       "      <td>-0.030</td>\n",
       "      <td>-3.0</td>\n",
       "    </tr>\n",
       "    <tr>\n",
       "      <th>2</th>\n",
       "      <td>3/1/2016</td>\n",
       "      <td>0.586</td>\n",
       "      <td>-0.012</td>\n",
       "      <td>-1.2</td>\n",
       "    </tr>\n",
       "    <tr>\n",
       "      <th>3</th>\n",
       "      <td>4/1/2016</td>\n",
       "      <td>0.574</td>\n",
       "      <td>-0.039</td>\n",
       "      <td>-3.9</td>\n",
       "    </tr>\n",
       "    <tr>\n",
       "      <th>4</th>\n",
       "      <td>5/1/2016</td>\n",
       "      <td>0.570</td>\n",
       "      <td>-0.021</td>\n",
       "      <td>-2.1</td>\n",
       "    </tr>\n",
       "  </tbody>\n",
       "</table>\n",
       "</div>"
      ],
      "text/plain": [
       "       Date  Banana Price per Pound    old  Percent Change\n",
       "0  1/1/2016                   0.581 -0.003            -0.3\n",
       "1  2/1/2016                   0.573 -0.030            -3.0\n",
       "2  3/1/2016                   0.586 -0.012            -1.2\n",
       "3  4/1/2016                   0.574 -0.039            -3.9\n",
       "4  5/1/2016                   0.570 -0.021            -2.1"
      ]
     },
     "execution_count": 75,
     "metadata": {},
     "output_type": "execute_result"
    }
   ],
   "source": [
    "banana_prices_df = pd.read_csv(bananaprices)\n",
    "banana_prices_df.head()"
   ]
  },
  {
   "cell_type": "code",
   "execution_count": 76,
   "metadata": {},
   "outputs": [
    {
     "data": {
      "text/html": [
       "<div>\n",
       "<style scoped>\n",
       "    .dataframe tbody tr th:only-of-type {\n",
       "        vertical-align: middle;\n",
       "    }\n",
       "\n",
       "    .dataframe tbody tr th {\n",
       "        vertical-align: top;\n",
       "    }\n",
       "\n",
       "    .dataframe thead th {\n",
       "        text-align: right;\n",
       "    }\n",
       "</style>\n",
       "<table border=\"1\" class=\"dataframe\">\n",
       "  <thead>\n",
       "    <tr style=\"text-align: right;\">\n",
       "      <th></th>\n",
       "      <th>dt_iso</th>\n",
       "      <th>dt</th>\n",
       "      <th>timezone</th>\n",
       "      <th>lat</th>\n",
       "      <th>lon</th>\n",
       "      <th>temp</th>\n",
       "      <th>feels_like</th>\n",
       "      <th>temp_min</th>\n",
       "      <th>temp_max</th>\n",
       "      <th>pressure</th>\n",
       "      <th>...</th>\n",
       "      <th>grnd_level</th>\n",
       "      <th>humidity</th>\n",
       "      <th>wind_speed</th>\n",
       "      <th>wind_deg</th>\n",
       "      <th>rain_1h</th>\n",
       "      <th>rain_3h</th>\n",
       "      <th>snow_1h</th>\n",
       "      <th>snow_3h</th>\n",
       "      <th>clouds_all</th>\n",
       "      <th>weather_id</th>\n",
       "    </tr>\n",
       "  </thead>\n",
       "  <tbody>\n",
       "    <tr>\n",
       "      <th>0</th>\n",
       "      <td>2015-01-01</td>\n",
       "      <td>1.420112e+09</td>\n",
       "      <td>-28800.0</td>\n",
       "      <td>32.715738</td>\n",
       "      <td>-117.161084</td>\n",
       "      <td>46.119167</td>\n",
       "      <td>38.966667</td>\n",
       "      <td>42.921667</td>\n",
       "      <td>51.287917</td>\n",
       "      <td>1019.291667</td>\n",
       "      <td>...</td>\n",
       "      <td>NaN</td>\n",
       "      <td>45.958333</td>\n",
       "      <td>5.002083</td>\n",
       "      <td>160.583333</td>\n",
       "      <td>NaN</td>\n",
       "      <td>NaN</td>\n",
       "      <td>NaN</td>\n",
       "      <td>NaN</td>\n",
       "      <td>14.541667</td>\n",
       "      <td>800.708333</td>\n",
       "    </tr>\n",
       "    <tr>\n",
       "      <th>1</th>\n",
       "      <td>2015-01-02</td>\n",
       "      <td>1.420198e+09</td>\n",
       "      <td>-28800.0</td>\n",
       "      <td>32.715738</td>\n",
       "      <td>-117.161084</td>\n",
       "      <td>48.741250</td>\n",
       "      <td>42.147917</td>\n",
       "      <td>45.371250</td>\n",
       "      <td>53.362917</td>\n",
       "      <td>1020.291667</td>\n",
       "      <td>...</td>\n",
       "      <td>NaN</td>\n",
       "      <td>54.500000</td>\n",
       "      <td>5.635833</td>\n",
       "      <td>144.583333</td>\n",
       "      <td>NaN</td>\n",
       "      <td>NaN</td>\n",
       "      <td>NaN</td>\n",
       "      <td>NaN</td>\n",
       "      <td>4.166667</td>\n",
       "      <td>800.166667</td>\n",
       "    </tr>\n",
       "    <tr>\n",
       "      <th>2</th>\n",
       "      <td>2015-01-03</td>\n",
       "      <td>1.420285e+09</td>\n",
       "      <td>-28800.0</td>\n",
       "      <td>32.715738</td>\n",
       "      <td>-117.161084</td>\n",
       "      <td>50.742917</td>\n",
       "      <td>45.510000</td>\n",
       "      <td>47.449167</td>\n",
       "      <td>54.095000</td>\n",
       "      <td>1021.916667</td>\n",
       "      <td>...</td>\n",
       "      <td>NaN</td>\n",
       "      <td>62.583333</td>\n",
       "      <td>4.790833</td>\n",
       "      <td>204.250000</td>\n",
       "      <td>NaN</td>\n",
       "      <td>NaN</td>\n",
       "      <td>NaN</td>\n",
       "      <td>NaN</td>\n",
       "      <td>21.041667</td>\n",
       "      <td>801.041667</td>\n",
       "    </tr>\n",
       "    <tr>\n",
       "      <th>3</th>\n",
       "      <td>2015-01-04</td>\n",
       "      <td>1.420371e+09</td>\n",
       "      <td>-28800.0</td>\n",
       "      <td>32.715738</td>\n",
       "      <td>-117.161084</td>\n",
       "      <td>52.755417</td>\n",
       "      <td>47.413333</td>\n",
       "      <td>50.084583</td>\n",
       "      <td>56.322917</td>\n",
       "      <td>1025.166667</td>\n",
       "      <td>...</td>\n",
       "      <td>NaN</td>\n",
       "      <td>63.708333</td>\n",
       "      <td>5.609167</td>\n",
       "      <td>185.416667</td>\n",
       "      <td>NaN</td>\n",
       "      <td>NaN</td>\n",
       "      <td>NaN</td>\n",
       "      <td>NaN</td>\n",
       "      <td>18.458333</td>\n",
       "      <td>800.875000</td>\n",
       "    </tr>\n",
       "    <tr>\n",
       "      <th>4</th>\n",
       "      <td>2015-01-05</td>\n",
       "      <td>1.420457e+09</td>\n",
       "      <td>-28800.0</td>\n",
       "      <td>32.715738</td>\n",
       "      <td>-117.161084</td>\n",
       "      <td>58.379167</td>\n",
       "      <td>53.038333</td>\n",
       "      <td>55.012917</td>\n",
       "      <td>62.826667</td>\n",
       "      <td>1023.375000</td>\n",
       "      <td>...</td>\n",
       "      <td>NaN</td>\n",
       "      <td>59.041667</td>\n",
       "      <td>6.302500</td>\n",
       "      <td>199.208333</td>\n",
       "      <td>NaN</td>\n",
       "      <td>NaN</td>\n",
       "      <td>NaN</td>\n",
       "      <td>NaN</td>\n",
       "      <td>29.708333</td>\n",
       "      <td>775.458333</td>\n",
       "    </tr>\n",
       "  </tbody>\n",
       "</table>\n",
       "<p>5 rows × 21 columns</p>\n",
       "</div>"
      ],
      "text/plain": [
       "       dt_iso            dt  timezone        lat         lon       temp  \\\n",
       "0  2015-01-01  1.420112e+09  -28800.0  32.715738 -117.161084  46.119167   \n",
       "1  2015-01-02  1.420198e+09  -28800.0  32.715738 -117.161084  48.741250   \n",
       "2  2015-01-03  1.420285e+09  -28800.0  32.715738 -117.161084  50.742917   \n",
       "3  2015-01-04  1.420371e+09  -28800.0  32.715738 -117.161084  52.755417   \n",
       "4  2015-01-05  1.420457e+09  -28800.0  32.715738 -117.161084  58.379167   \n",
       "\n",
       "   feels_like   temp_min   temp_max     pressure  ...  grnd_level   humidity  \\\n",
       "0   38.966667  42.921667  51.287917  1019.291667  ...         NaN  45.958333   \n",
       "1   42.147917  45.371250  53.362917  1020.291667  ...         NaN  54.500000   \n",
       "2   45.510000  47.449167  54.095000  1021.916667  ...         NaN  62.583333   \n",
       "3   47.413333  50.084583  56.322917  1025.166667  ...         NaN  63.708333   \n",
       "4   53.038333  55.012917  62.826667  1023.375000  ...         NaN  59.041667   \n",
       "\n",
       "   wind_speed    wind_deg  rain_1h  rain_3h  snow_1h  snow_3h  clouds_all  \\\n",
       "0    5.002083  160.583333      NaN      NaN      NaN      NaN   14.541667   \n",
       "1    5.635833  144.583333      NaN      NaN      NaN      NaN    4.166667   \n",
       "2    4.790833  204.250000      NaN      NaN      NaN      NaN   21.041667   \n",
       "3    5.609167  185.416667      NaN      NaN      NaN      NaN   18.458333   \n",
       "4    6.302500  199.208333      NaN      NaN      NaN      NaN   29.708333   \n",
       "\n",
       "   weather_id  \n",
       "0  800.708333  \n",
       "1  800.166667  \n",
       "2  801.041667  \n",
       "3  800.875000  \n",
       "4  775.458333  \n",
       "\n",
       "[5 rows x 21 columns]"
      ]
     },
     "execution_count": 76,
     "metadata": {},
     "output_type": "execute_result"
    }
   ],
   "source": [
    "SDweather_df = pd.read_csv(loadweather)\n",
    "SDweather_df.head()"
   ]
  },
  {
   "cell_type": "code",
   "execution_count": 77,
   "metadata": {},
   "outputs": [
    {
     "data": {
      "text/html": [
       "<div>\n",
       "<style scoped>\n",
       "    .dataframe tbody tr th:only-of-type {\n",
       "        vertical-align: middle;\n",
       "    }\n",
       "\n",
       "    .dataframe tbody tr th {\n",
       "        vertical-align: top;\n",
       "    }\n",
       "\n",
       "    .dataframe thead th {\n",
       "        text-align: right;\n",
       "    }\n",
       "</style>\n",
       "<table border=\"1\" class=\"dataframe\">\n",
       "  <thead>\n",
       "    <tr style=\"text-align: right;\">\n",
       "      <th></th>\n",
       "      <th>Date</th>\n",
       "      <th>Week</th>\n",
       "      <th>Month</th>\n",
       "      <th>Quarter</th>\n",
       "      <th>Year</th>\n",
       "      <th>Region</th>\n",
       "      <th>Origin</th>\n",
       "      <th>Destination</th>\n",
       "      <th>Distance</th>\n",
       "      <th>Commodity</th>\n",
       "      <th>Week Low</th>\n",
       "      <th>Week High</th>\n",
       "      <th>Midpoint</th>\n",
       "      <th>Rate Per Mile</th>\n",
       "      <th>Availability</th>\n",
       "    </tr>\n",
       "  </thead>\n",
       "  <tbody>\n",
       "    <tr>\n",
       "      <th>0</th>\n",
       "      <td>01/07/2020</td>\n",
       "      <td>1</td>\n",
       "      <td>1</td>\n",
       "      <td>1</td>\n",
       "      <td>2020</td>\n",
       "      <td>Arizona</td>\n",
       "      <td>Imperial, Palo Verde And Coachella Valleys, Ca...</td>\n",
       "      <td>ATLANTA</td>\n",
       "      <td>2100.0</td>\n",
       "      <td>LETTUCE, BROCCOLI, CAULIFLOWER, ROMAINE AND LE...</td>\n",
       "      <td>5000</td>\n",
       "      <td>5400</td>\n",
       "      <td>5200</td>\n",
       "      <td>2.48</td>\n",
       "      <td>5</td>\n",
       "    </tr>\n",
       "    <tr>\n",
       "      <th>1</th>\n",
       "      <td>01/07/2020</td>\n",
       "      <td>1</td>\n",
       "      <td>1</td>\n",
       "      <td>1</td>\n",
       "      <td>2020</td>\n",
       "      <td>Arizona</td>\n",
       "      <td>Imperial, Palo Verde And Coachella Valleys, Ca...</td>\n",
       "      <td>BALTIMORE</td>\n",
       "      <td>2600.0</td>\n",
       "      <td>LETTUCE, BROCCOLI, CAULIFLOWER, ROMAINE AND LE...</td>\n",
       "      <td>6400</td>\n",
       "      <td>6800</td>\n",
       "      <td>6600</td>\n",
       "      <td>2.54</td>\n",
       "      <td>5</td>\n",
       "    </tr>\n",
       "    <tr>\n",
       "      <th>2</th>\n",
       "      <td>01/07/2020</td>\n",
       "      <td>1</td>\n",
       "      <td>1</td>\n",
       "      <td>1</td>\n",
       "      <td>2020</td>\n",
       "      <td>Arizona</td>\n",
       "      <td>Imperial, Palo Verde And Coachella Valleys, Ca...</td>\n",
       "      <td>BOSTON</td>\n",
       "      <td>2900.0</td>\n",
       "      <td>LETTUCE, BROCCOLI, CAULIFLOWER, ROMAINE AND LE...</td>\n",
       "      <td>7300</td>\n",
       "      <td>7800</td>\n",
       "      <td>7550</td>\n",
       "      <td>2.60</td>\n",
       "      <td>5</td>\n",
       "    </tr>\n",
       "    <tr>\n",
       "      <th>3</th>\n",
       "      <td>01/07/2020</td>\n",
       "      <td>1</td>\n",
       "      <td>1</td>\n",
       "      <td>1</td>\n",
       "      <td>2020</td>\n",
       "      <td>Arizona</td>\n",
       "      <td>Imperial, Palo Verde And Coachella Valleys, Ca...</td>\n",
       "      <td>CHICAGO</td>\n",
       "      <td>2030.0</td>\n",
       "      <td>LETTUCE, BROCCOLI, CAULIFLOWER, ROMAINE AND LE...</td>\n",
       "      <td>4700</td>\n",
       "      <td>5200</td>\n",
       "      <td>4950</td>\n",
       "      <td>2.44</td>\n",
       "      <td>5</td>\n",
       "    </tr>\n",
       "    <tr>\n",
       "      <th>4</th>\n",
       "      <td>01/07/2020</td>\n",
       "      <td>1</td>\n",
       "      <td>1</td>\n",
       "      <td>1</td>\n",
       "      <td>2020</td>\n",
       "      <td>Arizona</td>\n",
       "      <td>Imperial, Palo Verde And Coachella Valleys, Ca...</td>\n",
       "      <td>DALLAS</td>\n",
       "      <td>1300.0</td>\n",
       "      <td>LETTUCE, BROCCOLI, CAULIFLOWER, ROMAINE AND LE...</td>\n",
       "      <td>3600</td>\n",
       "      <td>4100</td>\n",
       "      <td>3850</td>\n",
       "      <td>2.96</td>\n",
       "      <td>5</td>\n",
       "    </tr>\n",
       "  </tbody>\n",
       "</table>\n",
       "</div>"
      ],
      "text/plain": [
       "         Date  Week  Month  Quarter  Year   Region  \\\n",
       "0  01/07/2020     1      1        1  2020  Arizona   \n",
       "1  01/07/2020     1      1        1  2020  Arizona   \n",
       "2  01/07/2020     1      1        1  2020  Arizona   \n",
       "3  01/07/2020     1      1        1  2020  Arizona   \n",
       "4  01/07/2020     1      1        1  2020  Arizona   \n",
       "\n",
       "                                              Origin Destination  Distance  \\\n",
       "0  Imperial, Palo Verde And Coachella Valleys, Ca...     ATLANTA    2100.0   \n",
       "1  Imperial, Palo Verde And Coachella Valleys, Ca...   BALTIMORE    2600.0   \n",
       "2  Imperial, Palo Verde And Coachella Valleys, Ca...      BOSTON    2900.0   \n",
       "3  Imperial, Palo Verde And Coachella Valleys, Ca...     CHICAGO    2030.0   \n",
       "4  Imperial, Palo Verde And Coachella Valleys, Ca...      DALLAS    1300.0   \n",
       "\n",
       "                                           Commodity  Week Low  Week High  \\\n",
       "0  LETTUCE, BROCCOLI, CAULIFLOWER, ROMAINE AND LE...      5000       5400   \n",
       "1  LETTUCE, BROCCOLI, CAULIFLOWER, ROMAINE AND LE...      6400       6800   \n",
       "2  LETTUCE, BROCCOLI, CAULIFLOWER, ROMAINE AND LE...      7300       7800   \n",
       "3  LETTUCE, BROCCOLI, CAULIFLOWER, ROMAINE AND LE...      4700       5200   \n",
       "4  LETTUCE, BROCCOLI, CAULIFLOWER, ROMAINE AND LE...      3600       4100   \n",
       "\n",
       "   Midpoint  Rate Per Mile  Availability  \n",
       "0      5200           2.48             5  \n",
       "1      6600           2.54             5  \n",
       "2      7550           2.60             5  \n",
       "3      4950           2.44             5  \n",
       "4      3850           2.96             5  "
      ]
     },
     "execution_count": 77,
     "metadata": {},
     "output_type": "execute_result"
    }
   ],
   "source": [
    "initial_transport_df = pd.read_csv(transportData)\n",
    "initial_transport_df.head()"
   ]
  },
  {
   "cell_type": "code",
   "execution_count": 78,
   "metadata": {},
   "outputs": [
    {
     "data": {
      "text/html": [
       "<div>\n",
       "<style scoped>\n",
       "    .dataframe tbody tr th:only-of-type {\n",
       "        vertical-align: middle;\n",
       "    }\n",
       "\n",
       "    .dataframe tbody tr th {\n",
       "        vertical-align: top;\n",
       "    }\n",
       "\n",
       "    .dataframe thead th {\n",
       "        text-align: right;\n",
       "    }\n",
       "</style>\n",
       "<table border=\"1\" class=\"dataframe\">\n",
       "  <thead>\n",
       "    <tr style=\"text-align: right;\">\n",
       "      <th></th>\n",
       "      <th>Date</th>\n",
       "      <th>Week</th>\n",
       "      <th>Month</th>\n",
       "      <th>Quarter</th>\n",
       "      <th>Year</th>\n",
       "      <th>Region</th>\n",
       "      <th>Origin</th>\n",
       "      <th>Destination</th>\n",
       "      <th>Distance</th>\n",
       "      <th>Commodity</th>\n",
       "      <th>Week Low</th>\n",
       "      <th>Week High</th>\n",
       "      <th>Midpoint</th>\n",
       "      <th>Rate Per Mile</th>\n",
       "      <th>Availability</th>\n",
       "    </tr>\n",
       "  </thead>\n",
       "  <tbody>\n",
       "    <tr>\n",
       "      <th>0</th>\n",
       "      <td>01/07/2020</td>\n",
       "      <td>1</td>\n",
       "      <td>1</td>\n",
       "      <td>1</td>\n",
       "      <td>2020</td>\n",
       "      <td>California</td>\n",
       "      <td>South District California</td>\n",
       "      <td>ATLANTA</td>\n",
       "      <td>2100</td>\n",
       "      <td>CITRUS, AVOCADOS</td>\n",
       "      <td>4500</td>\n",
       "      <td>5500</td>\n",
       "      <td>5100</td>\n",
       "      <td>2.43</td>\n",
       "      <td>3</td>\n",
       "    </tr>\n",
       "    <tr>\n",
       "      <th>1</th>\n",
       "      <td>01/07/2020</td>\n",
       "      <td>1</td>\n",
       "      <td>1</td>\n",
       "      <td>1</td>\n",
       "      <td>2020</td>\n",
       "      <td>California</td>\n",
       "      <td>South District California</td>\n",
       "      <td>BALTIMORE</td>\n",
       "      <td>2600</td>\n",
       "      <td>CITRUS, AVOCADOS</td>\n",
       "      <td>5800</td>\n",
       "      <td>6800</td>\n",
       "      <td>6300</td>\n",
       "      <td>2.42</td>\n",
       "      <td>3</td>\n",
       "    </tr>\n",
       "    <tr>\n",
       "      <th>2</th>\n",
       "      <td>01/07/2020</td>\n",
       "      <td>1</td>\n",
       "      <td>1</td>\n",
       "      <td>1</td>\n",
       "      <td>2020</td>\n",
       "      <td>California</td>\n",
       "      <td>South District California</td>\n",
       "      <td>BOSTON</td>\n",
       "      <td>2900</td>\n",
       "      <td>CITRUS, AVOCADOS</td>\n",
       "      <td>6600</td>\n",
       "      <td>7500</td>\n",
       "      <td>6900</td>\n",
       "      <td>2.38</td>\n",
       "      <td>3</td>\n",
       "    </tr>\n",
       "    <tr>\n",
       "      <th>3</th>\n",
       "      <td>01/07/2020</td>\n",
       "      <td>1</td>\n",
       "      <td>1</td>\n",
       "      <td>1</td>\n",
       "      <td>2020</td>\n",
       "      <td>California</td>\n",
       "      <td>South District California</td>\n",
       "      <td>CHICAGO</td>\n",
       "      <td>2030</td>\n",
       "      <td>CITRUS, AVOCADOS</td>\n",
       "      <td>4100</td>\n",
       "      <td>5000</td>\n",
       "      <td>4500</td>\n",
       "      <td>2.22</td>\n",
       "      <td>3</td>\n",
       "    </tr>\n",
       "    <tr>\n",
       "      <th>4</th>\n",
       "      <td>01/07/2020</td>\n",
       "      <td>1</td>\n",
       "      <td>1</td>\n",
       "      <td>1</td>\n",
       "      <td>2020</td>\n",
       "      <td>California</td>\n",
       "      <td>South District California</td>\n",
       "      <td>DALLAS</td>\n",
       "      <td>1300</td>\n",
       "      <td>CITRUS, AVOCADOS</td>\n",
       "      <td>3200</td>\n",
       "      <td>4200</td>\n",
       "      <td>3400</td>\n",
       "      <td>2.62</td>\n",
       "      <td>3</td>\n",
       "    </tr>\n",
       "  </tbody>\n",
       "</table>\n",
       "</div>"
      ],
      "text/plain": [
       "         Date  Week  Month  Quarter  Year      Region  \\\n",
       "0  01/07/2020     1      1        1  2020  California   \n",
       "1  01/07/2020     1      1        1  2020  California   \n",
       "2  01/07/2020     1      1        1  2020  California   \n",
       "3  01/07/2020     1      1        1  2020  California   \n",
       "4  01/07/2020     1      1        1  2020  California   \n",
       "\n",
       "                      Origin Destination  Distance         Commodity  \\\n",
       "0  South District California     ATLANTA      2100  CITRUS, AVOCADOS   \n",
       "1  South District California   BALTIMORE      2600  CITRUS, AVOCADOS   \n",
       "2  South District California      BOSTON      2900  CITRUS, AVOCADOS   \n",
       "3  South District California     CHICAGO      2030  CITRUS, AVOCADOS   \n",
       "4  South District California      DALLAS      1300  CITRUS, AVOCADOS   \n",
       "\n",
       "   Week Low  Week High  Midpoint  Rate Per Mile  Availability  \n",
       "0      4500       5500      5100           2.43             3  \n",
       "1      5800       6800      6300           2.42             3  \n",
       "2      6600       7500      6900           2.38             3  \n",
       "3      4100       5000      4500           2.22             3  \n",
       "4      3200       4200      3400           2.62             3  "
      ]
     },
     "execution_count": 78,
     "metadata": {},
     "output_type": "execute_result"
    }
   ],
   "source": [
    "initial_avo_transport_df = pd.read_csv(AvoTransportData)\n",
    "# initial_avo_transport_df.head()\n",
    "initial_avo_transport_df.head()"
   ]
  },
  {
   "cell_type": "code",
   "execution_count": 79,
   "metadata": {},
   "outputs": [],
   "source": [
    "avo_data_df = pd.read_csv(avo_data)\n",
    "\n",
    "\n",
    "merge_avo_df = avo_data_df.loc[avo_data_df['region'] == 'TotalUS']\n",
    "merge_avo_df = merge_avo_df.loc[merge_avo_df['type'] == 'conventional']\n",
    "merge_avo_df = merge_avo_df[['New Date', 'AveragePrice']]"
   ]
  },
  {
   "cell_type": "code",
   "execution_count": 80,
   "metadata": {},
   "outputs": [
    {
     "data": {
      "text/html": [
       "<div>\n",
       "<style scoped>\n",
       "    .dataframe tbody tr th:only-of-type {\n",
       "        vertical-align: middle;\n",
       "    }\n",
       "\n",
       "    .dataframe tbody tr th {\n",
       "        vertical-align: top;\n",
       "    }\n",
       "\n",
       "    .dataframe thead th {\n",
       "        text-align: right;\n",
       "    }\n",
       "</style>\n",
       "<table border=\"1\" class=\"dataframe\">\n",
       "  <thead>\n",
       "    <tr style=\"text-align: right;\">\n",
       "      <th></th>\n",
       "      <th>Date</th>\n",
       "      <th>Gasoline - All Grades</th>\n",
       "      <th>All Grades - Conventional Areas</th>\n",
       "      <th>All Grades - Reformulated Areas</th>\n",
       "      <th>Regular</th>\n",
       "      <th>Conventional Areas - Regular</th>\n",
       "      <th>Reformulated Areas - Regular</th>\n",
       "      <th>Midgrade</th>\n",
       "      <th>Conventional Areas - Midgrade</th>\n",
       "      <th>Reformulated Areas - Midgrade</th>\n",
       "      <th>Premium</th>\n",
       "      <th>Conventional Areas - Premium</th>\n",
       "      <th>Reformulated Areas - Premium</th>\n",
       "      <th>Diesel (On-Highway) - All Types</th>\n",
       "      <th>Ultra Low Sulfur (15 ppm and Under)</th>\n",
       "      <th>Low Sulfer (Above 15 ppm to 500 ppm)</th>\n",
       "    </tr>\n",
       "  </thead>\n",
       "  <tbody>\n",
       "    <tr>\n",
       "      <th>0</th>\n",
       "      <td>8/20/1990</td>\n",
       "      <td>NaN</td>\n",
       "      <td>NaN</td>\n",
       "      <td>NaN</td>\n",
       "      <td>1.191</td>\n",
       "      <td>1.191</td>\n",
       "      <td>NaN</td>\n",
       "      <td>NaN</td>\n",
       "      <td>NaN</td>\n",
       "      <td>NaN</td>\n",
       "      <td>NaN</td>\n",
       "      <td>NaN</td>\n",
       "      <td>NaN</td>\n",
       "      <td>NaN</td>\n",
       "      <td>NaN</td>\n",
       "      <td>NaN</td>\n",
       "    </tr>\n",
       "    <tr>\n",
       "      <th>1</th>\n",
       "      <td>8/27/1990</td>\n",
       "      <td>NaN</td>\n",
       "      <td>NaN</td>\n",
       "      <td>NaN</td>\n",
       "      <td>1.245</td>\n",
       "      <td>1.245</td>\n",
       "      <td>NaN</td>\n",
       "      <td>NaN</td>\n",
       "      <td>NaN</td>\n",
       "      <td>NaN</td>\n",
       "      <td>NaN</td>\n",
       "      <td>NaN</td>\n",
       "      <td>NaN</td>\n",
       "      <td>NaN</td>\n",
       "      <td>NaN</td>\n",
       "      <td>NaN</td>\n",
       "    </tr>\n",
       "    <tr>\n",
       "      <th>2</th>\n",
       "      <td>9/3/1990</td>\n",
       "      <td>NaN</td>\n",
       "      <td>NaN</td>\n",
       "      <td>NaN</td>\n",
       "      <td>1.242</td>\n",
       "      <td>1.242</td>\n",
       "      <td>NaN</td>\n",
       "      <td>NaN</td>\n",
       "      <td>NaN</td>\n",
       "      <td>NaN</td>\n",
       "      <td>NaN</td>\n",
       "      <td>NaN</td>\n",
       "      <td>NaN</td>\n",
       "      <td>NaN</td>\n",
       "      <td>NaN</td>\n",
       "      <td>NaN</td>\n",
       "    </tr>\n",
       "    <tr>\n",
       "      <th>3</th>\n",
       "      <td>9/10/1990</td>\n",
       "      <td>NaN</td>\n",
       "      <td>NaN</td>\n",
       "      <td>NaN</td>\n",
       "      <td>1.252</td>\n",
       "      <td>1.252</td>\n",
       "      <td>NaN</td>\n",
       "      <td>NaN</td>\n",
       "      <td>NaN</td>\n",
       "      <td>NaN</td>\n",
       "      <td>NaN</td>\n",
       "      <td>NaN</td>\n",
       "      <td>NaN</td>\n",
       "      <td>NaN</td>\n",
       "      <td>NaN</td>\n",
       "      <td>NaN</td>\n",
       "    </tr>\n",
       "    <tr>\n",
       "      <th>4</th>\n",
       "      <td>9/17/1990</td>\n",
       "      <td>NaN</td>\n",
       "      <td>NaN</td>\n",
       "      <td>NaN</td>\n",
       "      <td>1.266</td>\n",
       "      <td>1.266</td>\n",
       "      <td>NaN</td>\n",
       "      <td>NaN</td>\n",
       "      <td>NaN</td>\n",
       "      <td>NaN</td>\n",
       "      <td>NaN</td>\n",
       "      <td>NaN</td>\n",
       "      <td>NaN</td>\n",
       "      <td>NaN</td>\n",
       "      <td>NaN</td>\n",
       "      <td>NaN</td>\n",
       "    </tr>\n",
       "  </tbody>\n",
       "</table>\n",
       "</div>"
      ],
      "text/plain": [
       "        Date  Gasoline - All Grades  All Grades - Conventional Areas  \\\n",
       "0  8/20/1990                    NaN                              NaN   \n",
       "1  8/27/1990                    NaN                              NaN   \n",
       "2   9/3/1990                    NaN                              NaN   \n",
       "3  9/10/1990                    NaN                              NaN   \n",
       "4  9/17/1990                    NaN                              NaN   \n",
       "\n",
       "   All Grades - Reformulated Areas  Regular  Conventional Areas - Regular  \\\n",
       "0                              NaN    1.191                         1.191   \n",
       "1                              NaN    1.245                         1.245   \n",
       "2                              NaN    1.242                         1.242   \n",
       "3                              NaN    1.252                         1.252   \n",
       "4                              NaN    1.266                         1.266   \n",
       "\n",
       "   Reformulated Areas - Regular  Midgrade  Conventional Areas - Midgrade  \\\n",
       "0                           NaN       NaN                            NaN   \n",
       "1                           NaN       NaN                            NaN   \n",
       "2                           NaN       NaN                            NaN   \n",
       "3                           NaN       NaN                            NaN   \n",
       "4                           NaN       NaN                            NaN   \n",
       "\n",
       "   Reformulated Areas - Midgrade  Premium  Conventional Areas - Premium  \\\n",
       "0                            NaN      NaN                           NaN   \n",
       "1                            NaN      NaN                           NaN   \n",
       "2                            NaN      NaN                           NaN   \n",
       "3                            NaN      NaN                           NaN   \n",
       "4                            NaN      NaN                           NaN   \n",
       "\n",
       "   Reformulated Areas - Premium  Diesel (On-Highway) - All Types  \\\n",
       "0                           NaN                              NaN   \n",
       "1                           NaN                              NaN   \n",
       "2                           NaN                              NaN   \n",
       "3                           NaN                              NaN   \n",
       "4                           NaN                              NaN   \n",
       "\n",
       "   Ultra Low Sulfur (15 ppm and Under)  Low Sulfer (Above 15 ppm to 500 ppm)  \n",
       "0                                  NaN                                   NaN  \n",
       "1                                  NaN                                   NaN  \n",
       "2                                  NaN                                   NaN  \n",
       "3                                  NaN                                   NaN  \n",
       "4                                  NaN                                   NaN  "
      ]
     },
     "execution_count": 80,
     "metadata": {},
     "output_type": "execute_result"
    }
   ],
   "source": [
    "gas_data_df = pd.read_csv(gas_data)\n",
    "gas_data_df.head()"
   ]
  },
  {
   "cell_type": "code",
   "execution_count": 81,
   "metadata": {},
   "outputs": [
    {
     "data": {
      "text/html": [
       "<div>\n",
       "<style scoped>\n",
       "    .dataframe tbody tr th:only-of-type {\n",
       "        vertical-align: middle;\n",
       "    }\n",
       "\n",
       "    .dataframe tbody tr th {\n",
       "        vertical-align: top;\n",
       "    }\n",
       "\n",
       "    .dataframe thead th {\n",
       "        text-align: right;\n",
       "    }\n",
       "</style>\n",
       "<table border=\"1\" class=\"dataframe\">\n",
       "  <thead>\n",
       "    <tr style=\"text-align: right;\">\n",
       "      <th></th>\n",
       "      <th>New Date</th>\n",
       "      <th>AveragePrice</th>\n",
       "    </tr>\n",
       "  </thead>\n",
       "  <tbody>\n",
       "    <tr>\n",
       "      <th>51</th>\n",
       "      <td>1/5/2015</td>\n",
       "      <td>0.95</td>\n",
       "    </tr>\n",
       "    <tr>\n",
       "      <th>159</th>\n",
       "      <td>1/12/2015</td>\n",
       "      <td>1.01</td>\n",
       "    </tr>\n",
       "    <tr>\n",
       "      <th>267</th>\n",
       "      <td>1/19/2015</td>\n",
       "      <td>1.03</td>\n",
       "    </tr>\n",
       "    <tr>\n",
       "      <th>375</th>\n",
       "      <td>1/26/2015</td>\n",
       "      <td>1.04</td>\n",
       "    </tr>\n",
       "    <tr>\n",
       "      <th>483</th>\n",
       "      <td>2/2/2015</td>\n",
       "      <td>0.89</td>\n",
       "    </tr>\n",
       "  </tbody>\n",
       "</table>\n",
       "</div>"
      ],
      "text/plain": [
       "      New Date  AveragePrice\n",
       "51    1/5/2015          0.95\n",
       "159  1/12/2015          1.01\n",
       "267  1/19/2015          1.03\n",
       "375  1/26/2015          1.04\n",
       "483   2/2/2015          0.89"
      ]
     },
     "execution_count": 81,
     "metadata": {},
     "output_type": "execute_result"
    }
   ],
   "source": [
    "merge_avo_df.head()"
   ]
  },
  {
   "cell_type": "code",
   "execution_count": 82,
   "metadata": {},
   "outputs": [],
   "source": [
    "merge_avo_df = merge_avo_df.rename(columns={\"New Date\": \"Date\",\n",
    "                                                        \"AveragePrice\": \"Avo Average Price\",\n",
    "                                                   })"
   ]
  },
  {
   "cell_type": "code",
   "execution_count": 83,
   "metadata": {},
   "outputs": [],
   "source": [
    "merge_avo_df = merge_avo_df.reset_index()"
   ]
  },
  {
   "cell_type": "code",
   "execution_count": 84,
   "metadata": {},
   "outputs": [
    {
     "data": {
      "text/html": [
       "<div>\n",
       "<style scoped>\n",
       "    .dataframe tbody tr th:only-of-type {\n",
       "        vertical-align: middle;\n",
       "    }\n",
       "\n",
       "    .dataframe tbody tr th {\n",
       "        vertical-align: top;\n",
       "    }\n",
       "\n",
       "    .dataframe thead th {\n",
       "        text-align: right;\n",
       "    }\n",
       "</style>\n",
       "<table border=\"1\" class=\"dataframe\">\n",
       "  <thead>\n",
       "    <tr style=\"text-align: right;\">\n",
       "      <th></th>\n",
       "      <th>Date</th>\n",
       "      <th>Avo Average Price</th>\n",
       "    </tr>\n",
       "  </thead>\n",
       "  <tbody>\n",
       "    <tr>\n",
       "      <th>0</th>\n",
       "      <td>1/5/2015</td>\n",
       "      <td>0.95</td>\n",
       "    </tr>\n",
       "    <tr>\n",
       "      <th>1</th>\n",
       "      <td>1/12/2015</td>\n",
       "      <td>1.01</td>\n",
       "    </tr>\n",
       "    <tr>\n",
       "      <th>2</th>\n",
       "      <td>1/19/2015</td>\n",
       "      <td>1.03</td>\n",
       "    </tr>\n",
       "    <tr>\n",
       "      <th>3</th>\n",
       "      <td>1/26/2015</td>\n",
       "      <td>1.04</td>\n",
       "    </tr>\n",
       "    <tr>\n",
       "      <th>4</th>\n",
       "      <td>2/2/2015</td>\n",
       "      <td>0.89</td>\n",
       "    </tr>\n",
       "  </tbody>\n",
       "</table>\n",
       "</div>"
      ],
      "text/plain": [
       "        Date  Avo Average Price\n",
       "0   1/5/2015               0.95\n",
       "1  1/12/2015               1.01\n",
       "2  1/19/2015               1.03\n",
       "3  1/26/2015               1.04\n",
       "4   2/2/2015               0.89"
      ]
     },
     "execution_count": 84,
     "metadata": {},
     "output_type": "execute_result"
    }
   ],
   "source": [
    "merge_avo_df = merge_avo_df[['Date', 'Avo Average Price']]\n",
    "merge_avo_df.head()"
   ]
  },
  {
   "cell_type": "code",
   "execution_count": 85,
   "metadata": {},
   "outputs": [
    {
     "data": {
      "text/plain": [
       "dtype('O')"
      ]
     },
     "execution_count": 85,
     "metadata": {},
     "output_type": "execute_result"
    }
   ],
   "source": [
    "gas_data_df['Date'].dtype"
   ]
  },
  {
   "cell_type": "code",
   "execution_count": 86,
   "metadata": {},
   "outputs": [],
   "source": [
    "gas_data_df['Date'] = pd.to_datetime(gas_data_df['Date'])\n",
    "merge_avo_df['Date'] = pd.to_datetime(merge_avo_df['Date'])"
   ]
  },
  {
   "cell_type": "code",
   "execution_count": 87,
   "metadata": {},
   "outputs": [
    {
     "data": {
      "text/html": [
       "<div>\n",
       "<style scoped>\n",
       "    .dataframe tbody tr th:only-of-type {\n",
       "        vertical-align: middle;\n",
       "    }\n",
       "\n",
       "    .dataframe tbody tr th {\n",
       "        vertical-align: top;\n",
       "    }\n",
       "\n",
       "    .dataframe thead th {\n",
       "        text-align: right;\n",
       "    }\n",
       "</style>\n",
       "<table border=\"1\" class=\"dataframe\">\n",
       "  <thead>\n",
       "    <tr style=\"text-align: right;\">\n",
       "      <th></th>\n",
       "      <th>Date</th>\n",
       "      <th>Gasoline - All Grades</th>\n",
       "    </tr>\n",
       "  </thead>\n",
       "  <tbody>\n",
       "    <tr>\n",
       "      <th>0</th>\n",
       "      <td>1990-08-20</td>\n",
       "      <td>NaN</td>\n",
       "    </tr>\n",
       "    <tr>\n",
       "      <th>1</th>\n",
       "      <td>1990-08-27</td>\n",
       "      <td>NaN</td>\n",
       "    </tr>\n",
       "    <tr>\n",
       "      <th>2</th>\n",
       "      <td>1990-09-03</td>\n",
       "      <td>NaN</td>\n",
       "    </tr>\n",
       "    <tr>\n",
       "      <th>3</th>\n",
       "      <td>1990-09-10</td>\n",
       "      <td>NaN</td>\n",
       "    </tr>\n",
       "    <tr>\n",
       "      <th>4</th>\n",
       "      <td>1990-09-17</td>\n",
       "      <td>NaN</td>\n",
       "    </tr>\n",
       "    <tr>\n",
       "      <th>...</th>\n",
       "      <td>...</td>\n",
       "      <td>...</td>\n",
       "    </tr>\n",
       "    <tr>\n",
       "      <th>1556</th>\n",
       "      <td>2020-06-15</td>\n",
       "      <td>2.185</td>\n",
       "    </tr>\n",
       "    <tr>\n",
       "      <th>1557</th>\n",
       "      <td>2020-06-22</td>\n",
       "      <td>2.216</td>\n",
       "    </tr>\n",
       "    <tr>\n",
       "      <th>1558</th>\n",
       "      <td>2020-06-29</td>\n",
       "      <td>2.260</td>\n",
       "    </tr>\n",
       "    <tr>\n",
       "      <th>1559</th>\n",
       "      <td>2020-07-06</td>\n",
       "      <td>2.265</td>\n",
       "    </tr>\n",
       "    <tr>\n",
       "      <th>1560</th>\n",
       "      <td>2020-07-13</td>\n",
       "      <td>2.283</td>\n",
       "    </tr>\n",
       "  </tbody>\n",
       "</table>\n",
       "<p>1561 rows × 2 columns</p>\n",
       "</div>"
      ],
      "text/plain": [
       "           Date  Gasoline - All Grades\n",
       "0    1990-08-20                    NaN\n",
       "1    1990-08-27                    NaN\n",
       "2    1990-09-03                    NaN\n",
       "3    1990-09-10                    NaN\n",
       "4    1990-09-17                    NaN\n",
       "...         ...                    ...\n",
       "1556 2020-06-15                  2.185\n",
       "1557 2020-06-22                  2.216\n",
       "1558 2020-06-29                  2.260\n",
       "1559 2020-07-06                  2.265\n",
       "1560 2020-07-13                  2.283\n",
       "\n",
       "[1561 rows x 2 columns]"
      ]
     },
     "execution_count": 87,
     "metadata": {},
     "output_type": "execute_result"
    }
   ],
   "source": [
    "gas_data_df = gas_data_df[['Date', 'Gasoline - All Grades']]\n",
    "gas_data_df"
   ]
  },
  {
   "cell_type": "code",
   "execution_count": 88,
   "metadata": {},
   "outputs": [
    {
     "data": {
      "text/html": [
       "<div>\n",
       "<style scoped>\n",
       "    .dataframe tbody tr th:only-of-type {\n",
       "        vertical-align: middle;\n",
       "    }\n",
       "\n",
       "    .dataframe tbody tr th {\n",
       "        vertical-align: top;\n",
       "    }\n",
       "\n",
       "    .dataframe thead th {\n",
       "        text-align: right;\n",
       "    }\n",
       "</style>\n",
       "<table border=\"1\" class=\"dataframe\">\n",
       "  <thead>\n",
       "    <tr style=\"text-align: right;\">\n",
       "      <th></th>\n",
       "      <th>Date</th>\n",
       "      <th>Week</th>\n",
       "      <th>Month</th>\n",
       "      <th>Quarter</th>\n",
       "      <th>Year</th>\n",
       "      <th>Region</th>\n",
       "      <th>Origin</th>\n",
       "      <th>Destination</th>\n",
       "      <th>Distance</th>\n",
       "      <th>Commodity</th>\n",
       "      <th>Week Low</th>\n",
       "      <th>Week High</th>\n",
       "      <th>Midpoint</th>\n",
       "      <th>Rate Per Mile</th>\n",
       "      <th>Availability</th>\n",
       "    </tr>\n",
       "  </thead>\n",
       "  <tbody>\n",
       "    <tr>\n",
       "      <th>0</th>\n",
       "      <td>2020-01-07</td>\n",
       "      <td>1</td>\n",
       "      <td>1</td>\n",
       "      <td>1</td>\n",
       "      <td>2020</td>\n",
       "      <td>California</td>\n",
       "      <td>South District California</td>\n",
       "      <td>ATLANTA</td>\n",
       "      <td>2100</td>\n",
       "      <td>CITRUS, AVOCADOS</td>\n",
       "      <td>4500</td>\n",
       "      <td>5500</td>\n",
       "      <td>5100</td>\n",
       "      <td>2.43</td>\n",
       "      <td>3</td>\n",
       "    </tr>\n",
       "    <tr>\n",
       "      <th>1</th>\n",
       "      <td>2020-01-07</td>\n",
       "      <td>1</td>\n",
       "      <td>1</td>\n",
       "      <td>1</td>\n",
       "      <td>2020</td>\n",
       "      <td>California</td>\n",
       "      <td>South District California</td>\n",
       "      <td>BALTIMORE</td>\n",
       "      <td>2600</td>\n",
       "      <td>CITRUS, AVOCADOS</td>\n",
       "      <td>5800</td>\n",
       "      <td>6800</td>\n",
       "      <td>6300</td>\n",
       "      <td>2.42</td>\n",
       "      <td>3</td>\n",
       "    </tr>\n",
       "    <tr>\n",
       "      <th>2</th>\n",
       "      <td>2020-01-07</td>\n",
       "      <td>1</td>\n",
       "      <td>1</td>\n",
       "      <td>1</td>\n",
       "      <td>2020</td>\n",
       "      <td>California</td>\n",
       "      <td>South District California</td>\n",
       "      <td>BOSTON</td>\n",
       "      <td>2900</td>\n",
       "      <td>CITRUS, AVOCADOS</td>\n",
       "      <td>6600</td>\n",
       "      <td>7500</td>\n",
       "      <td>6900</td>\n",
       "      <td>2.38</td>\n",
       "      <td>3</td>\n",
       "    </tr>\n",
       "    <tr>\n",
       "      <th>3</th>\n",
       "      <td>2020-01-07</td>\n",
       "      <td>1</td>\n",
       "      <td>1</td>\n",
       "      <td>1</td>\n",
       "      <td>2020</td>\n",
       "      <td>California</td>\n",
       "      <td>South District California</td>\n",
       "      <td>CHICAGO</td>\n",
       "      <td>2030</td>\n",
       "      <td>CITRUS, AVOCADOS</td>\n",
       "      <td>4100</td>\n",
       "      <td>5000</td>\n",
       "      <td>4500</td>\n",
       "      <td>2.22</td>\n",
       "      <td>3</td>\n",
       "    </tr>\n",
       "    <tr>\n",
       "      <th>4</th>\n",
       "      <td>2020-01-07</td>\n",
       "      <td>1</td>\n",
       "      <td>1</td>\n",
       "      <td>1</td>\n",
       "      <td>2020</td>\n",
       "      <td>California</td>\n",
       "      <td>South District California</td>\n",
       "      <td>DALLAS</td>\n",
       "      <td>1300</td>\n",
       "      <td>CITRUS, AVOCADOS</td>\n",
       "      <td>3200</td>\n",
       "      <td>4200</td>\n",
       "      <td>3400</td>\n",
       "      <td>2.62</td>\n",
       "      <td>3</td>\n",
       "    </tr>\n",
       "  </tbody>\n",
       "</table>\n",
       "</div>"
      ],
      "text/plain": [
       "        Date  Week  Month  Quarter  Year      Region  \\\n",
       "0 2020-01-07     1      1        1  2020  California   \n",
       "1 2020-01-07     1      1        1  2020  California   \n",
       "2 2020-01-07     1      1        1  2020  California   \n",
       "3 2020-01-07     1      1        1  2020  California   \n",
       "4 2020-01-07     1      1        1  2020  California   \n",
       "\n",
       "                      Origin Destination  Distance         Commodity  \\\n",
       "0  South District California     ATLANTA      2100  CITRUS, AVOCADOS   \n",
       "1  South District California   BALTIMORE      2600  CITRUS, AVOCADOS   \n",
       "2  South District California      BOSTON      2900  CITRUS, AVOCADOS   \n",
       "3  South District California     CHICAGO      2030  CITRUS, AVOCADOS   \n",
       "4  South District California      DALLAS      1300  CITRUS, AVOCADOS   \n",
       "\n",
       "   Week Low  Week High  Midpoint  Rate Per Mile  Availability  \n",
       "0      4500       5500      5100           2.43             3  \n",
       "1      5800       6800      6300           2.42             3  \n",
       "2      6600       7500      6900           2.38             3  \n",
       "3      4100       5000      4500           2.22             3  \n",
       "4      3200       4200      3400           2.62             3  "
      ]
     },
     "execution_count": 88,
     "metadata": {},
     "output_type": "execute_result"
    }
   ],
   "source": [
    "initial_avo_transport_df['Date'] = pd.to_datetime(initial_avo_transport_df['Date'])\n",
    "initial_avo_transport_df.head()"
   ]
  },
  {
   "cell_type": "code",
   "execution_count": 89,
   "metadata": {},
   "outputs": [
    {
     "data": {
      "text/html": [
       "<div>\n",
       "<style scoped>\n",
       "    .dataframe tbody tr th:only-of-type {\n",
       "        vertical-align: middle;\n",
       "    }\n",
       "\n",
       "    .dataframe tbody tr th {\n",
       "        vertical-align: top;\n",
       "    }\n",
       "\n",
       "    .dataframe thead th {\n",
       "        text-align: right;\n",
       "    }\n",
       "</style>\n",
       "<table border=\"1\" class=\"dataframe\">\n",
       "  <thead>\n",
       "    <tr style=\"text-align: right;\">\n",
       "      <th></th>\n",
       "      <th>Date</th>\n",
       "      <th>Rate Per Mile</th>\n",
       "    </tr>\n",
       "  </thead>\n",
       "  <tbody>\n",
       "    <tr>\n",
       "      <th>0</th>\n",
       "      <td>2020-01-07</td>\n",
       "      <td>2.43</td>\n",
       "    </tr>\n",
       "    <tr>\n",
       "      <th>1</th>\n",
       "      <td>2020-01-07</td>\n",
       "      <td>2.42</td>\n",
       "    </tr>\n",
       "    <tr>\n",
       "      <th>2</th>\n",
       "      <td>2020-01-07</td>\n",
       "      <td>2.38</td>\n",
       "    </tr>\n",
       "    <tr>\n",
       "      <th>3</th>\n",
       "      <td>2020-01-07</td>\n",
       "      <td>2.22</td>\n",
       "    </tr>\n",
       "    <tr>\n",
       "      <th>4</th>\n",
       "      <td>2020-01-07</td>\n",
       "      <td>2.62</td>\n",
       "    </tr>\n",
       "  </tbody>\n",
       "</table>\n",
       "</div>"
      ],
      "text/plain": [
       "        Date  Rate Per Mile\n",
       "0 2020-01-07           2.43\n",
       "1 2020-01-07           2.42\n",
       "2 2020-01-07           2.38\n",
       "3 2020-01-07           2.22\n",
       "4 2020-01-07           2.62"
      ]
     },
     "execution_count": 89,
     "metadata": {},
     "output_type": "execute_result"
    }
   ],
   "source": [
    "initial_avo_transport_df = initial_avo_transport_df[['Date', 'Rate Per Mile']]\n",
    "initial_avo_transport_df.head()"
   ]
  },
  {
   "cell_type": "code",
   "execution_count": 90,
   "metadata": {},
   "outputs": [
    {
     "data": {
      "text/html": [
       "<div>\n",
       "<style scoped>\n",
       "    .dataframe tbody tr th:only-of-type {\n",
       "        vertical-align: middle;\n",
       "    }\n",
       "\n",
       "    .dataframe tbody tr th {\n",
       "        vertical-align: top;\n",
       "    }\n",
       "\n",
       "    .dataframe thead th {\n",
       "        text-align: right;\n",
       "    }\n",
       "</style>\n",
       "<table border=\"1\" class=\"dataframe\">\n",
       "  <thead>\n",
       "    <tr style=\"text-align: right;\">\n",
       "      <th></th>\n",
       "      <th>Rate Per Mile</th>\n",
       "    </tr>\n",
       "    <tr>\n",
       "      <th>Date</th>\n",
       "      <th></th>\n",
       "    </tr>\n",
       "  </thead>\n",
       "  <tbody>\n",
       "    <tr>\n",
       "      <th>2003-11-04</th>\n",
       "      <td>1.228</td>\n",
       "    </tr>\n",
       "    <tr>\n",
       "      <th>2003-11-12</th>\n",
       "      <td>1.272</td>\n",
       "    </tr>\n",
       "    <tr>\n",
       "      <th>2003-11-18</th>\n",
       "      <td>1.300</td>\n",
       "    </tr>\n",
       "    <tr>\n",
       "      <th>2003-11-25</th>\n",
       "      <td>1.318</td>\n",
       "    </tr>\n",
       "    <tr>\n",
       "      <th>2003-12-02</th>\n",
       "      <td>1.284</td>\n",
       "    </tr>\n",
       "  </tbody>\n",
       "</table>\n",
       "</div>"
      ],
      "text/plain": [
       "            Rate Per Mile\n",
       "Date                     \n",
       "2003-11-04          1.228\n",
       "2003-11-12          1.272\n",
       "2003-11-18          1.300\n",
       "2003-11-25          1.318\n",
       "2003-12-02          1.284"
      ]
     },
     "execution_count": 90,
     "metadata": {},
     "output_type": "execute_result"
    }
   ],
   "source": [
    "initial_avo_transport_df = initial_avo_transport_df.groupby(by=\"Date\").mean()\n",
    "\n",
    "initial_avo_transport_df.head()"
   ]
  },
  {
   "cell_type": "code",
   "execution_count": 91,
   "metadata": {},
   "outputs": [
    {
     "data": {
      "text/html": [
       "<div>\n",
       "<style scoped>\n",
       "    .dataframe tbody tr th:only-of-type {\n",
       "        vertical-align: middle;\n",
       "    }\n",
       "\n",
       "    .dataframe tbody tr th {\n",
       "        vertical-align: top;\n",
       "    }\n",
       "\n",
       "    .dataframe thead th {\n",
       "        text-align: right;\n",
       "    }\n",
       "</style>\n",
       "<table border=\"1\" class=\"dataframe\">\n",
       "  <thead>\n",
       "    <tr style=\"text-align: right;\">\n",
       "      <th></th>\n",
       "      <th>Date</th>\n",
       "      <th>Rate Per Mile</th>\n",
       "    </tr>\n",
       "  </thead>\n",
       "  <tbody>\n",
       "    <tr>\n",
       "      <th>0</th>\n",
       "      <td>2003-11-04</td>\n",
       "      <td>1.228</td>\n",
       "    </tr>\n",
       "    <tr>\n",
       "      <th>1</th>\n",
       "      <td>2003-11-12</td>\n",
       "      <td>1.272</td>\n",
       "    </tr>\n",
       "    <tr>\n",
       "      <th>2</th>\n",
       "      <td>2003-11-18</td>\n",
       "      <td>1.300</td>\n",
       "    </tr>\n",
       "    <tr>\n",
       "      <th>3</th>\n",
       "      <td>2003-11-25</td>\n",
       "      <td>1.318</td>\n",
       "    </tr>\n",
       "    <tr>\n",
       "      <th>4</th>\n",
       "      <td>2003-12-02</td>\n",
       "      <td>1.284</td>\n",
       "    </tr>\n",
       "  </tbody>\n",
       "</table>\n",
       "</div>"
      ],
      "text/plain": [
       "        Date  Rate Per Mile\n",
       "0 2003-11-04          1.228\n",
       "1 2003-11-12          1.272\n",
       "2 2003-11-18          1.300\n",
       "3 2003-11-25          1.318\n",
       "4 2003-12-02          1.284"
      ]
     },
     "execution_count": 91,
     "metadata": {},
     "output_type": "execute_result"
    }
   ],
   "source": [
    "initial_avo_transport_df = initial_avo_transport_df.reset_index()\n",
    "initial_avo_transport_df.head()"
   ]
  },
  {
   "cell_type": "code",
   "execution_count": 92,
   "metadata": {},
   "outputs": [
    {
     "data": {
      "text/html": [
       "<div>\n",
       "<style scoped>\n",
       "    .dataframe tbody tr th:only-of-type {\n",
       "        vertical-align: middle;\n",
       "    }\n",
       "\n",
       "    .dataframe tbody tr th {\n",
       "        vertical-align: top;\n",
       "    }\n",
       "\n",
       "    .dataframe thead th {\n",
       "        text-align: right;\n",
       "    }\n",
       "</style>\n",
       "<table border=\"1\" class=\"dataframe\">\n",
       "  <thead>\n",
       "    <tr style=\"text-align: right;\">\n",
       "      <th></th>\n",
       "      <th>Date</th>\n",
       "      <th>Rate Per Mile</th>\n",
       "    </tr>\n",
       "  </thead>\n",
       "  <tbody>\n",
       "    <tr>\n",
       "      <th>0</th>\n",
       "      <td>2003-11-03</td>\n",
       "      <td>1.228</td>\n",
       "    </tr>\n",
       "    <tr>\n",
       "      <th>1</th>\n",
       "      <td>2003-11-11</td>\n",
       "      <td>1.272</td>\n",
       "    </tr>\n",
       "    <tr>\n",
       "      <th>2</th>\n",
       "      <td>2003-11-17</td>\n",
       "      <td>1.300</td>\n",
       "    </tr>\n",
       "    <tr>\n",
       "      <th>3</th>\n",
       "      <td>2003-11-24</td>\n",
       "      <td>1.318</td>\n",
       "    </tr>\n",
       "    <tr>\n",
       "      <th>4</th>\n",
       "      <td>2003-12-01</td>\n",
       "      <td>1.284</td>\n",
       "    </tr>\n",
       "  </tbody>\n",
       "</table>\n",
       "</div>"
      ],
      "text/plain": [
       "        Date  Rate Per Mile\n",
       "0 2003-11-03          1.228\n",
       "1 2003-11-11          1.272\n",
       "2 2003-11-17          1.300\n",
       "3 2003-11-24          1.318\n",
       "4 2003-12-01          1.284"
      ]
     },
     "execution_count": 92,
     "metadata": {},
     "output_type": "execute_result"
    }
   ],
   "source": [
    "initial_avo_transport_df['Date'] = initial_avo_transport_df['Date'] - timedelta(days=1)\n",
    "initial_avo_transport_df.head()"
   ]
  },
  {
   "cell_type": "code",
   "execution_count": 93,
   "metadata": {},
   "outputs": [
    {
     "data": {
      "text/html": [
       "<div>\n",
       "<style scoped>\n",
       "    .dataframe tbody tr th:only-of-type {\n",
       "        vertical-align: middle;\n",
       "    }\n",
       "\n",
       "    .dataframe tbody tr th {\n",
       "        vertical-align: top;\n",
       "    }\n",
       "\n",
       "    .dataframe thead th {\n",
       "        text-align: right;\n",
       "    }\n",
       "</style>\n",
       "<table border=\"1\" class=\"dataframe\">\n",
       "  <thead>\n",
       "    <tr style=\"text-align: right;\">\n",
       "      <th></th>\n",
       "      <th>Date</th>\n",
       "      <th>Rate Per Mile</th>\n",
       "      <th>Gasoline - All Grades</th>\n",
       "    </tr>\n",
       "  </thead>\n",
       "  <tbody>\n",
       "    <tr>\n",
       "      <th>0</th>\n",
       "      <td>2003-11-03</td>\n",
       "      <td>1.228</td>\n",
       "      <td>1.577</td>\n",
       "    </tr>\n",
       "    <tr>\n",
       "      <th>1</th>\n",
       "      <td>2003-11-11</td>\n",
       "      <td>1.272</td>\n",
       "      <td>NaN</td>\n",
       "    </tr>\n",
       "    <tr>\n",
       "      <th>2</th>\n",
       "      <td>2003-11-17</td>\n",
       "      <td>1.300</td>\n",
       "      <td>1.540</td>\n",
       "    </tr>\n",
       "    <tr>\n",
       "      <th>3</th>\n",
       "      <td>2003-11-24</td>\n",
       "      <td>1.318</td>\n",
       "      <td>1.554</td>\n",
       "    </tr>\n",
       "    <tr>\n",
       "      <th>4</th>\n",
       "      <td>2003-12-01</td>\n",
       "      <td>1.284</td>\n",
       "      <td>1.533</td>\n",
       "    </tr>\n",
       "  </tbody>\n",
       "</table>\n",
       "</div>"
      ],
      "text/plain": [
       "        Date  Rate Per Mile  Gasoline - All Grades\n",
       "0 2003-11-03          1.228                  1.577\n",
       "1 2003-11-11          1.272                    NaN\n",
       "2 2003-11-17          1.300                  1.540\n",
       "3 2003-11-24          1.318                  1.554\n",
       "4 2003-12-01          1.284                  1.533"
      ]
     },
     "execution_count": 93,
     "metadata": {},
     "output_type": "execute_result"
    }
   ],
   "source": [
    "final_df = pd.merge(initial_avo_transport_df, gas_data_df, how='outer', on=['Date'])\n",
    "final_df.head()"
   ]
  },
  {
   "cell_type": "code",
   "execution_count": 94,
   "metadata": {},
   "outputs": [
    {
     "data": {
      "text/html": [
       "<div>\n",
       "<style scoped>\n",
       "    .dataframe tbody tr th:only-of-type {\n",
       "        vertical-align: middle;\n",
       "    }\n",
       "\n",
       "    .dataframe tbody tr th {\n",
       "        vertical-align: top;\n",
       "    }\n",
       "\n",
       "    .dataframe thead th {\n",
       "        text-align: right;\n",
       "    }\n",
       "</style>\n",
       "<table border=\"1\" class=\"dataframe\">\n",
       "  <thead>\n",
       "    <tr style=\"text-align: right;\">\n",
       "      <th></th>\n",
       "      <th>Date</th>\n",
       "      <th>Rate Per Mile</th>\n",
       "      <th>Gasoline - All Grades</th>\n",
       "      <th>Avo Average Price</th>\n",
       "    </tr>\n",
       "  </thead>\n",
       "  <tbody>\n",
       "    <tr>\n",
       "      <th>1573</th>\n",
       "      <td>2017-02-13</td>\n",
       "      <td>NaN</td>\n",
       "      <td>2.418</td>\n",
       "      <td>0.87</td>\n",
       "    </tr>\n",
       "    <tr>\n",
       "      <th>1574</th>\n",
       "      <td>2017-07-03</td>\n",
       "      <td>NaN</td>\n",
       "      <td>2.376</td>\n",
       "      <td>1.21</td>\n",
       "    </tr>\n",
       "    <tr>\n",
       "      <th>1575</th>\n",
       "      <td>2019-03-18</td>\n",
       "      <td>NaN</td>\n",
       "      <td>2.625</td>\n",
       "      <td>NaN</td>\n",
       "    </tr>\n",
       "    <tr>\n",
       "      <th>1576</th>\n",
       "      <td>2019-03-25</td>\n",
       "      <td>NaN</td>\n",
       "      <td>2.701</td>\n",
       "      <td>NaN</td>\n",
       "    </tr>\n",
       "    <tr>\n",
       "      <th>1577</th>\n",
       "      <td>2019-12-23</td>\n",
       "      <td>NaN</td>\n",
       "      <td>2.621</td>\n",
       "      <td>NaN</td>\n",
       "    </tr>\n",
       "  </tbody>\n",
       "</table>\n",
       "</div>"
      ],
      "text/plain": [
       "           Date  Rate Per Mile  Gasoline - All Grades  Avo Average Price\n",
       "1573 2017-02-13            NaN                  2.418               0.87\n",
       "1574 2017-07-03            NaN                  2.376               1.21\n",
       "1575 2019-03-18            NaN                  2.625                NaN\n",
       "1576 2019-03-25            NaN                  2.701                NaN\n",
       "1577 2019-12-23            NaN                  2.621                NaN"
      ]
     },
     "execution_count": 94,
     "metadata": {},
     "output_type": "execute_result"
    }
   ],
   "source": [
    "final_df = pd.merge(final_df, merge_avo_df, how='outer', on=['Date'])\n",
    "final_df.tail()"
   ]
  },
  {
   "cell_type": "code",
   "execution_count": 95,
   "metadata": {},
   "outputs": [
    {
     "data": {
      "text/html": [
       "<div>\n",
       "<style scoped>\n",
       "    .dataframe tbody tr th:only-of-type {\n",
       "        vertical-align: middle;\n",
       "    }\n",
       "\n",
       "    .dataframe tbody tr th {\n",
       "        vertical-align: top;\n",
       "    }\n",
       "\n",
       "    .dataframe thead th {\n",
       "        text-align: right;\n",
       "    }\n",
       "</style>\n",
       "<table border=\"1\" class=\"dataframe\">\n",
       "  <thead>\n",
       "    <tr style=\"text-align: right;\">\n",
       "      <th></th>\n",
       "      <th>dt_iso</th>\n",
       "      <th>dt</th>\n",
       "      <th>timezone</th>\n",
       "      <th>lat</th>\n",
       "      <th>lon</th>\n",
       "      <th>temp</th>\n",
       "      <th>feels_like</th>\n",
       "      <th>temp_min</th>\n",
       "      <th>temp_max</th>\n",
       "      <th>pressure</th>\n",
       "      <th>...</th>\n",
       "      <th>grnd_level</th>\n",
       "      <th>humidity</th>\n",
       "      <th>wind_speed</th>\n",
       "      <th>wind_deg</th>\n",
       "      <th>rain_1h</th>\n",
       "      <th>rain_3h</th>\n",
       "      <th>snow_1h</th>\n",
       "      <th>snow_3h</th>\n",
       "      <th>clouds_all</th>\n",
       "      <th>weather_id</th>\n",
       "    </tr>\n",
       "  </thead>\n",
       "  <tbody>\n",
       "    <tr>\n",
       "      <th>0</th>\n",
       "      <td>2015-01-01</td>\n",
       "      <td>1.420112e+09</td>\n",
       "      <td>-28800.0</td>\n",
       "      <td>32.715738</td>\n",
       "      <td>-117.161084</td>\n",
       "      <td>46.119167</td>\n",
       "      <td>38.966667</td>\n",
       "      <td>42.921667</td>\n",
       "      <td>51.287917</td>\n",
       "      <td>1019.291667</td>\n",
       "      <td>...</td>\n",
       "      <td>NaN</td>\n",
       "      <td>45.958333</td>\n",
       "      <td>5.002083</td>\n",
       "      <td>160.583333</td>\n",
       "      <td>NaN</td>\n",
       "      <td>NaN</td>\n",
       "      <td>NaN</td>\n",
       "      <td>NaN</td>\n",
       "      <td>14.541667</td>\n",
       "      <td>800.708333</td>\n",
       "    </tr>\n",
       "    <tr>\n",
       "      <th>1</th>\n",
       "      <td>2015-01-02</td>\n",
       "      <td>1.420198e+09</td>\n",
       "      <td>-28800.0</td>\n",
       "      <td>32.715738</td>\n",
       "      <td>-117.161084</td>\n",
       "      <td>48.741250</td>\n",
       "      <td>42.147917</td>\n",
       "      <td>45.371250</td>\n",
       "      <td>53.362917</td>\n",
       "      <td>1020.291667</td>\n",
       "      <td>...</td>\n",
       "      <td>NaN</td>\n",
       "      <td>54.500000</td>\n",
       "      <td>5.635833</td>\n",
       "      <td>144.583333</td>\n",
       "      <td>NaN</td>\n",
       "      <td>NaN</td>\n",
       "      <td>NaN</td>\n",
       "      <td>NaN</td>\n",
       "      <td>4.166667</td>\n",
       "      <td>800.166667</td>\n",
       "    </tr>\n",
       "    <tr>\n",
       "      <th>2</th>\n",
       "      <td>2015-01-03</td>\n",
       "      <td>1.420285e+09</td>\n",
       "      <td>-28800.0</td>\n",
       "      <td>32.715738</td>\n",
       "      <td>-117.161084</td>\n",
       "      <td>50.742917</td>\n",
       "      <td>45.510000</td>\n",
       "      <td>47.449167</td>\n",
       "      <td>54.095000</td>\n",
       "      <td>1021.916667</td>\n",
       "      <td>...</td>\n",
       "      <td>NaN</td>\n",
       "      <td>62.583333</td>\n",
       "      <td>4.790833</td>\n",
       "      <td>204.250000</td>\n",
       "      <td>NaN</td>\n",
       "      <td>NaN</td>\n",
       "      <td>NaN</td>\n",
       "      <td>NaN</td>\n",
       "      <td>21.041667</td>\n",
       "      <td>801.041667</td>\n",
       "    </tr>\n",
       "    <tr>\n",
       "      <th>3</th>\n",
       "      <td>2015-01-04</td>\n",
       "      <td>1.420371e+09</td>\n",
       "      <td>-28800.0</td>\n",
       "      <td>32.715738</td>\n",
       "      <td>-117.161084</td>\n",
       "      <td>52.755417</td>\n",
       "      <td>47.413333</td>\n",
       "      <td>50.084583</td>\n",
       "      <td>56.322917</td>\n",
       "      <td>1025.166667</td>\n",
       "      <td>...</td>\n",
       "      <td>NaN</td>\n",
       "      <td>63.708333</td>\n",
       "      <td>5.609167</td>\n",
       "      <td>185.416667</td>\n",
       "      <td>NaN</td>\n",
       "      <td>NaN</td>\n",
       "      <td>NaN</td>\n",
       "      <td>NaN</td>\n",
       "      <td>18.458333</td>\n",
       "      <td>800.875000</td>\n",
       "    </tr>\n",
       "    <tr>\n",
       "      <th>4</th>\n",
       "      <td>2015-01-05</td>\n",
       "      <td>1.420457e+09</td>\n",
       "      <td>-28800.0</td>\n",
       "      <td>32.715738</td>\n",
       "      <td>-117.161084</td>\n",
       "      <td>58.379167</td>\n",
       "      <td>53.038333</td>\n",
       "      <td>55.012917</td>\n",
       "      <td>62.826667</td>\n",
       "      <td>1023.375000</td>\n",
       "      <td>...</td>\n",
       "      <td>NaN</td>\n",
       "      <td>59.041667</td>\n",
       "      <td>6.302500</td>\n",
       "      <td>199.208333</td>\n",
       "      <td>NaN</td>\n",
       "      <td>NaN</td>\n",
       "      <td>NaN</td>\n",
       "      <td>NaN</td>\n",
       "      <td>29.708333</td>\n",
       "      <td>775.458333</td>\n",
       "    </tr>\n",
       "  </tbody>\n",
       "</table>\n",
       "<p>5 rows × 21 columns</p>\n",
       "</div>"
      ],
      "text/plain": [
       "       dt_iso            dt  timezone        lat         lon       temp  \\\n",
       "0  2015-01-01  1.420112e+09  -28800.0  32.715738 -117.161084  46.119167   \n",
       "1  2015-01-02  1.420198e+09  -28800.0  32.715738 -117.161084  48.741250   \n",
       "2  2015-01-03  1.420285e+09  -28800.0  32.715738 -117.161084  50.742917   \n",
       "3  2015-01-04  1.420371e+09  -28800.0  32.715738 -117.161084  52.755417   \n",
       "4  2015-01-05  1.420457e+09  -28800.0  32.715738 -117.161084  58.379167   \n",
       "\n",
       "   feels_like   temp_min   temp_max     pressure  ...  grnd_level   humidity  \\\n",
       "0   38.966667  42.921667  51.287917  1019.291667  ...         NaN  45.958333   \n",
       "1   42.147917  45.371250  53.362917  1020.291667  ...         NaN  54.500000   \n",
       "2   45.510000  47.449167  54.095000  1021.916667  ...         NaN  62.583333   \n",
       "3   47.413333  50.084583  56.322917  1025.166667  ...         NaN  63.708333   \n",
       "4   53.038333  55.012917  62.826667  1023.375000  ...         NaN  59.041667   \n",
       "\n",
       "   wind_speed    wind_deg  rain_1h  rain_3h  snow_1h  snow_3h  clouds_all  \\\n",
       "0    5.002083  160.583333      NaN      NaN      NaN      NaN   14.541667   \n",
       "1    5.635833  144.583333      NaN      NaN      NaN      NaN    4.166667   \n",
       "2    4.790833  204.250000      NaN      NaN      NaN      NaN   21.041667   \n",
       "3    5.609167  185.416667      NaN      NaN      NaN      NaN   18.458333   \n",
       "4    6.302500  199.208333      NaN      NaN      NaN      NaN   29.708333   \n",
       "\n",
       "   weather_id  \n",
       "0  800.708333  \n",
       "1  800.166667  \n",
       "2  801.041667  \n",
       "3  800.875000  \n",
       "4  775.458333  \n",
       "\n",
       "[5 rows x 21 columns]"
      ]
     },
     "execution_count": 95,
     "metadata": {},
     "output_type": "execute_result"
    }
   ],
   "source": [
    "SDweather_df.head()"
   ]
  },
  {
   "cell_type": "code",
   "execution_count": 96,
   "metadata": {},
   "outputs": [],
   "source": [
    "weather_df = SDweather_df[['dt_iso', 'temp']]\n",
    "weather_df = weather_df.rename(columns={\"dt_iso\": \"Date\",\n",
    "                                                        \"temp\": \"Temp (F)\",\n",
    "                                                   })"
   ]
  },
  {
   "cell_type": "code",
   "execution_count": 97,
   "metadata": {},
   "outputs": [
    {
     "data": {
      "text/html": [
       "<div>\n",
       "<style scoped>\n",
       "    .dataframe tbody tr th:only-of-type {\n",
       "        vertical-align: middle;\n",
       "    }\n",
       "\n",
       "    .dataframe tbody tr th {\n",
       "        vertical-align: top;\n",
       "    }\n",
       "\n",
       "    .dataframe thead th {\n",
       "        text-align: right;\n",
       "    }\n",
       "</style>\n",
       "<table border=\"1\" class=\"dataframe\">\n",
       "  <thead>\n",
       "    <tr style=\"text-align: right;\">\n",
       "      <th></th>\n",
       "      <th>Date</th>\n",
       "      <th>Temp (F)</th>\n",
       "    </tr>\n",
       "  </thead>\n",
       "  <tbody>\n",
       "    <tr>\n",
       "      <th>0</th>\n",
       "      <td>2015-01-01</td>\n",
       "      <td>46.119167</td>\n",
       "    </tr>\n",
       "    <tr>\n",
       "      <th>1</th>\n",
       "      <td>2015-01-02</td>\n",
       "      <td>48.741250</td>\n",
       "    </tr>\n",
       "    <tr>\n",
       "      <th>2</th>\n",
       "      <td>2015-01-03</td>\n",
       "      <td>50.742917</td>\n",
       "    </tr>\n",
       "    <tr>\n",
       "      <th>3</th>\n",
       "      <td>2015-01-04</td>\n",
       "      <td>52.755417</td>\n",
       "    </tr>\n",
       "    <tr>\n",
       "      <th>4</th>\n",
       "      <td>2015-01-05</td>\n",
       "      <td>58.379167</td>\n",
       "    </tr>\n",
       "    <tr>\n",
       "      <th>...</th>\n",
       "      <td>...</td>\n",
       "      <td>...</td>\n",
       "    </tr>\n",
       "    <tr>\n",
       "      <th>1426</th>\n",
       "      <td>2018-11-27</td>\n",
       "      <td>63.020417</td>\n",
       "    </tr>\n",
       "    <tr>\n",
       "      <th>1427</th>\n",
       "      <td>2018-11-28</td>\n",
       "      <td>61.155000</td>\n",
       "    </tr>\n",
       "    <tr>\n",
       "      <th>1428</th>\n",
       "      <td>2018-11-29</td>\n",
       "      <td>61.515000</td>\n",
       "    </tr>\n",
       "    <tr>\n",
       "      <th>1429</th>\n",
       "      <td>2018-11-30</td>\n",
       "      <td>61.797500</td>\n",
       "    </tr>\n",
       "    <tr>\n",
       "      <th>1430</th>\n",
       "      <td>2018-12-01</td>\n",
       "      <td>59.738750</td>\n",
       "    </tr>\n",
       "  </tbody>\n",
       "</table>\n",
       "<p>1431 rows × 2 columns</p>\n",
       "</div>"
      ],
      "text/plain": [
       "            Date   Temp (F)\n",
       "0     2015-01-01  46.119167\n",
       "1     2015-01-02  48.741250\n",
       "2     2015-01-03  50.742917\n",
       "3     2015-01-04  52.755417\n",
       "4     2015-01-05  58.379167\n",
       "...          ...        ...\n",
       "1426  2018-11-27  63.020417\n",
       "1427  2018-11-28  61.155000\n",
       "1428  2018-11-29  61.515000\n",
       "1429  2018-11-30  61.797500\n",
       "1430  2018-12-01  59.738750\n",
       "\n",
       "[1431 rows x 2 columns]"
      ]
     },
     "execution_count": 97,
     "metadata": {},
     "output_type": "execute_result"
    }
   ],
   "source": [
    "weather_df"
   ]
  },
  {
   "cell_type": "code",
   "execution_count": 99,
   "metadata": {},
   "outputs": [],
   "source": [
    "weather_df['Date'] = pd.to_datetime(weather_df['Date'])"
   ]
  },
  {
   "cell_type": "code",
   "execution_count": 100,
   "metadata": {},
   "outputs": [
    {
     "data": {
      "text/html": [
       "<div>\n",
       "<style scoped>\n",
       "    .dataframe tbody tr th:only-of-type {\n",
       "        vertical-align: middle;\n",
       "    }\n",
       "\n",
       "    .dataframe tbody tr th {\n",
       "        vertical-align: top;\n",
       "    }\n",
       "\n",
       "    .dataframe thead th {\n",
       "        text-align: right;\n",
       "    }\n",
       "</style>\n",
       "<table border=\"1\" class=\"dataframe\">\n",
       "  <thead>\n",
       "    <tr style=\"text-align: right;\">\n",
       "      <th></th>\n",
       "      <th>Date</th>\n",
       "      <th>Rate Per Mile</th>\n",
       "      <th>Gasoline - All Grades</th>\n",
       "      <th>Avo Average Price</th>\n",
       "      <th>Temp (F)</th>\n",
       "    </tr>\n",
       "  </thead>\n",
       "  <tbody>\n",
       "    <tr>\n",
       "      <th>0</th>\n",
       "      <td>2015-05-11</td>\n",
       "      <td>2.663333</td>\n",
       "      <td>2.776</td>\n",
       "      <td>1.02</td>\n",
       "      <td>63.347500</td>\n",
       "    </tr>\n",
       "    <tr>\n",
       "      <th>1</th>\n",
       "      <td>2015-05-18</td>\n",
       "      <td>2.672222</td>\n",
       "      <td>2.827</td>\n",
       "      <td>1.06</td>\n",
       "      <td>61.847917</td>\n",
       "    </tr>\n",
       "    <tr>\n",
       "      <th>2</th>\n",
       "      <td>2015-05-25</td>\n",
       "      <td>2.661111</td>\n",
       "      <td>2.857</td>\n",
       "      <td>1.04</td>\n",
       "      <td>62.741667</td>\n",
       "    </tr>\n",
       "    <tr>\n",
       "      <th>3</th>\n",
       "      <td>2015-06-01</td>\n",
       "      <td>2.731111</td>\n",
       "      <td>2.863</td>\n",
       "      <td>1.03</td>\n",
       "      <td>64.777083</td>\n",
       "    </tr>\n",
       "    <tr>\n",
       "      <th>4</th>\n",
       "      <td>2015-06-08</td>\n",
       "      <td>2.741111</td>\n",
       "      <td>2.863</td>\n",
       "      <td>1.00</td>\n",
       "      <td>67.384167</td>\n",
       "    </tr>\n",
       "  </tbody>\n",
       "</table>\n",
       "</div>"
      ],
      "text/plain": [
       "        Date  Rate Per Mile  Gasoline - All Grades  Avo Average Price  \\\n",
       "0 2015-05-11       2.663333                  2.776               1.02   \n",
       "1 2015-05-18       2.672222                  2.827               1.06   \n",
       "2 2015-05-25       2.661111                  2.857               1.04   \n",
       "3 2015-06-01       2.731111                  2.863               1.03   \n",
       "4 2015-06-08       2.741111                  2.863               1.00   \n",
       "\n",
       "    Temp (F)  \n",
       "0  63.347500  \n",
       "1  61.847917  \n",
       "2  62.741667  \n",
       "3  64.777083  \n",
       "4  67.384167  "
      ]
     },
     "execution_count": 100,
     "metadata": {},
     "output_type": "execute_result"
    }
   ],
   "source": [
    "final_df = pd.merge(final_df, weather_df, how='inner', on=['Date'])\n",
    "final_df.head()"
   ]
  },
  {
   "cell_type": "code",
   "execution_count": 101,
   "metadata": {},
   "outputs": [],
   "source": [
    "final_df.to_csv(\"final_df.csv\", index=False)"
   ]
  },
  {
   "cell_type": "code",
   "execution_count": 25,
   "metadata": {},
   "outputs": [],
   "source": [
    "import numpy as np\n",
    "import matplotlib.pyplot as plt"
   ]
  },
  {
   "cell_type": "code",
   "execution_count": 26,
   "metadata": {},
   "outputs": [
    {
     "data": {
      "text/html": [
       "<div>\n",
       "<style scoped>\n",
       "    .dataframe tbody tr th:only-of-type {\n",
       "        vertical-align: middle;\n",
       "    }\n",
       "\n",
       "    .dataframe tbody tr th {\n",
       "        vertical-align: top;\n",
       "    }\n",
       "\n",
       "    .dataframe thead th {\n",
       "        text-align: right;\n",
       "    }\n",
       "</style>\n",
       "<table border=\"1\" class=\"dataframe\">\n",
       "  <thead>\n",
       "    <tr style=\"text-align: right;\">\n",
       "      <th></th>\n",
       "      <th>Date</th>\n",
       "      <th>Rate Per Mile</th>\n",
       "      <th>Gasoline - All Grades</th>\n",
       "      <th>Avo Average Price</th>\n",
       "    </tr>\n",
       "  </thead>\n",
       "  <tbody>\n",
       "    <tr>\n",
       "      <th>0</th>\n",
       "      <td>2003-11-01</td>\n",
       "      <td>1.228</td>\n",
       "      <td>NaN</td>\n",
       "      <td>NaN</td>\n",
       "    </tr>\n",
       "    <tr>\n",
       "      <th>1</th>\n",
       "      <td>2003-11-09</td>\n",
       "      <td>1.272</td>\n",
       "      <td>NaN</td>\n",
       "      <td>NaN</td>\n",
       "    </tr>\n",
       "    <tr>\n",
       "      <th>2</th>\n",
       "      <td>2003-11-15</td>\n",
       "      <td>1.300</td>\n",
       "      <td>NaN</td>\n",
       "      <td>NaN</td>\n",
       "    </tr>\n",
       "    <tr>\n",
       "      <th>3</th>\n",
       "      <td>2003-11-22</td>\n",
       "      <td>1.318</td>\n",
       "      <td>NaN</td>\n",
       "      <td>NaN</td>\n",
       "    </tr>\n",
       "    <tr>\n",
       "      <th>4</th>\n",
       "      <td>2003-11-29</td>\n",
       "      <td>1.284</td>\n",
       "      <td>NaN</td>\n",
       "      <td>NaN</td>\n",
       "    </tr>\n",
       "  </tbody>\n",
       "</table>\n",
       "</div>"
      ],
      "text/plain": [
       "        Date  Rate Per Mile  Gasoline - All Grades  Avo Average Price\n",
       "0 2003-11-01          1.228                    NaN                NaN\n",
       "1 2003-11-09          1.272                    NaN                NaN\n",
       "2 2003-11-15          1.300                    NaN                NaN\n",
       "3 2003-11-22          1.318                    NaN                NaN\n",
       "4 2003-11-29          1.284                    NaN                NaN"
      ]
     },
     "execution_count": 26,
     "metadata": {},
     "output_type": "execute_result"
    }
   ],
   "source": [
    "final_df.head()"
   ]
  },
  {
   "cell_type": "code",
   "execution_count": 84,
   "metadata": {},
   "outputs": [
    {
     "data": {
      "text/html": [
       "<div>\n",
       "<style scoped>\n",
       "    .dataframe tbody tr th:only-of-type {\n",
       "        vertical-align: middle;\n",
       "    }\n",
       "\n",
       "    .dataframe tbody tr th {\n",
       "        vertical-align: top;\n",
       "    }\n",
       "\n",
       "    .dataframe thead th {\n",
       "        text-align: right;\n",
       "    }\n",
       "</style>\n",
       "<table border=\"1\" class=\"dataframe\">\n",
       "  <thead>\n",
       "    <tr style=\"text-align: right;\">\n",
       "      <th></th>\n",
       "      <th>Date</th>\n",
       "      <th>Rate Per Mile</th>\n",
       "      <th>Gasoline - All Grades</th>\n",
       "      <th>Avo Average Price</th>\n",
       "    </tr>\n",
       "  </thead>\n",
       "  <tbody>\n",
       "    <tr>\n",
       "      <th>0</th>\n",
       "      <td>2003-11-01</td>\n",
       "      <td>1.228</td>\n",
       "      <td>NaN</td>\n",
       "      <td>NaN</td>\n",
       "    </tr>\n",
       "    <tr>\n",
       "      <th>1</th>\n",
       "      <td>2003-11-09</td>\n",
       "      <td>1.272</td>\n",
       "      <td>NaN</td>\n",
       "      <td>NaN</td>\n",
       "    </tr>\n",
       "    <tr>\n",
       "      <th>2</th>\n",
       "      <td>2003-11-15</td>\n",
       "      <td>1.300</td>\n",
       "      <td>NaN</td>\n",
       "      <td>NaN</td>\n",
       "    </tr>\n",
       "    <tr>\n",
       "      <th>3</th>\n",
       "      <td>2003-11-22</td>\n",
       "      <td>1.318</td>\n",
       "      <td>NaN</td>\n",
       "      <td>NaN</td>\n",
       "    </tr>\n",
       "    <tr>\n",
       "      <th>4</th>\n",
       "      <td>2003-11-29</td>\n",
       "      <td>1.284</td>\n",
       "      <td>NaN</td>\n",
       "      <td>NaN</td>\n",
       "    </tr>\n",
       "    <tr>\n",
       "      <th>...</th>\n",
       "      <td>...</td>\n",
       "      <td>...</td>\n",
       "      <td>...</td>\n",
       "      <td>...</td>\n",
       "    </tr>\n",
       "    <tr>\n",
       "      <th>2231</th>\n",
       "      <td>2020-06-15</td>\n",
       "      <td>NaN</td>\n",
       "      <td>2.185</td>\n",
       "      <td>NaN</td>\n",
       "    </tr>\n",
       "    <tr>\n",
       "      <th>2232</th>\n",
       "      <td>2020-06-22</td>\n",
       "      <td>NaN</td>\n",
       "      <td>2.216</td>\n",
       "      <td>NaN</td>\n",
       "    </tr>\n",
       "    <tr>\n",
       "      <th>2233</th>\n",
       "      <td>2020-06-29</td>\n",
       "      <td>NaN</td>\n",
       "      <td>2.260</td>\n",
       "      <td>NaN</td>\n",
       "    </tr>\n",
       "    <tr>\n",
       "      <th>2234</th>\n",
       "      <td>2020-07-06</td>\n",
       "      <td>NaN</td>\n",
       "      <td>2.265</td>\n",
       "      <td>NaN</td>\n",
       "    </tr>\n",
       "    <tr>\n",
       "      <th>2235</th>\n",
       "      <td>2020-07-13</td>\n",
       "      <td>NaN</td>\n",
       "      <td>2.283</td>\n",
       "      <td>NaN</td>\n",
       "    </tr>\n",
       "  </tbody>\n",
       "</table>\n",
       "<p>2236 rows × 4 columns</p>\n",
       "</div>"
      ],
      "text/plain": [
       "           Date  Rate Per Mile  Gasoline - All Grades  Avo Average Price\n",
       "0    2003-11-01          1.228                    NaN                NaN\n",
       "1    2003-11-09          1.272                    NaN                NaN\n",
       "2    2003-11-15          1.300                    NaN                NaN\n",
       "3    2003-11-22          1.318                    NaN                NaN\n",
       "4    2003-11-29          1.284                    NaN                NaN\n",
       "...         ...            ...                    ...                ...\n",
       "2231 2020-06-15            NaN                  2.185                NaN\n",
       "2232 2020-06-22            NaN                  2.216                NaN\n",
       "2233 2020-06-29            NaN                  2.260                NaN\n",
       "2234 2020-07-06            NaN                  2.265                NaN\n",
       "2235 2020-07-13            NaN                  2.283                NaN\n",
       "\n",
       "[2236 rows x 4 columns]"
      ]
     },
     "execution_count": 84,
     "metadata": {},
     "output_type": "execute_result"
    }
   ],
   "source": [
    "another_final_df = final_df.copy()\n",
    "another_final_df"
   ]
  },
  {
   "cell_type": "code",
   "execution_count": 85,
   "metadata": {},
   "outputs": [
    {
     "data": {
      "text/html": [
       "<div>\n",
       "<style scoped>\n",
       "    .dataframe tbody tr th:only-of-type {\n",
       "        vertical-align: middle;\n",
       "    }\n",
       "\n",
       "    .dataframe tbody tr th {\n",
       "        vertical-align: top;\n",
       "    }\n",
       "\n",
       "    .dataframe thead th {\n",
       "        text-align: right;\n",
       "    }\n",
       "</style>\n",
       "<table border=\"1\" class=\"dataframe\">\n",
       "  <thead>\n",
       "    <tr style=\"text-align: right;\">\n",
       "      <th></th>\n",
       "      <th>Date</th>\n",
       "      <th>Rate Per Mile</th>\n",
       "      <th>Gasoline - All Grades</th>\n",
       "      <th>Avo Average Price</th>\n",
       "    </tr>\n",
       "  </thead>\n",
       "  <tbody>\n",
       "    <tr>\n",
       "      <th>0</th>\n",
       "      <td>1990-08-20</td>\n",
       "      <td>NaN</td>\n",
       "      <td>NaN</td>\n",
       "      <td>NaN</td>\n",
       "    </tr>\n",
       "    <tr>\n",
       "      <th>1</th>\n",
       "      <td>1990-08-27</td>\n",
       "      <td>NaN</td>\n",
       "      <td>NaN</td>\n",
       "      <td>NaN</td>\n",
       "    </tr>\n",
       "    <tr>\n",
       "      <th>2</th>\n",
       "      <td>1990-09-03</td>\n",
       "      <td>NaN</td>\n",
       "      <td>NaN</td>\n",
       "      <td>NaN</td>\n",
       "    </tr>\n",
       "    <tr>\n",
       "      <th>3</th>\n",
       "      <td>1990-09-10</td>\n",
       "      <td>NaN</td>\n",
       "      <td>NaN</td>\n",
       "      <td>NaN</td>\n",
       "    </tr>\n",
       "    <tr>\n",
       "      <th>4</th>\n",
       "      <td>1990-09-17</td>\n",
       "      <td>NaN</td>\n",
       "      <td>NaN</td>\n",
       "      <td>NaN</td>\n",
       "    </tr>\n",
       "  </tbody>\n",
       "</table>\n",
       "</div>"
      ],
      "text/plain": [
       "        Date  Rate Per Mile  Gasoline - All Grades  Avo Average Price\n",
       "0 1990-08-20            NaN                    NaN                NaN\n",
       "1 1990-08-27            NaN                    NaN                NaN\n",
       "2 1990-09-03            NaN                    NaN                NaN\n",
       "3 1990-09-10            NaN                    NaN                NaN\n",
       "4 1990-09-17            NaN                    NaN                NaN"
      ]
     },
     "execution_count": 85,
     "metadata": {},
     "output_type": "execute_result"
    }
   ],
   "source": [
    "another_final_df = another_final_df.groupby(by=\"Date\").mean()\n",
    "\n",
    "another_final_df = another_final_df.reset_index()\n",
    "another_final_df.head()"
   ]
  },
  {
   "cell_type": "code",
   "execution_count": 86,
   "metadata": {},
   "outputs": [],
   "source": [
    "another_final_df = another_final_df[another_final_df['Date'].dt.year >= 2015]\n",
    "another_final_df = another_final_df[another_final_df['Date'].dt.year <= 2019]"
   ]
  },
  {
   "cell_type": "code",
   "execution_count": 88,
   "metadata": {},
   "outputs": [],
   "source": [
    "another_final_df.to_csv('another_jpb_ml.csv', index=False)"
   ]
  },
  {
   "cell_type": "code",
   "execution_count": 98,
   "metadata": {},
   "outputs": [],
   "source": [
    "another_final_df.fillna(0, inplace=True)"
   ]
  },
  {
   "cell_type": "code",
   "execution_count": 104,
   "metadata": {},
   "outputs": [
    {
     "name": "stdout",
     "output_type": "stream",
     "text": [
      "(450, 2) (450,)\n"
     ]
    }
   ],
   "source": [
    "X = another_final_df[[\"Rate Per Mile\", \"Gasoline - All Grades\"]]\n",
    "y = another_final_df[\"Avo Average Price\"]\n",
    "print(X.shape, y.shape)"
   ]
  },
  {
   "cell_type": "code",
   "execution_count": 105,
   "metadata": {},
   "outputs": [],
   "source": [
    "from sklearn.model_selection import train_test_split\n",
    "\n",
    "another_X_train, another_X_test, another_y_train, another_y_test = train_test_split(X, y, random_state=42)"
   ]
  },
  {
   "cell_type": "code",
   "execution_count": 106,
   "metadata": {},
   "outputs": [],
   "source": [
    "from sklearn.neighbors import KNeighborsClassifier\n",
    "from sklearn.preprocessing import StandardScaler\n",
    "\n",
    "X_scaler = StandardScaler().fit(another_X_train)"
   ]
  },
  {
   "cell_type": "code",
   "execution_count": 107,
   "metadata": {},
   "outputs": [],
   "source": [
    "X_train_scaled = X_scaler.transform(another_X_train)\n",
    "X_test_scaled = X_scaler.transform(another_X_test)"
   ]
  },
  {
   "cell_type": "code",
   "execution_count": 108,
   "metadata": {},
   "outputs": [
    {
     "ename": "ValueError",
     "evalue": "Unknown label type: 'continuous'",
     "output_type": "error",
     "traceback": [
      "\u001b[1;31m---------------------------------------------------------------------------\u001b[0m",
      "\u001b[1;31mValueError\u001b[0m                                Traceback (most recent call last)",
      "\u001b[1;32m<ipython-input-108-5d62945f886f>\u001b[0m in \u001b[0;36m<module>\u001b[1;34m\u001b[0m\n\u001b[0;32m      3\u001b[0m \u001b[1;32mfor\u001b[0m \u001b[0mk\u001b[0m \u001b[1;32min\u001b[0m \u001b[0mrange\u001b[0m\u001b[1;33m(\u001b[0m\u001b[1;36m1\u001b[0m\u001b[1;33m,\u001b[0m \u001b[1;36m20\u001b[0m\u001b[1;33m,\u001b[0m \u001b[1;36m2\u001b[0m\u001b[1;33m)\u001b[0m\u001b[1;33m:\u001b[0m\u001b[1;33m\u001b[0m\u001b[1;33m\u001b[0m\u001b[0m\n\u001b[0;32m      4\u001b[0m     \u001b[0mknn\u001b[0m \u001b[1;33m=\u001b[0m \u001b[0mKNeighborsClassifier\u001b[0m\u001b[1;33m(\u001b[0m\u001b[0mn_neighbors\u001b[0m\u001b[1;33m=\u001b[0m\u001b[0mk\u001b[0m\u001b[1;33m)\u001b[0m\u001b[1;33m\u001b[0m\u001b[1;33m\u001b[0m\u001b[0m\n\u001b[1;32m----> 5\u001b[1;33m     \u001b[0mknn\u001b[0m\u001b[1;33m.\u001b[0m\u001b[0mfit\u001b[0m\u001b[1;33m(\u001b[0m\u001b[0mX_train_scaled\u001b[0m\u001b[1;33m,\u001b[0m \u001b[0manother_y_train\u001b[0m\u001b[1;33m)\u001b[0m\u001b[1;33m\u001b[0m\u001b[1;33m\u001b[0m\u001b[0m\n\u001b[0m\u001b[0;32m      6\u001b[0m     \u001b[0mtrain_score\u001b[0m \u001b[1;33m=\u001b[0m \u001b[0mknn\u001b[0m\u001b[1;33m.\u001b[0m\u001b[0mscore\u001b[0m\u001b[1;33m(\u001b[0m\u001b[0mX_train_scaled\u001b[0m\u001b[1;33m,\u001b[0m \u001b[0manother_y_train\u001b[0m\u001b[1;33m)\u001b[0m\u001b[1;33m\u001b[0m\u001b[1;33m\u001b[0m\u001b[0m\n\u001b[0;32m      7\u001b[0m     \u001b[0mtest_score\u001b[0m \u001b[1;33m=\u001b[0m \u001b[0mknn\u001b[0m\u001b[1;33m.\u001b[0m\u001b[0mscore\u001b[0m\u001b[1;33m(\u001b[0m\u001b[0mX_test_scaled\u001b[0m\u001b[1;33m,\u001b[0m \u001b[0manother_y_test\u001b[0m\u001b[1;33m)\u001b[0m\u001b[1;33m\u001b[0m\u001b[1;33m\u001b[0m\u001b[0m\n",
      "\u001b[1;32m~\\anaconda3\\envs\\PythonData\\lib\\site-packages\\sklearn\\neighbors\\_base.py\u001b[0m in \u001b[0;36mfit\u001b[1;34m(self, X, y)\u001b[0m\n\u001b[0;32m   1144\u001b[0m             \u001b[0mself\u001b[0m\u001b[1;33m.\u001b[0m\u001b[0moutputs_2d_\u001b[0m \u001b[1;33m=\u001b[0m \u001b[1;32mTrue\u001b[0m\u001b[1;33m\u001b[0m\u001b[1;33m\u001b[0m\u001b[0m\n\u001b[0;32m   1145\u001b[0m \u001b[1;33m\u001b[0m\u001b[0m\n\u001b[1;32m-> 1146\u001b[1;33m         \u001b[0mcheck_classification_targets\u001b[0m\u001b[1;33m(\u001b[0m\u001b[0my\u001b[0m\u001b[1;33m)\u001b[0m\u001b[1;33m\u001b[0m\u001b[1;33m\u001b[0m\u001b[0m\n\u001b[0m\u001b[0;32m   1147\u001b[0m         \u001b[0mself\u001b[0m\u001b[1;33m.\u001b[0m\u001b[0mclasses_\u001b[0m \u001b[1;33m=\u001b[0m \u001b[1;33m[\u001b[0m\u001b[1;33m]\u001b[0m\u001b[1;33m\u001b[0m\u001b[1;33m\u001b[0m\u001b[0m\n\u001b[0;32m   1148\u001b[0m         \u001b[0mself\u001b[0m\u001b[1;33m.\u001b[0m\u001b[0m_y\u001b[0m \u001b[1;33m=\u001b[0m \u001b[0mnp\u001b[0m\u001b[1;33m.\u001b[0m\u001b[0mempty\u001b[0m\u001b[1;33m(\u001b[0m\u001b[0my\u001b[0m\u001b[1;33m.\u001b[0m\u001b[0mshape\u001b[0m\u001b[1;33m,\u001b[0m \u001b[0mdtype\u001b[0m\u001b[1;33m=\u001b[0m\u001b[0mnp\u001b[0m\u001b[1;33m.\u001b[0m\u001b[0mint\u001b[0m\u001b[1;33m)\u001b[0m\u001b[1;33m\u001b[0m\u001b[1;33m\u001b[0m\u001b[0m\n",
      "\u001b[1;32m~\\anaconda3\\envs\\PythonData\\lib\\site-packages\\sklearn\\utils\\multiclass.py\u001b[0m in \u001b[0;36mcheck_classification_targets\u001b[1;34m(y)\u001b[0m\n\u001b[0;32m    170\u001b[0m     if y_type not in ['binary', 'multiclass', 'multiclass-multioutput',\n\u001b[0;32m    171\u001b[0m                       'multilabel-indicator', 'multilabel-sequences']:\n\u001b[1;32m--> 172\u001b[1;33m         \u001b[1;32mraise\u001b[0m \u001b[0mValueError\u001b[0m\u001b[1;33m(\u001b[0m\u001b[1;34m\"Unknown label type: %r\"\u001b[0m \u001b[1;33m%\u001b[0m \u001b[0my_type\u001b[0m\u001b[1;33m)\u001b[0m\u001b[1;33m\u001b[0m\u001b[1;33m\u001b[0m\u001b[0m\n\u001b[0m\u001b[0;32m    173\u001b[0m \u001b[1;33m\u001b[0m\u001b[0m\n\u001b[0;32m    174\u001b[0m \u001b[1;33m\u001b[0m\u001b[0m\n",
      "\u001b[1;31mValueError\u001b[0m: Unknown label type: 'continuous'"
     ]
    }
   ],
   "source": [
    "train_scores = []\n",
    "test_scores = []\n",
    "for k in range(1, 20, 2):\n",
    "    knn = KNeighborsClassifier(n_neighbors=k)\n",
    "    knn.fit(X_train_scaled, another_y_train)\n",
    "    train_score = knn.score(X_train_scaled, another_y_train)\n",
    "    test_score = knn.score(X_test_scaled, another_y_test)\n",
    "    train_scores.append(train_score)\n",
    "    test_scores.append(test_score)\n",
    "    print(f\"k: {k}, Train/Test Score: {train_score:.3f}/{test_score:.3f}\")\n",
    "    \n",
    "    \n",
    "plt.plot(range(1, 20, 2), train_scores, marker='o')\n",
    "plt.plot(range(1, 20, 2), test_scores, marker=\"x\")\n",
    "plt.xlabel(\"k neighbors\")\n",
    "plt.ylabel(\"Testing accuracy Score\")\n",
    "plt.show()"
   ]
  },
  {
   "cell_type": "code",
   "execution_count": null,
   "metadata": {},
   "outputs": [],
   "source": []
  },
  {
   "cell_type": "code",
   "execution_count": 27,
   "metadata": {},
   "outputs": [],
   "source": [
    "imp=SimpleImputer(missing_values=np.nan, strategy=\"mean\" )\n",
    "final_df[\"Gasoline - All Grades\"]=imp.fit_transform(final_df[[\"Gasoline - All Grades\"]])"
   ]
  },
  {
   "cell_type": "code",
   "execution_count": 28,
   "metadata": {},
   "outputs": [],
   "source": [
    "imp=SimpleImputer(missing_values=np.nan, strategy=\"mean\" )\n",
    "final_df[\"Avo Average Price\"]=imp.fit_transform(final_df[[\"Avo Average Price\"]])"
   ]
  },
  {
   "cell_type": "code",
   "execution_count": 29,
   "metadata": {},
   "outputs": [],
   "source": [
    "imp=SimpleImputer(missing_values=np.nan, strategy=\"mean\" )\n",
    "final_df[\"Rate Per Mile\"]=imp.fit_transform(final_df[[\"Rate Per Mile\"]])"
   ]
  },
  {
   "cell_type": "code",
   "execution_count": 30,
   "metadata": {},
   "outputs": [
    {
     "data": {
      "text/html": [
       "<div>\n",
       "<style scoped>\n",
       "    .dataframe tbody tr th:only-of-type {\n",
       "        vertical-align: middle;\n",
       "    }\n",
       "\n",
       "    .dataframe tbody tr th {\n",
       "        vertical-align: top;\n",
       "    }\n",
       "\n",
       "    .dataframe thead th {\n",
       "        text-align: right;\n",
       "    }\n",
       "</style>\n",
       "<table border=\"1\" class=\"dataframe\">\n",
       "  <thead>\n",
       "    <tr style=\"text-align: right;\">\n",
       "      <th></th>\n",
       "      <th>Date</th>\n",
       "      <th>Rate Per Mile</th>\n",
       "      <th>Gasoline - All Grades</th>\n",
       "      <th>Avo Average Price</th>\n",
       "    </tr>\n",
       "  </thead>\n",
       "  <tbody>\n",
       "    <tr>\n",
       "      <th>0</th>\n",
       "      <td>1990-08-20</td>\n",
       "      <td>2.335382</td>\n",
       "      <td>2.208449</td>\n",
       "      <td>1.092012</td>\n",
       "    </tr>\n",
       "    <tr>\n",
       "      <th>1</th>\n",
       "      <td>1990-08-27</td>\n",
       "      <td>2.335382</td>\n",
       "      <td>2.208449</td>\n",
       "      <td>1.092012</td>\n",
       "    </tr>\n",
       "    <tr>\n",
       "      <th>2</th>\n",
       "      <td>1990-09-03</td>\n",
       "      <td>2.335382</td>\n",
       "      <td>2.208449</td>\n",
       "      <td>1.092012</td>\n",
       "    </tr>\n",
       "    <tr>\n",
       "      <th>3</th>\n",
       "      <td>1990-09-10</td>\n",
       "      <td>2.335382</td>\n",
       "      <td>2.208449</td>\n",
       "      <td>1.092012</td>\n",
       "    </tr>\n",
       "    <tr>\n",
       "      <th>4</th>\n",
       "      <td>1990-09-17</td>\n",
       "      <td>2.335382</td>\n",
       "      <td>2.208449</td>\n",
       "      <td>1.092012</td>\n",
       "    </tr>\n",
       "  </tbody>\n",
       "</table>\n",
       "</div>"
      ],
      "text/plain": [
       "        Date  Rate Per Mile  Gasoline - All Grades  Avo Average Price\n",
       "0 1990-08-20       2.335382               2.208449           1.092012\n",
       "1 1990-08-27       2.335382               2.208449           1.092012\n",
       "2 1990-09-03       2.335382               2.208449           1.092012\n",
       "3 1990-09-10       2.335382               2.208449           1.092012\n",
       "4 1990-09-17       2.335382               2.208449           1.092012"
      ]
     },
     "execution_count": 30,
     "metadata": {},
     "output_type": "execute_result"
    }
   ],
   "source": [
    "final_df = final_df.groupby(by=\"Date\").mean()\n",
    "\n",
    "final_df = final_df.reset_index()\n",
    "final_df.head()"
   ]
  },
  {
   "cell_type": "code",
   "execution_count": 31,
   "metadata": {},
   "outputs": [],
   "source": [
    "final_df = final_df[final_df['Date'].dt.year >= 2015]\n",
    "final_df = final_df[final_df['Date'].dt.year <= 2019]"
   ]
  },
  {
   "cell_type": "code",
   "execution_count": 32,
   "metadata": {},
   "outputs": [],
   "source": [
    "final_df.to_csv('jpb_ml.csv', index=False)"
   ]
  },
  {
   "cell_type": "code",
   "execution_count": 33,
   "metadata": {},
   "outputs": [
    {
     "name": "stdout",
     "output_type": "stream",
     "text": [
      "(450, 2) (450, 1)\n"
     ]
    }
   ],
   "source": [
    "X = final_df[[\"Rate Per Mile\", \"Gasoline - All Grades\"]]\n",
    "y = final_df[\"Avo Average Price\"].values.reshape(-1, 1)\n",
    "print(X.shape, y.shape)"
   ]
  },
  {
   "cell_type": "code",
   "execution_count": 34,
   "metadata": {},
   "outputs": [],
   "source": [
    "from sklearn.model_selection import train_test_split\n",
    "\n",
    "X_train, X_test, y_train, y_test = train_test_split(X, y, random_state=42)"
   ]
  },
  {
   "cell_type": "code",
   "execution_count": 35,
   "metadata": {},
   "outputs": [],
   "source": [
    "from sklearn.linear_model import LinearRegression\n",
    "model = LinearRegression()"
   ]
  },
  {
   "cell_type": "code",
   "execution_count": 36,
   "metadata": {},
   "outputs": [],
   "source": [
    "model.fit(X_train, y_train)\n",
    "training_score = model.score(X_train, y_train)\n",
    "testing_score = model.score(X_test, y_test)"
   ]
  },
  {
   "cell_type": "code",
   "execution_count": 37,
   "metadata": {},
   "outputs": [
    {
     "name": "stdout",
     "output_type": "stream",
     "text": [
      "Training Score: 0.02231382191795217\n",
      "Testing Score: 0.046403958269606305\n"
     ]
    }
   ],
   "source": [
    "print(f\"Training Score: {training_score}\")\n",
    "print(f\"Testing Score: {testing_score}\")"
   ]
  },
  {
   "cell_type": "code",
   "execution_count": 38,
   "metadata": {},
   "outputs": [
    {
     "data": {
      "text/plain": [
       "Text(0.5, 1.0, 'Residual Plot')"
      ]
     },
     "execution_count": 38,
     "metadata": {},
     "output_type": "execute_result"
    },
    {
     "data": {
      "image/png": "[encoded data removed]",
      "text/plain": [
       "<Figure size 432x288 with 1 Axes>"
      ]
     },
     "metadata": {
      "needs_background": "light"
     },
     "output_type": "display_data"
    }
   ],
   "source": [
    "plt.scatter(model.predict(X_train), model.predict(X_train) - y_train, c=\"blue\", label=\"Training Data\")\n",
    "plt.scatter(model.predict(X_test), model.predict(X_test) - y_test, c=\"orange\", label=\"Testing Data\")\n",
    "plt.legend()\n",
    "plt.hlines(y=0, xmin=y.min(), xmax=y.max())\n",
    "plt.title(\"Residual Plot\")"
   ]
  },
  {
   "cell_type": "code",
   "execution_count": 39,
   "metadata": {},
   "outputs": [
    {
     "data": {
      "text/plain": [
       "<matplotlib.collections.PathCollection at 0x2a5769920a0>"
      ]
     },
     "execution_count": 39,
     "metadata": {},
     "output_type": "execute_result"
    },
    {
     "data": {
      "image/png": "[encoded data removed]",
      "text/plain": [
       "<Figure size 432x288 with 1 Axes>"
      ]
     },
     "metadata": {
      "needs_background": "light"
     },
     "output_type": "display_data"
    }
   ],
   "source": [
    "plt.scatter(final_df['Date'], final_df['Gasoline - All Grades'])"
   ]
  },
  {
   "cell_type": "code",
   "execution_count": 40,
   "metadata": {},
   "outputs": [
    {
     "data": {
      "text/plain": [
       "<matplotlib.collections.PathCollection at 0x2a5769f5100>"
      ]
     },
     "execution_count": 40,
     "metadata": {},
     "output_type": "execute_result"
    },
    {
     "data": {
      "image/png": "[encoded data removed]",
      "text/plain": [
       "<Figure size 432x288 with 1 Axes>"
      ]
     },
     "metadata": {
      "needs_background": "light"
     },
     "output_type": "display_data"
    }
   ],
   "source": [
    "plt.scatter(final_df['Date'], final_df['Rate Per Mile'])"
   ]
  },
  {
   "cell_type": "code",
   "execution_count": 41,
   "metadata": {},
   "outputs": [
    {
     "data": {
      "text/plain": [
       "<matplotlib.collections.PathCollection at 0x2a576a430a0>"
      ]
     },
     "execution_count": 41,
     "metadata": {},
     "output_type": "execute_result"
    },
    {
     "data": {
      "image/png": "[encoded data removed]",
      "text/plain": [
       "<Figure size 432x288 with 1 Axes>"
      ]
     },
     "metadata": {
      "needs_background": "light"
     },
     "output_type": "display_data"
    }
   ],
   "source": [
    "plt.scatter(final_df['Date'], final_df['Avo Average Price'])"
   ]
  },
  {
   "cell_type": "code",
   "execution_count": 42,
   "metadata": {},
   "outputs": [],
   "source": [
    "final_df['1 Year Shift Avo Average Price'] = final_df['Avo Average Price'].shift(182, axis = 0)"
   ]
  },
  {
   "cell_type": "code",
   "execution_count": 43,
   "metadata": {},
   "outputs": [
    {
     "data": {
      "text/html": [
       "<div>\n",
       "<style scoped>\n",
       "    .dataframe tbody tr th:only-of-type {\n",
       "        vertical-align: middle;\n",
       "    }\n",
       "\n",
       "    .dataframe tbody tr th {\n",
       "        vertical-align: top;\n",
       "    }\n",
       "\n",
       "    .dataframe thead th {\n",
       "        text-align: right;\n",
       "    }\n",
       "</style>\n",
       "<table border=\"1\" class=\"dataframe\">\n",
       "  <thead>\n",
       "    <tr style=\"text-align: right;\">\n",
       "      <th></th>\n",
       "      <th>Date</th>\n",
       "      <th>Rate Per Mile</th>\n",
       "      <th>Gasoline - All Grades</th>\n",
       "      <th>Avo Average Price</th>\n",
       "      <th>1 Year Shift Avo Average Price</th>\n",
       "    </tr>\n",
       "  </thead>\n",
       "  <tbody>\n",
       "    <tr>\n",
       "      <th>1719</th>\n",
       "      <td>2015-01-05</td>\n",
       "      <td>2.335382</td>\n",
       "      <td>2.308000</td>\n",
       "      <td>0.950000</td>\n",
       "      <td>NaN</td>\n",
       "    </tr>\n",
       "    <tr>\n",
       "      <th>1720</th>\n",
       "      <td>2015-01-12</td>\n",
       "      <td>2.335382</td>\n",
       "      <td>2.232000</td>\n",
       "      <td>1.010000</td>\n",
       "      <td>NaN</td>\n",
       "    </tr>\n",
       "    <tr>\n",
       "      <th>1721</th>\n",
       "      <td>2015-01-19</td>\n",
       "      <td>2.335382</td>\n",
       "      <td>2.157000</td>\n",
       "      <td>1.030000</td>\n",
       "      <td>NaN</td>\n",
       "    </tr>\n",
       "    <tr>\n",
       "      <th>1722</th>\n",
       "      <td>2015-01-26</td>\n",
       "      <td>2.335382</td>\n",
       "      <td>2.133000</td>\n",
       "      <td>1.040000</td>\n",
       "      <td>NaN</td>\n",
       "    </tr>\n",
       "    <tr>\n",
       "      <th>1723</th>\n",
       "      <td>2015-02-02</td>\n",
       "      <td>2.335382</td>\n",
       "      <td>2.154000</td>\n",
       "      <td>0.890000</td>\n",
       "      <td>NaN</td>\n",
       "    </tr>\n",
       "    <tr>\n",
       "      <th>...</th>\n",
       "      <td>...</td>\n",
       "      <td>...</td>\n",
       "      <td>...</td>\n",
       "      <td>...</td>\n",
       "      <td>...</td>\n",
       "    </tr>\n",
       "    <tr>\n",
       "      <th>2164</th>\n",
       "      <td>2019-12-16</td>\n",
       "      <td>2.335382</td>\n",
       "      <td>2.627000</td>\n",
       "      <td>1.092012</td>\n",
       "      <td>1.090000</td>\n",
       "    </tr>\n",
       "    <tr>\n",
       "      <th>2165</th>\n",
       "      <td>2019-12-20</td>\n",
       "      <td>2.446667</td>\n",
       "      <td>2.208449</td>\n",
       "      <td>1.092012</td>\n",
       "      <td>1.092012</td>\n",
       "    </tr>\n",
       "    <tr>\n",
       "      <th>2166</th>\n",
       "      <td>2019-12-23</td>\n",
       "      <td>2.335382</td>\n",
       "      <td>2.621000</td>\n",
       "      <td>1.092012</td>\n",
       "      <td>1.050000</td>\n",
       "    </tr>\n",
       "    <tr>\n",
       "      <th>2167</th>\n",
       "      <td>2019-12-28</td>\n",
       "      <td>2.473333</td>\n",
       "      <td>2.208449</td>\n",
       "      <td>1.092012</td>\n",
       "      <td>1.092012</td>\n",
       "    </tr>\n",
       "    <tr>\n",
       "      <th>2168</th>\n",
       "      <td>2019-12-30</td>\n",
       "      <td>2.335382</td>\n",
       "      <td>2.658000</td>\n",
       "      <td>1.092012</td>\n",
       "      <td>1.030000</td>\n",
       "    </tr>\n",
       "  </tbody>\n",
       "</table>\n",
       "<p>450 rows × 5 columns</p>\n",
       "</div>"
      ],
      "text/plain": [
       "           Date  Rate Per Mile  Gasoline - All Grades  Avo Average Price  \\\n",
       "1719 2015-01-05       2.335382               2.308000           0.950000   \n",
       "1720 2015-01-12       2.335382               2.232000           1.010000   \n",
       "1721 2015-01-19       2.335382               2.157000           1.030000   \n",
       "1722 2015-01-26       2.335382               2.133000           1.040000   \n",
       "1723 2015-02-02       2.335382               2.154000           0.890000   \n",
       "...         ...            ...                    ...                ...   \n",
       "2164 2019-12-16       2.335382               2.627000           1.092012   \n",
       "2165 2019-12-20       2.446667               2.208449           1.092012   \n",
       "2166 2019-12-23       2.335382               2.621000           1.092012   \n",
       "2167 2019-12-28       2.473333               2.208449           1.092012   \n",
       "2168 2019-12-30       2.335382               2.658000           1.092012   \n",
       "\n",
       "      1 Year Shift Avo Average Price  \n",
       "1719                             NaN  \n",
       "1720                             NaN  \n",
       "1721                             NaN  \n",
       "1722                             NaN  \n",
       "1723                             NaN  \n",
       "...                              ...  \n",
       "2164                        1.090000  \n",
       "2165                        1.092012  \n",
       "2166                        1.050000  \n",
       "2167                        1.092012  \n",
       "2168                        1.030000  \n",
       "\n",
       "[450 rows x 5 columns]"
      ]
     },
     "execution_count": 43,
     "metadata": {},
     "output_type": "execute_result"
    }
   ],
   "source": [
    "final_df"
   ]
  },
  {
   "cell_type": "code",
   "execution_count": 44,
   "metadata": {},
   "outputs": [],
   "source": [
    "final_df.to_csv('jpb_ml.csv', index=False)"
   ]
  },
  {
   "cell_type": "code",
   "execution_count": 45,
   "metadata": {},
   "outputs": [
    {
     "data": {
      "text/plain": [
       "<matplotlib.collections.PathCollection at 0x2a576ada670>"
      ]
     },
     "execution_count": 45,
     "metadata": {},
     "output_type": "execute_result"
    },
    {
     "data": {
      "image/png": "[encoded data removed]",
      "text/plain": [
       "<Figure size 432x288 with 1 Axes>"
      ]
     },
     "metadata": {
      "needs_background": "light"
     },
     "output_type": "display_data"
    }
   ],
   "source": [
    "plt.scatter(final_df['Date'], final_df['1 Year Shift Avo Average Price'])"
   ]
  },
  {
   "cell_type": "code",
   "execution_count": 46,
   "metadata": {},
   "outputs": [
    {
     "data": {
      "text/html": [
       "<div>\n",
       "<style scoped>\n",
       "    .dataframe tbody tr th:only-of-type {\n",
       "        vertical-align: middle;\n",
       "    }\n",
       "\n",
       "    .dataframe tbody tr th {\n",
       "        vertical-align: top;\n",
       "    }\n",
       "\n",
       "    .dataframe thead th {\n",
       "        text-align: right;\n",
       "    }\n",
       "</style>\n",
       "<table border=\"1\" class=\"dataframe\">\n",
       "  <thead>\n",
       "    <tr style=\"text-align: right;\">\n",
       "      <th></th>\n",
       "      <th>Rate Per Mile</th>\n",
       "      <th>Gasoline - All Grades</th>\n",
       "      <th>Avo Average Price</th>\n",
       "      <th>1 Year Shift Avo Average Price</th>\n",
       "    </tr>\n",
       "  </thead>\n",
       "  <tbody>\n",
       "    <tr>\n",
       "      <th>Rate Per Mile</th>\n",
       "      <td>1.000000e+00</td>\n",
       "      <td>-0.448841</td>\n",
       "      <td>-4.513504e-16</td>\n",
       "      <td>-0.189631</td>\n",
       "    </tr>\n",
       "    <tr>\n",
       "      <th>Gasoline - All Grades</th>\n",
       "      <td>-4.488407e-01</td>\n",
       "      <td>1.000000</td>\n",
       "      <td>1.745718e-01</td>\n",
       "      <td>0.250398</td>\n",
       "    </tr>\n",
       "    <tr>\n",
       "      <th>Avo Average Price</th>\n",
       "      <td>-4.513504e-16</td>\n",
       "      <td>0.174572</td>\n",
       "      <td>1.000000e+00</td>\n",
       "      <td>-0.092715</td>\n",
       "    </tr>\n",
       "    <tr>\n",
       "      <th>1 Year Shift Avo Average Price</th>\n",
       "      <td>-1.896314e-01</td>\n",
       "      <td>0.250398</td>\n",
       "      <td>-9.271466e-02</td>\n",
       "      <td>1.000000</td>\n",
       "    </tr>\n",
       "  </tbody>\n",
       "</table>\n",
       "</div>"
      ],
      "text/plain": [
       "                                Rate Per Mile  Gasoline - All Grades  \\\n",
       "Rate Per Mile                    1.000000e+00              -0.448841   \n",
       "Gasoline - All Grades           -4.488407e-01               1.000000   \n",
       "Avo Average Price               -4.513504e-16               0.174572   \n",
       "1 Year Shift Avo Average Price  -1.896314e-01               0.250398   \n",
       "\n",
       "                                Avo Average Price  \\\n",
       "Rate Per Mile                       -4.513504e-16   \n",
       "Gasoline - All Grades                1.745718e-01   \n",
       "Avo Average Price                    1.000000e+00   \n",
       "1 Year Shift Avo Average Price      -9.271466e-02   \n",
       "\n",
       "                                1 Year Shift Avo Average Price  \n",
       "Rate Per Mile                                        -0.189631  \n",
       "Gasoline - All Grades                                 0.250398  \n",
       "Avo Average Price                                    -0.092715  \n",
       "1 Year Shift Avo Average Price                        1.000000  "
      ]
     },
     "execution_count": 46,
     "metadata": {},
     "output_type": "execute_result"
    }
   ],
   "source": [
    "final_df.corr()"
   ]
  },
  {
   "cell_type": "code",
   "execution_count": 47,
   "metadata": {},
   "outputs": [
    {
     "data": {
      "image/png": "[encoded data removed]",
      "text/plain": [
       "<Figure size 288x288 with 1 Axes>"
      ]
     },
     "metadata": {
      "needs_background": "light"
     },
     "output_type": "display_data"
    }
   ],
   "source": [
    "plt.matshow(final_df.corr())\n",
    "plt.show()"
   ]
  },
  {
   "cell_type": "code",
   "execution_count": 48,
   "metadata": {},
   "outputs": [],
   "source": [
    "a_final_df = final_df.set_index('Date')"
   ]
  },
  {
   "cell_type": "code",
   "execution_count": 49,
   "metadata": {},
   "outputs": [],
   "source": [
    "a_final_df.index = pd.to_datetime(a_final_df.index)"
   ]
  },
  {
   "cell_type": "code",
   "execution_count": 53,
   "metadata": {},
   "outputs": [],
   "source": [
    "import plotly\n",
    "# plotly.tools.set_credentials_file()"
   ]
  },
  {
   "cell_type": "code",
   "execution_count": 122,
   "metadata": {},
   "outputs": [
    {
     "data": {
      "image/png": "[encoded data removed]",
      "text/plain": [
       "<Figure size 432x288 with 4 Axes>"
      ]
     },
     "metadata": {
      "needs_background": "light"
     },
     "output_type": "display_data"
    }
   ],
   "source": [
    "# import chart_studio.plotly as py\n",
    "# import plotly.graph_objects as go\n",
    "from  plotly.offline import plot\n",
    "import cufflinks as cf\n",
    "from statsmodels.tsa.seasonal import seasonal_decompose\n",
    "result = seasonal_decompose(a_final_df['Avo Average Price'], model='multiplicative', period=52)\n",
    "fig = result.plot()\n",
    "# py.iplot(fig)"
   ]
  },
  {
   "cell_type": "code",
   "execution_count": 123,
   "metadata": {},
   "outputs": [],
   "source": [
    "train = a_final_df['Avo Average Price'].loc['2015-01-05':'2017-12-31']\n",
    "test = a_final_df['Avo Average Price'].loc['2018-01-01':]"
   ]
  },
  {
   "cell_type": "code",
   "execution_count": 51,
   "metadata": {},
   "outputs": [
    {
     "name": "stdout",
     "output_type": "stream",
     "text": [
      "Performing stepwise search to minimize aic\n",
      " ARIMA(1,1,1)(0,1,1)[12]             : AIC=inf, Time=5.32 sec\n",
      " ARIMA(0,1,0)(0,1,0)[12]             : AIC=95.986, Time=0.45 sec\n",
      " ARIMA(1,1,0)(1,1,0)[12]             : AIC=-906.820, Time=1.83 sec\n",
      " ARIMA(0,1,1)(0,1,1)[12]             : AIC=-360.451, Time=1.37 sec\n",
      " ARIMA(1,1,0)(0,1,0)[12]             : AIC=-798.870, Time=0.31 sec\n",
      " ARIMA(1,1,0)(2,1,0)[12]             : AIC=-957.405, Time=5.44 sec\n",
      " ARIMA(1,1,0)(2,1,1)[12]             : AIC=inf, Time=17.96 sec\n",
      " ARIMA(1,1,0)(1,1,1)[12]             : AIC=inf, Time=3.97 sec\n",
      " ARIMA(0,1,0)(2,1,0)[12]             : AIC=28.622, Time=1.03 sec\n",
      " ARIMA(2,1,0)(2,1,0)[12]             : AIC=-960.727, Time=4.33 sec\n",
      " ARIMA(2,1,0)(1,1,0)[12]             : AIC=-912.379, Time=1.71 sec\n",
      " ARIMA(2,1,0)(2,1,1)[12]             : AIC=inf, Time=13.88 sec\n",
      " ARIMA(2,1,0)(1,1,1)[12]             : AIC=inf, Time=6.33 sec\n",
      " ARIMA(3,1,0)(2,1,0)[12]             : AIC=-981.153, Time=5.88 sec\n",
      " ARIMA(3,1,0)(1,1,0)[12]             : AIC=-934.631, Time=5.64 sec\n",
      " ARIMA(3,1,0)(2,1,1)[12]             : AIC=inf, Time=22.86 sec\n",
      " ARIMA(3,1,0)(1,1,1)[12]             : AIC=inf, Time=9.60 sec\n",
      " ARIMA(3,1,1)(2,1,0)[12]             : AIC=-979.165, Time=9.31 sec\n",
      " ARIMA(2,1,1)(2,1,0)[12]             : AIC=-954.233, Time=10.22 sec\n",
      " ARIMA(3,1,0)(2,1,0)[12] intercept   : AIC=-979.180, Time=20.40 sec\n",
      "\n",
      "Best model:  ARIMA(3,1,0)(2,1,0)[12]          \n",
      "Total fit time: 147.864 seconds\n",
      "-981.1529960911837\n"
     ]
    }
   ],
   "source": [
    "from pmdarima.arima import auto_arima\n",
    "# from pmdarima.model_selection import train_test_split\n",
    "stepwise_model = auto_arima(a_final_df['Rate Per Mile'], start_p=1, start_q=1,\n",
    "                           max_p=3, max_q=3, m=12,\n",
    "                           start_P=0, seasonal=True,\n",
    "                           d=1, D=1, trace=True,\n",
    "                           error_action='ignore',  \n",
    "                           suppress_warnings=True, \n",
    "                           stepwise=True)\n",
    "print(stepwise_model.aic())"
   ]
  },
  {
   "cell_type": "code",
   "execution_count": null,
   "metadata": {},
   "outputs": [],
   "source": [
    "stepwise_model.fit(train)"
   ]
  },
  {
   "cell_type": "code",
   "execution_count": null,
   "metadata": {},
   "outputs": [],
   "source": [
    "future_forecast = stepwise_model.predict(n_periods=450)\n",
    "# This returns an array of predictions:\n",
    "print(future_forecast)"
   ]
  },
  {
   "cell_type": "code",
   "execution_count": null,
   "metadata": {},
   "outputs": [],
   "source": [
    "future_forecast = pd.DataFrame(future_forecast,index = a_final_df.index,columns=['Prediction'])\n",
    "pd.concat([a_final_df,future_forecast],axis=1).plot()"
   ]
  },
  {
   "cell_type": "code",
   "execution_count": null,
   "metadata": {},
   "outputs": [],
   "source": [
    "from pmdarima.arima import auto_arima\n",
    "# from pmdarima.model_selection import train_test_split\n",
    "stepwise_model = auto_arima(a_final_df['Gasoline - All Grades'], start_p=1, start_q=1,\n",
    "                           max_p=3, max_q=3, m=12,\n",
    "                           start_P=0, seasonal=True,\n",
    "                           d=1, D=1, trace=True,\n",
    "                           error_action='ignore',  \n",
    "                           suppress_warnings=True, \n",
    "                           stepwise=True)\n",
    "print(stepwise_model.aic())"
   ]
  },
  {
   "cell_type": "code",
   "execution_count": null,
   "metadata": {},
   "outputs": [],
   "source": [
    "stepwise_model.fit(X_train['Gasoline - All Grades'])"
   ]
  },
  {
   "cell_type": "code",
   "execution_count": null,
   "metadata": {},
   "outputs": [],
   "source": [
    "future_forecast = stepwise_model.predict(n_periods=450)\n",
    "# This returns an array of predictions:\n",
    "print(future_forecast)"
   ]
  },
  {
   "cell_type": "code",
   "execution_count": null,
   "metadata": {},
   "outputs": [],
   "source": [
    "future_forecast = pd.DataFrame(future_forecast,index = a_final_df.index,columns=['Prediction2'])\n",
    "pd.concat([a_final_df,future_forecast],axis=1).plot()"
   ]
  },
  {
   "cell_type": "code",
   "execution_count": 109,
   "metadata": {},
   "outputs": [
    {
     "name": "stdout",
     "output_type": "stream",
     "text": [
      "Performing stepwise search to minimize aic\n",
      " ARIMA(1,1,1)(0,1,1)[12]             : AIC=inf, Time=8.55 sec\n",
      " ARIMA(0,1,0)(0,1,0)[12]             : AIC=-560.645, Time=0.17 sec\n",
      " ARIMA(1,1,0)(1,1,0)[12]             : AIC=-1213.062, Time=1.13 sec\n",
      " ARIMA(0,1,1)(0,1,1)[12]             : AIC=inf, Time=3.42 sec\n",
      " ARIMA(1,1,0)(0,1,0)[12]             : AIC=-1075.046, Time=0.07 sec\n",
      " ARIMA(1,1,0)(2,1,0)[12]             : AIC=-1238.778, Time=1.74 sec\n",
      " ARIMA(1,1,0)(2,1,1)[12]             : AIC=inf, Time=6.67 sec\n",
      " ARIMA(1,1,0)(1,1,1)[12]             : AIC=inf, Time=3.56 sec\n",
      " ARIMA(0,1,0)(2,1,0)[12]             : AIC=-568.170, Time=0.65 sec\n",
      " ARIMA(2,1,0)(2,1,0)[12]             : AIC=-1243.892, Time=2.27 sec\n",
      " ARIMA(2,1,0)(1,1,0)[12]             : AIC=-1218.640, Time=1.14 sec\n",
      " ARIMA(2,1,0)(2,1,1)[12]             : AIC=inf, Time=8.14 sec\n",
      " ARIMA(2,1,0)(1,1,1)[12]             : AIC=inf, Time=4.81 sec\n",
      " ARIMA(3,1,0)(2,1,0)[12]             : AIC=-1242.989, Time=3.35 sec\n",
      " ARIMA(2,1,1)(2,1,0)[12]             : AIC=-1242.765, Time=5.98 sec\n",
      " ARIMA(1,1,1)(2,1,0)[12]             : AIC=-1244.563, Time=1.98 sec\n",
      " ARIMA(1,1,1)(1,1,0)[12]             : AIC=-1219.661, Time=1.29 sec\n",
      " ARIMA(1,1,1)(2,1,1)[12]             : AIC=inf, Time=9.29 sec\n",
      " ARIMA(1,1,1)(1,1,1)[12]             : AIC=inf, Time=5.13 sec\n",
      " ARIMA(0,1,1)(2,1,0)[12]             : AIC=-846.583, Time=1.28 sec\n",
      " ARIMA(1,1,2)(2,1,0)[12]             : AIC=-1242.839, Time=3.21 sec\n",
      " ARIMA(0,1,2)(2,1,0)[12]             : AIC=-995.819, Time=1.84 sec\n",
      " ARIMA(2,1,2)(2,1,0)[12]             : AIC=-1240.949, Time=3.58 sec\n",
      " ARIMA(1,1,1)(2,1,0)[12] intercept   : AIC=-1242.579, Time=8.42 sec\n",
      "\n",
      "Best model:  ARIMA(1,1,1)(2,1,0)[12]          \n",
      "Total fit time: 87.686 seconds\n",
      "-1244.5626393248688\n"
     ]
    }
   ],
   "source": [
    "from pmdarima.arima import auto_arima\n",
    "# from pmdarima.model_selection import train_test_split\n",
    "stepwise_model = auto_arima(a_final_df['Avo Average Price'], start_p=1, start_q=1,\n",
    "                           max_p=3, max_q=3, m=12,\n",
    "                           start_P=0, seasonal=True,\n",
    "                           d=1, D=1, trace=True,\n",
    "                           error_action='ignore',  \n",
    "                           suppress_warnings=True, \n",
    "                           stepwise=True)\n",
    "print(stepwise_model.aic())"
   ]
  },
  {
   "cell_type": "code",
   "execution_count": 124,
   "metadata": {},
   "outputs": [
    {
     "data": {
      "text/plain": [
       "ARIMA(order=(1, 1, 1), scoring_args={}, seasonal_order=(2, 1, 0, 12),\n",
       "      suppress_warnings=True, with_intercept=False)"
      ]
     },
     "execution_count": 124,
     "metadata": {},
     "output_type": "execute_result"
    }
   ],
   "source": [
    "stepwise_model.fit(train)"
   ]
  },
  {
   "cell_type": "code",
   "execution_count": 126,
   "metadata": {},
   "outputs": [
    {
     "data": {
      "text/plain": [
       "(243,)"
      ]
     },
     "execution_count": 126,
     "metadata": {},
     "output_type": "execute_result"
    }
   ],
   "source": [
    "train.shape"
   ]
  },
  {
   "cell_type": "code",
   "execution_count": 128,
   "metadata": {},
   "outputs": [
    {
     "data": {
      "text/plain": [
       "(207,)"
      ]
     },
     "execution_count": 128,
     "metadata": {},
     "output_type": "execute_result"
    }
   ],
   "source": [
    "test.shape"
   ]
  },
  {
   "cell_type": "code",
   "execution_count": 129,
   "metadata": {},
   "outputs": [
    {
     "name": "stdout",
     "output_type": "stream",
     "text": [
      "[1.21768497 1.08028439 1.2499296  1.06979665 1.14723208 1.06041757\n",
      " 1.0767942  1.05202996 1.07111123 1.04452901 1.10674368 1.03782098\n",
      " 1.1370965  1.02758209 1.16573475 1.01842556 1.04029451 1.01023696\n",
      " 0.95959625 1.00291399 0.95375273 0.99636512 1.004725   0.99050854\n",
      " 1.03878683 0.9790472  1.08163269 0.96879744 0.96202803 0.95963118\n",
      " 0.89269043 0.95143389 0.8999185  0.94410313 0.9606868  0.93754731\n",
      " 0.99578889 0.92494181 1.03190817 0.91366883 0.91532848 0.90358753\n",
      " 0.84237144 0.89457192 0.8423538  0.88650935 0.89415923 0.87929908\n",
      " 0.92856177 0.86691264 0.96634704 0.85583558 0.84712352 0.84592948\n",
      " 0.77437552 0.83707055 0.77640997 0.8291481  0.8320875  0.82206314\n",
      " 0.86712292 0.80939895 0.90583697 0.79807349 0.78792744 0.78794525\n",
      " 0.71621971 0.77888767 0.7189496  0.77078757 0.77454068 0.76354373\n",
      " 0.80956102 0.75079454 0.84748349 0.73939306 0.72954317 0.72919684\n",
      " 0.65728032 0.72007847 0.65921896 0.711924   0.71406896 0.70463154\n",
      " 0.74906166 0.69189538 0.78736967 0.68050556 0.66922656 0.67031976\n",
      " 0.59715135 0.66121071 0.59950202 0.65306458 0.65491079 0.64577957\n",
      " 0.68998287 0.63300039 0.72828548 0.62157209 0.61032567 0.61135189\n",
      " 0.53830461 0.60221206 0.54061808 0.59403841 0.59588008 0.58672879\n",
      " 0.6309378  0.57394585 0.66917851 0.56251419 0.55117382 0.55229098\n",
      " 0.47909471 0.54314846 0.48135269 0.5349724  0.53659216 0.52766064\n",
      " 0.57165533 0.51487597 0.60995045 0.50344277 0.49194287 0.49321818\n",
      " 0.41989879 0.48407443 0.4222108  0.47589727 0.47750835 0.46858452\n",
      " 0.51257925 0.45579449 0.55086135 0.4443565  0.43287254 0.43412762\n",
      " 0.3608255  0.42498003 0.36312123 0.41679945 0.41839152 0.40948363\n",
      " 0.45346016 0.39669367 0.49174116 0.38525574 0.37374424 0.37502691\n",
      " 0.30169358 0.36587938 0.30398937 0.35769884 0.35926549 0.35038306\n",
      " 0.39433577 0.33759241 0.43262239 0.32615386 0.3146278  0.31592448\n",
      " 0.24258162 0.30677646 0.24488255 0.29859547 0.30016261 0.2912793\n",
      " 0.33523343 0.27848808 0.37351766 0.26704903 0.25552434 0.25681921\n",
      " 0.18347691 0.24767078 0.18577521 0.23948944 0.24105196 0.23217294\n",
      " 0.27612258 0.21938175 0.31440747 0.20794272 0.19641321 0.19771291\n",
      " 0.12436589 0.18856449 0.12666498 0.18038316 0.18194321 0.17306668\n",
      " 0.2170141  0.16027535 0.25529939 0.1488362  0.13730564 0.13860628\n",
      " 0.06525874 0.12945776 0.06755813 0.12127634 0.12283636 0.11395978\n",
      " 0.15790726 0.10116841 0.19619227]\n"
     ]
    }
   ],
   "source": [
    "future_forecast = stepwise_model.predict(n_periods=207)\n",
    "# This returns an array of predictions:\n",
    "print(future_forecast)"
   ]
  },
  {
   "cell_type": "code",
   "execution_count": 131,
   "metadata": {},
   "outputs": [],
   "source": [
    "predictions = future_forecast.head(52)"
   ]
  },
  {
   "cell_type": "code",
   "execution_count": 134,
   "metadata": {},
   "outputs": [
    {
     "data": {
      "text/plain": [
       "Date\n",
       "2018-01-01    0.980000\n",
       "2018-01-06    1.092012\n",
       "2018-01-08    1.130000\n",
       "2018-01-13    1.092012\n",
       "2018-01-15    1.200000\n",
       "2018-01-20    1.092012\n",
       "2018-01-22    1.080000\n",
       "2018-01-27    1.092012\n",
       "2018-01-29    1.090000\n",
       "2018-02-03    1.092012\n",
       "2018-02-05    0.870000\n",
       "2018-02-10    1.092012\n",
       "2018-02-12    0.970000\n",
       "2018-02-17    1.092012\n",
       "2018-02-19    1.080000\n",
       "2018-02-24    1.092012\n",
       "2018-02-26    1.060000\n",
       "2018-03-03    1.092012\n",
       "2018-03-05    1.070000\n",
       "2018-03-10    1.092012\n",
       "2018-03-12    1.090000\n",
       "2018-03-17    1.092012\n",
       "2018-03-19    1.050000\n",
       "2018-03-24    1.092012\n",
       "2018-03-26    1.030000\n",
       "2018-03-31    1.092012\n",
       "2018-04-02    1.092012\n",
       "2018-04-07    1.092012\n",
       "2018-04-09    1.092012\n",
       "2018-04-14    1.092012\n",
       "2018-04-16    1.092012\n",
       "2018-04-21    1.092012\n",
       "2018-04-23    1.092012\n",
       "2018-04-28    1.092012\n",
       "2018-04-30    1.092012\n",
       "2018-05-05    1.092012\n",
       "2018-05-07    1.092012\n",
       "2018-05-12    1.092012\n",
       "2018-05-14    1.092012\n",
       "2018-05-19    1.092012\n",
       "2018-05-21    1.092012\n",
       "2018-05-26    1.092012\n",
       "2018-05-28    1.092012\n",
       "2018-06-02    1.092012\n",
       "2018-06-04    1.092012\n",
       "2018-06-09    1.092012\n",
       "2018-06-11    1.092012\n",
       "2018-06-16    1.092012\n",
       "2018-06-18    1.092012\n",
       "2018-06-23    1.092012\n",
       "2018-06-25    1.092012\n",
       "2018-06-30    1.092012\n",
       "Name: Avo Average Price, dtype: float64"
      ]
     },
     "execution_count": 134,
     "metadata": {},
     "output_type": "execute_result"
    }
   ],
   "source": [
    "test_new = test.head(52)\n",
    "test_new"
   ]
  },
  {
   "cell_type": "code",
   "execution_count": 133,
   "metadata": {},
   "outputs": [
    {
     "data": {
      "text/plain": [
       "<matplotlib.axes._subplots.AxesSubplot at 0x2a506f9e3a0>"
      ]
     },
     "execution_count": 133,
     "metadata": {},
     "output_type": "execute_result"
    },
    {
     "data": {
      "image/png": "[encoded data removed]",
      "text/plain": [
       "<Figure size 432x288 with 1 Axes>"
      ]
     },
     "metadata": {
      "needs_background": "light"
     },
     "output_type": "display_data"
    }
   ],
   "source": [
    "future_forecast = pd.DataFrame(predictions,index = test_new.index,columns=['Predictions'])\n",
    "pd.concat([a_final_df['Avo Average Price'],future_forecast],axis=1).plot()"
   ]
  },
  {
   "cell_type": "code",
   "execution_count": 140,
   "metadata": {},
   "outputs": [
    {
     "data": {
      "text/plain": [
       "<matplotlib.axes._subplots.AxesSubplot at 0x2a5025292b0>"
      ]
     },
     "execution_count": 140,
     "metadata": {},
     "output_type": "execute_result"
    },
    {
     "data": {
      "image/png": "[encoded data removed]",
      "text/plain": [
       "<Figure size 432x288 with 1 Axes>"
      ]
     },
     "metadata": {
      "needs_background": "light"
     },
     "output_type": "display_data"
    }
   ],
   "source": [
    "future_forecast['2018-01-01':'2018-04-01'].plot()"
   ]
  },
  {
   "cell_type": "code",
   "execution_count": 139,
   "metadata": {},
   "outputs": [
    {
     "data": {
      "text/plain": [
       "<matplotlib.axes._subplots.AxesSubplot at 0x2a503b63bb0>"
      ]
     },
     "execution_count": 139,
     "metadata": {},
     "output_type": "execute_result"
    },
    {
     "data": {
      "image/png": "[encoded data removed]",
      "text/plain": [
       "<Figure size 432x288 with 1 Axes>"
      ]
     },
     "metadata": {
      "needs_background": "light"
     },
     "output_type": "display_data"
    }
   ],
   "source": [
    "a_final_df['Avo Average Price']['2018-01-01':'2018-04-01'].plot()"
   ]
  },
  {
   "cell_type": "code",
   "execution_count": null,
   "metadata": {},
   "outputs": [],
   "source": []
  }
 ],
 "metadata": {
  "kernelspec": {
   "display_name": "Python [conda env:PythonData] *",
   "language": "python",
   "name": "conda-env-PythonData-py"
  },
  "language_info": {
   "codemirror_mode": {
    "name": "ipython",
    "version": 3
   },
   "file_extension": ".py",
   "mimetype": "text/x-python",
   "name": "python",
   "nbconvert_exporter": "python",
   "pygments_lexer": "ipython3",
   "version": "3.8.2"
  }
 },
 "nbformat": 4,
 "nbformat_minor": 4
}
