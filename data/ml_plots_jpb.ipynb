{
 "cells": [
  {
   "cell_type": "code",
   "execution_count": 13,
   "metadata": {},
   "outputs": [],
   "source": [
    "import pandas as pd\n",
    "from sqlalchemy import create_engine\n",
    "from datetime import datetime\n",
    "from datetime import timedelta\n",
    "from sklearn.impute import SimpleImputer\n",
    "import numpy as np\n",
    "import matplotlib.pyplot as plt"
   ]
  },
  {
   "cell_type": "code",
   "execution_count": 3,
   "metadata": {},
   "outputs": [],
   "source": [
    "final = \"final_df.csv\""
   ]
  },
  {
   "cell_type": "code",
   "execution_count": 4,
   "metadata": {},
   "outputs": [
    {
     "data": {
      "text/html": [
       "<div>\n",
       "<style scoped>\n",
       "    .dataframe tbody tr th:only-of-type {\n",
       "        vertical-align: middle;\n",
       "    }\n",
       "\n",
       "    .dataframe tbody tr th {\n",
       "        vertical-align: top;\n",
       "    }\n",
       "\n",
       "    .dataframe thead th {\n",
       "        text-align: right;\n",
       "    }\n",
       "</style>\n",
       "<table border=\"1\" class=\"dataframe\">\n",
       "  <thead>\n",
       "    <tr style=\"text-align: right;\">\n",
       "      <th></th>\n",
       "      <th>Date</th>\n",
       "      <th>Rate Per Mile</th>\n",
       "      <th>Gasoline - All Grades</th>\n",
       "      <th>Avo Average Price</th>\n",
       "      <th>Temp (F)</th>\n",
       "      <th>Transport_Rates</th>\n",
       "      <th>Gas_Prices</th>\n",
       "      <th>Avocado_Prices</th>\n",
       "      <th>Temperature_F</th>\n",
       "    </tr>\n",
       "  </thead>\n",
       "  <tbody>\n",
       "    <tr>\n",
       "      <th>0</th>\n",
       "      <td>2015-01-05</td>\n",
       "      <td>NaN</td>\n",
       "      <td>2.308</td>\n",
       "      <td>0.95</td>\n",
       "      <td>58.379167</td>\n",
       "      <td>2.687361</td>\n",
       "      <td>2.308</td>\n",
       "      <td>0.95</td>\n",
       "      <td>58.379167</td>\n",
       "    </tr>\n",
       "    <tr>\n",
       "      <th>1</th>\n",
       "      <td>2015-01-12</td>\n",
       "      <td>NaN</td>\n",
       "      <td>2.232</td>\n",
       "      <td>1.01</td>\n",
       "      <td>60.339630</td>\n",
       "      <td>2.687361</td>\n",
       "      <td>2.232</td>\n",
       "      <td>1.01</td>\n",
       "      <td>60.339630</td>\n",
       "    </tr>\n",
       "    <tr>\n",
       "      <th>2</th>\n",
       "      <td>2015-01-19</td>\n",
       "      <td>NaN</td>\n",
       "      <td>2.157</td>\n",
       "      <td>1.03</td>\n",
       "      <td>58.188333</td>\n",
       "      <td>2.687361</td>\n",
       "      <td>2.157</td>\n",
       "      <td>1.03</td>\n",
       "      <td>58.188333</td>\n",
       "    </tr>\n",
       "    <tr>\n",
       "      <th>3</th>\n",
       "      <td>2015-01-26</td>\n",
       "      <td>NaN</td>\n",
       "      <td>2.133</td>\n",
       "      <td>1.04</td>\n",
       "      <td>64.723750</td>\n",
       "      <td>2.687361</td>\n",
       "      <td>2.133</td>\n",
       "      <td>1.04</td>\n",
       "      <td>64.723750</td>\n",
       "    </tr>\n",
       "    <tr>\n",
       "      <th>4</th>\n",
       "      <td>2015-02-02</td>\n",
       "      <td>NaN</td>\n",
       "      <td>2.154</td>\n",
       "      <td>0.89</td>\n",
       "      <td>60.628333</td>\n",
       "      <td>2.687361</td>\n",
       "      <td>2.154</td>\n",
       "      <td>0.89</td>\n",
       "      <td>60.628333</td>\n",
       "    </tr>\n",
       "  </tbody>\n",
       "</table>\n",
       "</div>"
      ],
      "text/plain": [
       "         Date  Rate Per Mile  Gasoline - All Grades  Avo Average Price  \\\n",
       "0  2015-01-05            NaN                  2.308               0.95   \n",
       "1  2015-01-12            NaN                  2.232               1.01   \n",
       "2  2015-01-19            NaN                  2.157               1.03   \n",
       "3  2015-01-26            NaN                  2.133               1.04   \n",
       "4  2015-02-02            NaN                  2.154               0.89   \n",
       "\n",
       "    Temp (F)  Transport_Rates  Gas_Prices  Avocado_Prices  Temperature_F  \n",
       "0  58.379167         2.687361       2.308            0.95      58.379167  \n",
       "1  60.339630         2.687361       2.232            1.01      60.339630  \n",
       "2  58.188333         2.687361       2.157            1.03      58.188333  \n",
       "3  64.723750         2.687361       2.133            1.04      64.723750  \n",
       "4  60.628333         2.687361       2.154            0.89      60.628333  "
      ]
     },
     "execution_count": 4,
     "metadata": {},
     "output_type": "execute_result"
    }
   ],
   "source": [
    "final_df = pd.read_csv(final)\n",
    "final_df.head()"
   ]
  },
  {
   "cell_type": "code",
   "execution_count": 5,
   "metadata": {},
   "outputs": [
    {
     "name": "stdout",
     "output_type": "stream",
     "text": [
      "(204, 3) (204, 1)\n"
     ]
    }
   ],
   "source": [
    "X = final_df[[\"Transport_Rates\", \"Gas_Prices\", \"Temperature_F\"]]\n",
    "y = final_df[\"Avocado_Prices\"].values.reshape(-1, 1)\n",
    "print(X.shape, y.shape)"
   ]
  },
  {
   "cell_type": "code",
   "execution_count": 9,
   "metadata": {},
   "outputs": [],
   "source": [
    "from sklearn.model_selection import train_test_split\n",
    "\n",
    "X_train, X_test, y_train, y_test = train_test_split(X, y, random_state=42)"
   ]
  },
  {
   "cell_type": "code",
   "execution_count": 10,
   "metadata": {},
   "outputs": [],
   "source": [
    "from sklearn.linear_model import LinearRegression\n",
    "model = LinearRegression()\n",
    "model.fit(X_train, y_train)\n",
    "training_score = model.score(X_train, y_train)\n",
    "testing_score = model.score(X_test, y_test)"
   ]
  },
  {
   "cell_type": "code",
   "execution_count": 11,
   "metadata": {},
   "outputs": [
    {
     "name": "stdout",
     "output_type": "stream",
     "text": [
      "Training Score: 0.2518655670430605\n",
      "Testing Score: 0.21361807180358272\n"
     ]
    }
   ],
   "source": [
    "print(f\"Training Score: {training_score}\")\n",
    "print(f\"Testing Score: {testing_score}\")"
   ]
  },
  {
   "cell_type": "code",
   "execution_count": 14,
   "metadata": {},
   "outputs": [
    {
     "data": {
      "text/plain": [
       "Text(0.5, 1.0, 'Residual Plot')"
      ]
     },
     "execution_count": 14,
     "metadata": {},
     "output_type": "execute_result"
    },
    {
     "data": {
      "image/png": "[encoded data removed]",
      "text/plain": [
       "<Figure size 432x288 with 1 Axes>"
      ]
     },
     "metadata": {
      "needs_background": "light"
     },
     "output_type": "display_data"
    }
   ],
   "source": [
    "plt.scatter(model.predict(X_train), model.predict(X_train) - y_train, c=\"blue\", label=\"Training Data\")\n",
    "plt.scatter(model.predict(X_test), model.predict(X_test) - y_test, c=\"orange\", label=\"Testing Data\")\n",
    "plt.legend()\n",
    "plt.hlines(y=0, xmin=y.min(), xmax=y.max())\n",
    "plt.title(\"Residual Plot\")"
   ]
  },
  {
   "cell_type": "code",
   "execution_count": 15,
   "metadata": {},
   "outputs": [
    {
     "data": {
      "text/plain": [
       "<matplotlib.collections.PathCollection at 0x2374c1926d0>"
      ]
     },
     "execution_count": 15,
     "metadata": {},
     "output_type": "execute_result"
    },
    {
     "data": {
      "image/png": "[encoded data removed]",
      "text/plain": [
       "<Figure size 432x288 with 1 Axes>"
      ]
     },
     "metadata": {
      "needs_background": "light"
     },
     "output_type": "display_data"
    }
   ],
   "source": [
    "plt.scatter(final_df['Date'], final_df['Transport_Rates'])"
   ]
  },
  {
   "cell_type": "code",
   "execution_count": 16,
   "metadata": {},
   "outputs": [
    {
     "data": {
      "text/plain": [
       "<matplotlib.collections.PathCollection at 0x2374c3b84c0>"
      ]
     },
     "execution_count": 16,
     "metadata": {},
     "output_type": "execute_result"
    },
    {
     "data": {
      "image/png": "[encoded data removed]",
      "text/plain": [
       "<Figure size 432x288 with 1 Axes>"
      ]
     },
     "metadata": {
      "needs_background": "light"
     },
     "output_type": "display_data"
    }
   ],
   "source": [
    "plt.scatter(final_df['Date'], final_df['Gas_Prices'])"
   ]
  },
  {
   "cell_type": "code",
   "execution_count": 17,
   "metadata": {},
   "outputs": [
    {
     "data": {
      "text/plain": [
       "<matplotlib.collections.PathCollection at 0x2374c589fa0>"
      ]
     },
     "execution_count": 17,
     "metadata": {},
     "output_type": "execute_result"
    },
    {
     "data": {
      "image/png": "[encoded data removed]",
      "text/plain": [
       "<Figure size 432x288 with 1 Axes>"
      ]
     },
     "metadata": {
      "needs_background": "light"
     },
     "output_type": "display_data"
    }
   ],
   "source": [
    "plt.scatter(final_df['Date'], final_df['Avocado_Prices'])"
   ]
  },
  {
   "cell_type": "code",
   "execution_count": 18,
   "metadata": {},
   "outputs": [
    {
     "data": {
      "text/plain": [
       "<matplotlib.collections.PathCollection at 0x2374c716a30>"
      ]
     },
     "execution_count": 18,
     "metadata": {},
     "output_type": "execute_result"
    },
    {
     "data": {
      "image/png": "[encoded data removed]",
      "text/plain": [
       "<Figure size 432x288 with 1 Axes>"
      ]
     },
     "metadata": {
      "needs_background": "light"
     },
     "output_type": "display_data"
    }
   ],
   "source": [
    "plt.scatter(final_df['Date'], final_df['Temperature_F'])"
   ]
  },
  {
   "cell_type": "code",
   "execution_count": 19,
   "metadata": {},
   "outputs": [
    {
     "data": {
      "text/html": [
       "<div>\n",
       "<style scoped>\n",
       "    .dataframe tbody tr th:only-of-type {\n",
       "        vertical-align: middle;\n",
       "    }\n",
       "\n",
       "    .dataframe tbody tr th {\n",
       "        vertical-align: top;\n",
       "    }\n",
       "\n",
       "    .dataframe thead th {\n",
       "        text-align: right;\n",
       "    }\n",
       "</style>\n",
       "<table border=\"1\" class=\"dataframe\">\n",
       "  <thead>\n",
       "    <tr style=\"text-align: right;\">\n",
       "      <th></th>\n",
       "      <th>Rate Per Mile</th>\n",
       "      <th>Gasoline - All Grades</th>\n",
       "      <th>Avo Average Price</th>\n",
       "      <th>Temp (F)</th>\n",
       "      <th>Transport_Rates</th>\n",
       "      <th>Gas_Prices</th>\n",
       "      <th>Avocado_Prices</th>\n",
       "      <th>Temperature_F</th>\n",
       "    </tr>\n",
       "  </thead>\n",
       "  <tbody>\n",
       "    <tr>\n",
       "      <th>Rate Per Mile</th>\n",
       "      <td>1.000000</td>\n",
       "      <td>0.686623</td>\n",
       "      <td>-0.177164</td>\n",
       "      <td>0.019951</td>\n",
       "      <td>1.000000</td>\n",
       "      <td>0.686623</td>\n",
       "      <td>-0.339777</td>\n",
       "      <td>0.019951</td>\n",
       "    </tr>\n",
       "    <tr>\n",
       "      <th>Gasoline - All Grades</th>\n",
       "      <td>0.686623</td>\n",
       "      <td>1.000000</td>\n",
       "      <td>0.327085</td>\n",
       "      <td>0.260897</td>\n",
       "      <td>0.440535</td>\n",
       "      <td>1.000000</td>\n",
       "      <td>0.156683</td>\n",
       "      <td>0.260897</td>\n",
       "    </tr>\n",
       "    <tr>\n",
       "      <th>Avo Average Price</th>\n",
       "      <td>-0.177164</td>\n",
       "      <td>0.327085</td>\n",
       "      <td>1.000000</td>\n",
       "      <td>0.431564</td>\n",
       "      <td>-0.268752</td>\n",
       "      <td>0.327085</td>\n",
       "      <td>1.000000</td>\n",
       "      <td>0.431564</td>\n",
       "    </tr>\n",
       "    <tr>\n",
       "      <th>Temp (F)</th>\n",
       "      <td>0.019951</td>\n",
       "      <td>0.260897</td>\n",
       "      <td>0.431564</td>\n",
       "      <td>1.000000</td>\n",
       "      <td>0.015311</td>\n",
       "      <td>0.260897</td>\n",
       "      <td>0.370747</td>\n",
       "      <td>1.000000</td>\n",
       "    </tr>\n",
       "    <tr>\n",
       "      <th>Transport_Rates</th>\n",
       "      <td>1.000000</td>\n",
       "      <td>0.440535</td>\n",
       "      <td>-0.268752</td>\n",
       "      <td>0.015311</td>\n",
       "      <td>1.000000</td>\n",
       "      <td>0.440535</td>\n",
       "      <td>-0.270286</td>\n",
       "      <td>0.015311</td>\n",
       "    </tr>\n",
       "    <tr>\n",
       "      <th>Gas_Prices</th>\n",
       "      <td>0.686623</td>\n",
       "      <td>1.000000</td>\n",
       "      <td>0.327085</td>\n",
       "      <td>0.260897</td>\n",
       "      <td>0.440535</td>\n",
       "      <td>1.000000</td>\n",
       "      <td>0.156683</td>\n",
       "      <td>0.260897</td>\n",
       "    </tr>\n",
       "    <tr>\n",
       "      <th>Avocado_Prices</th>\n",
       "      <td>-0.339777</td>\n",
       "      <td>0.156683</td>\n",
       "      <td>1.000000</td>\n",
       "      <td>0.370747</td>\n",
       "      <td>-0.270286</td>\n",
       "      <td>0.156683</td>\n",
       "      <td>1.000000</td>\n",
       "      <td>0.370747</td>\n",
       "    </tr>\n",
       "    <tr>\n",
       "      <th>Temperature_F</th>\n",
       "      <td>0.019951</td>\n",
       "      <td>0.260897</td>\n",
       "      <td>0.431564</td>\n",
       "      <td>1.000000</td>\n",
       "      <td>0.015311</td>\n",
       "      <td>0.260897</td>\n",
       "      <td>0.370747</td>\n",
       "      <td>1.000000</td>\n",
       "    </tr>\n",
       "  </tbody>\n",
       "</table>\n",
       "</div>"
      ],
      "text/plain": [
       "                       Rate Per Mile  Gasoline - All Grades  \\\n",
       "Rate Per Mile               1.000000               0.686623   \n",
       "Gasoline - All Grades       0.686623               1.000000   \n",
       "Avo Average Price          -0.177164               0.327085   \n",
       "Temp (F)                    0.019951               0.260897   \n",
       "Transport_Rates             1.000000               0.440535   \n",
       "Gas_Prices                  0.686623               1.000000   \n",
       "Avocado_Prices             -0.339777               0.156683   \n",
       "Temperature_F               0.019951               0.260897   \n",
       "\n",
       "                       Avo Average Price  Temp (F)  Transport_Rates  \\\n",
       "Rate Per Mile                  -0.177164  0.019951         1.000000   \n",
       "Gasoline - All Grades           0.327085  0.260897         0.440535   \n",
       "Avo Average Price               1.000000  0.431564        -0.268752   \n",
       "Temp (F)                        0.431564  1.000000         0.015311   \n",
       "Transport_Rates                -0.268752  0.015311         1.000000   \n",
       "Gas_Prices                      0.327085  0.260897         0.440535   \n",
       "Avocado_Prices                  1.000000  0.370747        -0.270286   \n",
       "Temperature_F                   0.431564  1.000000         0.015311   \n",
       "\n",
       "                       Gas_Prices  Avocado_Prices  Temperature_F  \n",
       "Rate Per Mile            0.686623       -0.339777       0.019951  \n",
       "Gasoline - All Grades    1.000000        0.156683       0.260897  \n",
       "Avo Average Price        0.327085        1.000000       0.431564  \n",
       "Temp (F)                 0.260897        0.370747       1.000000  \n",
       "Transport_Rates          0.440535       -0.270286       0.015311  \n",
       "Gas_Prices               1.000000        0.156683       0.260897  \n",
       "Avocado_Prices           0.156683        1.000000       0.370747  \n",
       "Temperature_F            0.260897        0.370747       1.000000  "
      ]
     },
     "execution_count": 19,
     "metadata": {},
     "output_type": "execute_result"
    }
   ],
   "source": [
    "final_df.corr()"
   ]
  },
  {
   "cell_type": "code",
   "execution_count": 20,
   "metadata": {},
   "outputs": [
    {
     "data": {
      "image/png": "[encoded data removed]",
      "text/plain": [
       "<Figure size 288x288 with 1 Axes>"
      ]
     },
     "metadata": {
      "needs_background": "light"
     },
     "output_type": "display_data"
    }
   ],
   "source": [
    "plt.matshow(final_df.corr())\n",
    "plt.show()"
   ]
  },
  {
   "cell_type": "code",
   "execution_count": 21,
   "metadata": {},
   "outputs": [],
   "source": [
    "a_final_df = final_df.set_index('Date')"
   ]
  },
  {
   "cell_type": "code",
   "execution_count": 22,
   "metadata": {},
   "outputs": [],
   "source": [
    "a_final_df.index = pd.to_datetime(a_final_df.index)"
   ]
  },
  {
   "cell_type": "code",
   "execution_count": 23,
   "metadata": {},
   "outputs": [
    {
     "data": {
      "image/png": "[encoded data removed]",
      "text/plain": [
       "<Figure size 432x288 with 4 Axes>"
      ]
     },
     "metadata": {
      "needs_background": "light"
     },
     "output_type": "display_data"
    }
   ],
   "source": [
    "import plotly\n",
    "# import chart_studio.plotly as py\n",
    "# import plotly.graph_objects as go\n",
    "from  plotly.offline import plot\n",
    "import cufflinks as cf\n",
    "from statsmodels.tsa.seasonal import seasonal_decompose\n",
    "result = seasonal_decompose(a_final_df['Avocado_Prices'], model='multiplicative', period=52)\n",
    "fig = result.plot()\n",
    "# py.iplot(fig)"
   ]
  },
  {
   "cell_type": "code",
   "execution_count": 40,
   "metadata": {},
   "outputs": [],
   "source": [
    "train = a_final_df['Avocado_Prices'].loc['2015-01-01':'2017-07-31']\n",
    "test = a_final_df['Avocado_Prices'].loc['2017-08-01':'2018-03-26']"
   ]
  },
  {
   "cell_type": "code",
   "execution_count": 34,
   "metadata": {},
   "outputs": [
    {
     "name": "stdout",
     "output_type": "stream",
     "text": [
      "Performing stepwise search to minimize aic\n",
      " ARIMA(1,1,1)(0,1,1)[12]             : AIC=inf, Time=0.91 sec\n",
      " ARIMA(0,1,0)(0,1,0)[12]             : AIC=-388.695, Time=0.03 sec\n",
      " ARIMA(1,1,0)(1,1,0)[12]             : AIC=-429.176, Time=0.26 sec\n",
      " ARIMA(0,1,1)(0,1,1)[12]             : AIC=inf, Time=0.77 sec\n",
      " ARIMA(1,1,0)(0,1,0)[12]             : AIC=-386.696, Time=0.03 sec\n",
      " ARIMA(1,1,0)(2,1,0)[12]             : AIC=-444.610, Time=0.53 sec\n",
      " ARIMA(1,1,0)(2,1,1)[12]             : AIC=inf, Time=2.60 sec\n",
      " ARIMA(1,1,0)(1,1,1)[12]             : AIC=inf, Time=0.98 sec\n",
      " ARIMA(0,1,0)(2,1,0)[12]             : AIC=-446.603, Time=0.38 sec\n",
      " ARIMA(0,1,0)(1,1,0)[12]             : AIC=-431.165, Time=0.18 sec\n",
      " ARIMA(0,1,0)(2,1,1)[12]             : AIC=inf, Time=1.80 sec\n",
      " ARIMA(0,1,0)(1,1,1)[12]             : AIC=inf, Time=0.97 sec\n",
      " ARIMA(0,1,1)(2,1,0)[12]             : AIC=-444.610, Time=0.36 sec\n",
      " ARIMA(1,1,1)(2,1,0)[12]             : AIC=inf, Time=2.14 sec\n",
      " ARIMA(0,1,0)(2,1,0)[12] intercept   : AIC=-444.611, Time=0.87 sec\n",
      "\n",
      "Best model:  ARIMA(0,1,0)(2,1,0)[12]          \n",
      "Total fit time: 12.805 seconds\n",
      "-446.60310310215584\n"
     ]
    }
   ],
   "source": [
    "from pmdarima.arima import auto_arima\n",
    "# from pmdarima.model_selection import train_test_split\n",
    "stepwise_model = auto_arima(a_final_df['Avocado_Prices'], start_p=1, start_q=1,\n",
    "                           max_p=3, max_q=3, m=12,\n",
    "                           start_P=0, seasonal=True,\n",
    "                           d=1, D=1, trace=True,\n",
    "                           error_action='ignore',  \n",
    "                           suppress_warnings=True, \n",
    "                           stepwise=True)\n",
    "print(stepwise_model.aic())"
   ]
  },
  {
   "cell_type": "code",
   "execution_count": 41,
   "metadata": {},
   "outputs": [
    {
     "data": {
      "text/plain": [
       "ARIMA(order=(0, 1, 0), scoring_args={}, seasonal_order=(2, 1, 0, 12),\n",
       "      suppress_warnings=True, with_intercept=False)"
      ]
     },
     "execution_count": 41,
     "metadata": {},
     "output_type": "execute_result"
    }
   ],
   "source": [
    "stepwise_model.fit(train)"
   ]
  },
  {
   "cell_type": "code",
   "execution_count": 42,
   "metadata": {},
   "outputs": [
    {
     "data": {
      "text/plain": [
       "(135,)"
      ]
     },
     "execution_count": 42,
     "metadata": {},
     "output_type": "execute_result"
    }
   ],
   "source": [
    "train.shape"
   ]
  },
  {
   "cell_type": "code",
   "execution_count": 43,
   "metadata": {},
   "outputs": [
    {
     "data": {
      "text/plain": [
       "(34,)"
      ]
     },
     "execution_count": 43,
     "metadata": {},
     "output_type": "execute_result"
    }
   ],
   "source": [
    "test.shape"
   ]
  },
  {
   "cell_type": "code",
   "execution_count": 44,
   "metadata": {},
   "outputs": [
    {
     "name": "stdout",
     "output_type": "stream",
     "text": [
      "[1.36888016 1.3145611  1.3599604  1.37033953 1.38552902 1.33328903\n",
      " 1.35635897 1.36502931 1.34494893 1.38469053 1.3099607  1.31925118\n",
      " 1.41077693 1.41734009 1.48845767 1.51085424 1.51638768 1.48677979\n",
      " 1.47971257 1.49565418 1.48342955 1.53069961 1.50111707 1.47479942\n",
      " 1.5552263  1.56447754 1.60860346 1.60448527 1.60039694 1.56313379\n",
      " 1.56501318 1.58722581 1.56236627 1.64783223]\n"
     ]
    }
   ],
   "source": [
    "future_forecast = stepwise_model.predict(n_periods=34)\n",
    "# This returns an array of predictions:\n",
    "print(future_forecast)"
   ]
  },
  {
   "cell_type": "code",
   "execution_count": 45,
   "metadata": {},
   "outputs": [
    {
     "data": {
      "text/plain": [
       "<matplotlib.axes._subplots.AxesSubplot at 0x2374e6e8760>"
      ]
     },
     "execution_count": 45,
     "metadata": {},
     "output_type": "execute_result"
    },
    {
     "data": {
      "image/png": "[encoded data removed]",
      "text/plain": [
       "<Figure size 432x288 with 1 Axes>"
      ]
     },
     "metadata": {
      "needs_background": "light"
     },
     "output_type": "display_data"
    }
   ],
   "source": [
    "future_forecast = pd.DataFrame(future_forecast,index = test.index,columns=['Predictions'])\n",
    "pd.concat([test,future_forecast],axis=1).plot()"
   ]
  },
  {
   "cell_type": "code",
   "execution_count": null,
   "metadata": {},
   "outputs": [],
   "source": []
  }
 ],
 "metadata": {
  "kernelspec": {
   "display_name": "Python [conda env:PythonData] *",
   "language": "python",
   "name": "conda-env-PythonData-py"
  },
  "language_info": {
   "codemirror_mode": {
    "name": "ipython",
    "version": 3
   },
   "file_extension": ".py",
   "mimetype": "text/x-python",
   "name": "python",
   "nbconvert_exporter": "python",
   "pygments_lexer": "ipython3",
   "version": "3.8.2"
  }
 },
 "nbformat": 4,
 "nbformat_minor": 4
}
